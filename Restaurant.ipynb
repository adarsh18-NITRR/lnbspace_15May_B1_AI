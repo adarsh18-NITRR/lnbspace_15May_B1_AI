{
 "cells": [
  {
   "cell_type": "code",
   "execution_count": 1,
   "id": "ae530e02-cd40-4b3a-bb77-f44043118b74",
   "metadata": {},
   "outputs": [],
   "source": [
    "import pandas as pd"
   ]
  },
  {
   "cell_type": "code",
   "execution_count": 156,
   "id": "e752cba1-b822-498f-b6ff-3ae2cb5c4cf2",
   "metadata": {},
   "outputs": [],
   "source": [
    "import matplotlib.pyplot as plt"
   ]
  },
  {
   "cell_type": "code",
   "execution_count": 2,
   "id": "24e91e12-46f5-427c-80d1-32f355e047c5",
   "metadata": {},
   "outputs": [],
   "source": [
    "df = pd.read_csv('train.csv')"
   ]
  },
  {
   "cell_type": "code",
   "execution_count": 3,
   "id": "78a67654-5d5c-453e-a570-aa570b26bdd5",
   "metadata": {},
   "outputs": [],
   "source": [
    "del df['Id']"
   ]
  },
  {
   "cell_type": "code",
   "execution_count": 4,
   "id": "6faa95bd-1682-49ae-bddb-128b6e3e60e9",
   "metadata": {},
   "outputs": [
    {
     "data": {
      "text/html": [
       "<div>\n",
       "<style scoped>\n",
       "    .dataframe tbody tr th:only-of-type {\n",
       "        vertical-align: middle;\n",
       "    }\n",
       "\n",
       "    .dataframe tbody tr th {\n",
       "        vertical-align: top;\n",
       "    }\n",
       "\n",
       "    .dataframe thead th {\n",
       "        text-align: right;\n",
       "    }\n",
       "</style>\n",
       "<table border=\"1\" class=\"dataframe\">\n",
       "  <thead>\n",
       "    <tr style=\"text-align: right;\">\n",
       "      <th></th>\n",
       "      <th>Open Date</th>\n",
       "      <th>City</th>\n",
       "      <th>City Group</th>\n",
       "      <th>Type</th>\n",
       "      <th>P1</th>\n",
       "      <th>P2</th>\n",
       "      <th>P3</th>\n",
       "      <th>P4</th>\n",
       "      <th>P5</th>\n",
       "      <th>P6</th>\n",
       "      <th>...</th>\n",
       "      <th>P29</th>\n",
       "      <th>P30</th>\n",
       "      <th>P31</th>\n",
       "      <th>P32</th>\n",
       "      <th>P33</th>\n",
       "      <th>P34</th>\n",
       "      <th>P35</th>\n",
       "      <th>P36</th>\n",
       "      <th>P37</th>\n",
       "      <th>revenue</th>\n",
       "    </tr>\n",
       "  </thead>\n",
       "  <tbody>\n",
       "    <tr>\n",
       "      <th>0</th>\n",
       "      <td>07/17/1999</td>\n",
       "      <td>İstanbul</td>\n",
       "      <td>Big Cities</td>\n",
       "      <td>IL</td>\n",
       "      <td>4</td>\n",
       "      <td>5.0</td>\n",
       "      <td>4.0</td>\n",
       "      <td>4.0</td>\n",
       "      <td>2</td>\n",
       "      <td>2</td>\n",
       "      <td>...</td>\n",
       "      <td>3.0</td>\n",
       "      <td>5</td>\n",
       "      <td>3</td>\n",
       "      <td>4</td>\n",
       "      <td>5</td>\n",
       "      <td>5</td>\n",
       "      <td>4</td>\n",
       "      <td>3</td>\n",
       "      <td>4</td>\n",
       "      <td>5653753.0</td>\n",
       "    </tr>\n",
       "    <tr>\n",
       "      <th>1</th>\n",
       "      <td>02/14/2008</td>\n",
       "      <td>Ankara</td>\n",
       "      <td>Big Cities</td>\n",
       "      <td>FC</td>\n",
       "      <td>4</td>\n",
       "      <td>5.0</td>\n",
       "      <td>4.0</td>\n",
       "      <td>4.0</td>\n",
       "      <td>1</td>\n",
       "      <td>2</td>\n",
       "      <td>...</td>\n",
       "      <td>3.0</td>\n",
       "      <td>0</td>\n",
       "      <td>0</td>\n",
       "      <td>0</td>\n",
       "      <td>0</td>\n",
       "      <td>0</td>\n",
       "      <td>0</td>\n",
       "      <td>0</td>\n",
       "      <td>0</td>\n",
       "      <td>6923131.0</td>\n",
       "    </tr>\n",
       "    <tr>\n",
       "      <th>2</th>\n",
       "      <td>03/09/2013</td>\n",
       "      <td>Diyarbakır</td>\n",
       "      <td>Other</td>\n",
       "      <td>IL</td>\n",
       "      <td>2</td>\n",
       "      <td>4.0</td>\n",
       "      <td>2.0</td>\n",
       "      <td>5.0</td>\n",
       "      <td>2</td>\n",
       "      <td>3</td>\n",
       "      <td>...</td>\n",
       "      <td>3.0</td>\n",
       "      <td>0</td>\n",
       "      <td>0</td>\n",
       "      <td>0</td>\n",
       "      <td>0</td>\n",
       "      <td>0</td>\n",
       "      <td>0</td>\n",
       "      <td>0</td>\n",
       "      <td>0</td>\n",
       "      <td>2055379.0</td>\n",
       "    </tr>\n",
       "    <tr>\n",
       "      <th>3</th>\n",
       "      <td>02/02/2012</td>\n",
       "      <td>Tokat</td>\n",
       "      <td>Other</td>\n",
       "      <td>IL</td>\n",
       "      <td>6</td>\n",
       "      <td>4.5</td>\n",
       "      <td>6.0</td>\n",
       "      <td>6.0</td>\n",
       "      <td>4</td>\n",
       "      <td>4</td>\n",
       "      <td>...</td>\n",
       "      <td>7.5</td>\n",
       "      <td>25</td>\n",
       "      <td>12</td>\n",
       "      <td>10</td>\n",
       "      <td>6</td>\n",
       "      <td>18</td>\n",
       "      <td>12</td>\n",
       "      <td>12</td>\n",
       "      <td>6</td>\n",
       "      <td>2675511.0</td>\n",
       "    </tr>\n",
       "    <tr>\n",
       "      <th>4</th>\n",
       "      <td>05/09/2009</td>\n",
       "      <td>Gaziantep</td>\n",
       "      <td>Other</td>\n",
       "      <td>IL</td>\n",
       "      <td>3</td>\n",
       "      <td>4.0</td>\n",
       "      <td>3.0</td>\n",
       "      <td>4.0</td>\n",
       "      <td>2</td>\n",
       "      <td>2</td>\n",
       "      <td>...</td>\n",
       "      <td>3.0</td>\n",
       "      <td>5</td>\n",
       "      <td>1</td>\n",
       "      <td>3</td>\n",
       "      <td>2</td>\n",
       "      <td>3</td>\n",
       "      <td>4</td>\n",
       "      <td>3</td>\n",
       "      <td>3</td>\n",
       "      <td>4316715.0</td>\n",
       "    </tr>\n",
       "    <tr>\n",
       "      <th>...</th>\n",
       "      <td>...</td>\n",
       "      <td>...</td>\n",
       "      <td>...</td>\n",
       "      <td>...</td>\n",
       "      <td>...</td>\n",
       "      <td>...</td>\n",
       "      <td>...</td>\n",
       "      <td>...</td>\n",
       "      <td>...</td>\n",
       "      <td>...</td>\n",
       "      <td>...</td>\n",
       "      <td>...</td>\n",
       "      <td>...</td>\n",
       "      <td>...</td>\n",
       "      <td>...</td>\n",
       "      <td>...</td>\n",
       "      <td>...</td>\n",
       "      <td>...</td>\n",
       "      <td>...</td>\n",
       "      <td>...</td>\n",
       "      <td>...</td>\n",
       "    </tr>\n",
       "    <tr>\n",
       "      <th>132</th>\n",
       "      <td>06/25/2008</td>\n",
       "      <td>Trabzon</td>\n",
       "      <td>Other</td>\n",
       "      <td>FC</td>\n",
       "      <td>2</td>\n",
       "      <td>3.0</td>\n",
       "      <td>3.0</td>\n",
       "      <td>5.0</td>\n",
       "      <td>4</td>\n",
       "      <td>2</td>\n",
       "      <td>...</td>\n",
       "      <td>3.0</td>\n",
       "      <td>0</td>\n",
       "      <td>0</td>\n",
       "      <td>0</td>\n",
       "      <td>0</td>\n",
       "      <td>0</td>\n",
       "      <td>0</td>\n",
       "      <td>0</td>\n",
       "      <td>0</td>\n",
       "      <td>5787594.0</td>\n",
       "    </tr>\n",
       "    <tr>\n",
       "      <th>133</th>\n",
       "      <td>10/12/2006</td>\n",
       "      <td>İzmir</td>\n",
       "      <td>Big Cities</td>\n",
       "      <td>FC</td>\n",
       "      <td>4</td>\n",
       "      <td>5.0</td>\n",
       "      <td>4.0</td>\n",
       "      <td>4.0</td>\n",
       "      <td>2</td>\n",
       "      <td>3</td>\n",
       "      <td>...</td>\n",
       "      <td>3.0</td>\n",
       "      <td>0</td>\n",
       "      <td>0</td>\n",
       "      <td>0</td>\n",
       "      <td>0</td>\n",
       "      <td>0</td>\n",
       "      <td>0</td>\n",
       "      <td>0</td>\n",
       "      <td>0</td>\n",
       "      <td>9262754.0</td>\n",
       "    </tr>\n",
       "    <tr>\n",
       "      <th>134</th>\n",
       "      <td>07/08/2006</td>\n",
       "      <td>Kayseri</td>\n",
       "      <td>Other</td>\n",
       "      <td>FC</td>\n",
       "      <td>3</td>\n",
       "      <td>4.0</td>\n",
       "      <td>4.0</td>\n",
       "      <td>4.0</td>\n",
       "      <td>2</td>\n",
       "      <td>3</td>\n",
       "      <td>...</td>\n",
       "      <td>3.0</td>\n",
       "      <td>0</td>\n",
       "      <td>0</td>\n",
       "      <td>0</td>\n",
       "      <td>0</td>\n",
       "      <td>0</td>\n",
       "      <td>0</td>\n",
       "      <td>0</td>\n",
       "      <td>0</td>\n",
       "      <td>2544857.0</td>\n",
       "    </tr>\n",
       "    <tr>\n",
       "      <th>135</th>\n",
       "      <td>10/29/2010</td>\n",
       "      <td>İstanbul</td>\n",
       "      <td>Big Cities</td>\n",
       "      <td>FC</td>\n",
       "      <td>4</td>\n",
       "      <td>5.0</td>\n",
       "      <td>4.0</td>\n",
       "      <td>5.0</td>\n",
       "      <td>2</td>\n",
       "      <td>2</td>\n",
       "      <td>...</td>\n",
       "      <td>3.0</td>\n",
       "      <td>0</td>\n",
       "      <td>0</td>\n",
       "      <td>0</td>\n",
       "      <td>0</td>\n",
       "      <td>0</td>\n",
       "      <td>0</td>\n",
       "      <td>0</td>\n",
       "      <td>0</td>\n",
       "      <td>7217634.0</td>\n",
       "    </tr>\n",
       "    <tr>\n",
       "      <th>136</th>\n",
       "      <td>09/01/2009</td>\n",
       "      <td>İstanbul</td>\n",
       "      <td>Big Cities</td>\n",
       "      <td>FC</td>\n",
       "      <td>4</td>\n",
       "      <td>5.0</td>\n",
       "      <td>3.0</td>\n",
       "      <td>5.0</td>\n",
       "      <td>2</td>\n",
       "      <td>2</td>\n",
       "      <td>...</td>\n",
       "      <td>3.0</td>\n",
       "      <td>0</td>\n",
       "      <td>0</td>\n",
       "      <td>0</td>\n",
       "      <td>0</td>\n",
       "      <td>0</td>\n",
       "      <td>0</td>\n",
       "      <td>0</td>\n",
       "      <td>0</td>\n",
       "      <td>6363241.0</td>\n",
       "    </tr>\n",
       "  </tbody>\n",
       "</table>\n",
       "<p>137 rows × 42 columns</p>\n",
       "</div>"
      ],
      "text/plain": [
       "      Open Date        City  City Group Type  P1   P2   P3   P4  P5  P6  ...  \\\n",
       "0    07/17/1999    İstanbul  Big Cities   IL   4  5.0  4.0  4.0   2   2  ...   \n",
       "1    02/14/2008      Ankara  Big Cities   FC   4  5.0  4.0  4.0   1   2  ...   \n",
       "2    03/09/2013  Diyarbakır       Other   IL   2  4.0  2.0  5.0   2   3  ...   \n",
       "3    02/02/2012       Tokat       Other   IL   6  4.5  6.0  6.0   4   4  ...   \n",
       "4    05/09/2009   Gaziantep       Other   IL   3  4.0  3.0  4.0   2   2  ...   \n",
       "..          ...         ...         ...  ...  ..  ...  ...  ...  ..  ..  ...   \n",
       "132  06/25/2008     Trabzon       Other   FC   2  3.0  3.0  5.0   4   2  ...   \n",
       "133  10/12/2006       İzmir  Big Cities   FC   4  5.0  4.0  4.0   2   3  ...   \n",
       "134  07/08/2006     Kayseri       Other   FC   3  4.0  4.0  4.0   2   3  ...   \n",
       "135  10/29/2010    İstanbul  Big Cities   FC   4  5.0  4.0  5.0   2   2  ...   \n",
       "136  09/01/2009    İstanbul  Big Cities   FC   4  5.0  3.0  5.0   2   2  ...   \n",
       "\n",
       "     P29  P30  P31  P32  P33  P34  P35  P36  P37    revenue  \n",
       "0    3.0    5    3    4    5    5    4    3    4  5653753.0  \n",
       "1    3.0    0    0    0    0    0    0    0    0  6923131.0  \n",
       "2    3.0    0    0    0    0    0    0    0    0  2055379.0  \n",
       "3    7.5   25   12   10    6   18   12   12    6  2675511.0  \n",
       "4    3.0    5    1    3    2    3    4    3    3  4316715.0  \n",
       "..   ...  ...  ...  ...  ...  ...  ...  ...  ...        ...  \n",
       "132  3.0    0    0    0    0    0    0    0    0  5787594.0  \n",
       "133  3.0    0    0    0    0    0    0    0    0  9262754.0  \n",
       "134  3.0    0    0    0    0    0    0    0    0  2544857.0  \n",
       "135  3.0    0    0    0    0    0    0    0    0  7217634.0  \n",
       "136  3.0    0    0    0    0    0    0    0    0  6363241.0  \n",
       "\n",
       "[137 rows x 42 columns]"
      ]
     },
     "execution_count": 4,
     "metadata": {},
     "output_type": "execute_result"
    }
   ],
   "source": [
    "df"
   ]
  },
  {
   "cell_type": "code",
   "execution_count": 5,
   "id": "a5c8c72a-880f-40f6-b3a6-ba411f178f62",
   "metadata": {},
   "outputs": [],
   "source": [
    "df['Open Date'] = df['Open Date'].apply(lambda x:str(x)[-4:])"
   ]
  },
  {
   "cell_type": "code",
   "execution_count": 6,
   "id": "3e0118d3-9274-45c3-823d-a210864f202c",
   "metadata": {},
   "outputs": [],
   "source": [
    "df['Open Date'] = df['Open Date'].apply(lambda x:int(x))"
   ]
  },
  {
   "cell_type": "code",
   "execution_count": 7,
   "id": "7b2691e3-898e-4446-a04c-ce1e15801c0b",
   "metadata": {},
   "outputs": [],
   "source": [
    "df['City Group'] = df['City Group'].map({'Big Cities':0, 'Other':1})"
   ]
  },
  {
   "cell_type": "code",
   "execution_count": 8,
   "id": "7419ce65-fe7e-47a1-a1a1-339a1fe146f4",
   "metadata": {},
   "outputs": [],
   "source": [
    "df['Type'] = df['Type'].map({'FC':0, 'IL':1, 'DT':2})"
   ]
  },
  {
   "cell_type": "code",
   "execution_count": 22,
   "id": "1cc2df80-58cb-419e-b019-36637e54acb2",
   "metadata": {},
   "outputs": [],
   "source": [
    "df1 =  pd.read_csv('train.csv')"
   ]
  },
  {
   "cell_type": "code",
   "execution_count": 26,
   "id": "79efe561-b482-4089-b800-bf2ac513e489",
   "metadata": {},
   "outputs": [
    {
     "data": {
      "text/plain": [
       "'14'"
      ]
     },
     "execution_count": 26,
     "metadata": {},
     "output_type": "execute_result"
    }
   ],
   "source": [
    "df1['Open Date'][1][3:5]"
   ]
  },
  {
   "cell_type": "code",
   "execution_count": 119,
   "id": "07900ad6-5872-47fc-97c0-2919fd5ac811",
   "metadata": {},
   "outputs": [
    {
     "data": {
      "text/plain": [
       "0      07\n",
       "1      02\n",
       "2      03\n",
       "3      02\n",
       "4      05\n",
       "       ..\n",
       "132    06\n",
       "133    10\n",
       "134    07\n",
       "135    10\n",
       "136    09\n",
       "Name: Open Date, Length: 137, dtype: object"
      ]
     },
     "execution_count": 119,
     "metadata": {},
     "output_type": "execute_result"
    }
   ],
   "source": [
    "Month = df1['Open Date'].apply(lambda x:str(x)[0:2])\n",
    "Month"
   ]
  },
  {
   "cell_type": "code",
   "execution_count": 40,
   "id": "90ddea08-23d1-4fef-9511-5d52c8ce5601",
   "metadata": {},
   "outputs": [
    {
     "data": {
      "text/plain": [
       "0      1999\n",
       "1      2008\n",
       "2      2013\n",
       "3      2012\n",
       "4      2009\n",
       "       ... \n",
       "132    2008\n",
       "133    2006\n",
       "134    2006\n",
       "135    2010\n",
       "136    2009\n",
       "Name: Open Date, Length: 137, dtype: object"
      ]
     },
     "execution_count": 40,
     "metadata": {},
     "output_type": "execute_result"
    }
   ],
   "source": [
    "Year = df1['Open Date'].apply(lambda x:str(x)[-4:])\n",
    "Year"
   ]
  },
  {
   "cell_type": "code",
   "execution_count": 120,
   "id": "ea14944a-d1c0-4ac4-8616-16adb50b7e7f",
   "metadata": {},
   "outputs": [],
   "source": [
    "df = pd.concat([df,pd.DataFrame(Month)],axis=1)"
   ]
  },
  {
   "cell_type": "code",
   "execution_count": 36,
   "id": "f747dad2-01dc-4668-a0fd-d6a6e8cc77b1",
   "metadata": {},
   "outputs": [],
   "source": [
    "del df['Open Date']"
   ]
  },
  {
   "cell_type": "code",
   "execution_count": 49,
   "id": "ccf5fd0c-131e-4e33-aad9-0cc220777df5",
   "metadata": {},
   "outputs": [
    {
     "ename": "SyntaxError",
     "evalue": "invalid syntax (<ipython-input-49-2b91c9dada72>, line 1)",
     "output_type": "error",
     "traceback": [
      "\u001b[1;36m  File \u001b[1;32m\"<ipython-input-49-2b91c9dada72>\"\u001b[1;36m, line \u001b[1;32m1\u001b[0m\n\u001b[1;33m    df = pd.concat([df,Year as Years], axis=1)\u001b[0m\n\u001b[1;37m                            ^\u001b[0m\n\u001b[1;31mSyntaxError\u001b[0m\u001b[1;31m:\u001b[0m invalid syntax\n"
     ]
    }
   ],
   "source": [
    "df = pd.concat([df,Year], axis=1)"
   ]
  },
  {
   "cell_type": "code",
   "execution_count": 52,
   "id": "f90b0726-797b-40cd-8b46-ad6edf98d722",
   "metadata": {},
   "outputs": [],
   "source": [
    "del df['Open Date']"
   ]
  },
  {
   "cell_type": "code",
   "execution_count": 54,
   "id": "5aeaa777-f5b2-4ff4-bb14-26e17e944b65",
   "metadata": {},
   "outputs": [],
   "source": [
    "df['Year'] = Year"
   ]
  },
  {
   "cell_type": "code",
   "execution_count": 59,
   "id": "3b064b4e-21d6-4872-a9b7-abffab0d742e",
   "metadata": {},
   "outputs": [],
   "source": [
    "df['Year'] = df['Year'].apply(lambda x:int(x))"
   ]
  },
  {
   "cell_type": "code",
   "execution_count": 147,
   "id": "f9a1feaf-9990-4abb-92a6-ec258474dbf8",
   "metadata": {},
   "outputs": [],
   "source": [
    "del df['Open Date']"
   ]
  },
  {
   "cell_type": "code",
   "execution_count": 69,
   "id": "e94f9637-9b27-4c97-b348-94c104f7439b",
   "metadata": {},
   "outputs": [],
   "source": [
    "df = pd.concat([df,df['City'].str.get_dummies()], axis=1)"
   ]
  },
  {
   "cell_type": "code",
   "execution_count": 148,
   "id": "6f6da758-ff73-4e37-b7ff-7aa1425d7b74",
   "metadata": {},
   "outputs": [
    {
     "name": "stdout",
     "output_type": "stream",
     "text": [
      "<class 'pandas.core.frame.DataFrame'>\n",
      "Int64Index: 136 entries, 0 to 136\n",
      "Data columns (total 42 columns):\n",
      " #   Column      Non-Null Count  Dtype  \n",
      "---  ------      --------------  -----  \n",
      " 0   City        136 non-null    object \n",
      " 1   City Group  136 non-null    float64\n",
      " 2   Type        136 non-null    float64\n",
      " 3   P1          136 non-null    float64\n",
      " 4   P2          136 non-null    float64\n",
      " 5   P3          136 non-null    float64\n",
      " 6   P4          136 non-null    float64\n",
      " 7   P5          136 non-null    float64\n",
      " 8   P6          136 non-null    float64\n",
      " 9   P7          136 non-null    float64\n",
      " 10  P8          136 non-null    float64\n",
      " 11  P9          136 non-null    float64\n",
      " 12  P10         136 non-null    float64\n",
      " 13  P11         136 non-null    float64\n",
      " 14  P12         136 non-null    float64\n",
      " 15  P13         136 non-null    float64\n",
      " 16  P14         136 non-null    float64\n",
      " 17  P15         136 non-null    float64\n",
      " 18  P16         136 non-null    float64\n",
      " 19  P17         136 non-null    float64\n",
      " 20  P18         136 non-null    float64\n",
      " 21  P19         136 non-null    float64\n",
      " 22  P20         136 non-null    float64\n",
      " 23  P21         136 non-null    float64\n",
      " 24  P22         136 non-null    float64\n",
      " 25  P23         136 non-null    float64\n",
      " 26  P24         136 non-null    float64\n",
      " 27  P25         136 non-null    float64\n",
      " 28  P26         136 non-null    float64\n",
      " 29  P27         136 non-null    float64\n",
      " 30  P28         136 non-null    float64\n",
      " 31  P29         136 non-null    float64\n",
      " 32  P30         136 non-null    float64\n",
      " 33  P31         136 non-null    float64\n",
      " 34  P32         136 non-null    float64\n",
      " 35  P33         136 non-null    float64\n",
      " 36  P34         136 non-null    float64\n",
      " 37  P35         136 non-null    float64\n",
      " 38  P36         136 non-null    float64\n",
      " 39  P37         136 non-null    float64\n",
      " 40  revenue     136 non-null    float64\n",
      " 41  Year        136 non-null    float64\n",
      "dtypes: float64(41), object(1)\n",
      "memory usage: 45.7+ KB\n"
     ]
    }
   ],
   "source": [
    "df.info()"
   ]
  },
  {
   "cell_type": "raw",
   "id": "26b6c92f-bed4-4ae1-9987-29e6e20f15bd",
   "metadata": {},
   "source": [
    "df['City'].value_counts()"
   ]
  },
  {
   "cell_type": "code",
   "execution_count": 83,
   "id": "b843f10d-3e65-4ca8-a310-0d1c1ff3f3b9",
   "metadata": {},
   "outputs": [],
   "source": [
    "for i in df['City'].unique():\n",
    "    del df[i]"
   ]
  },
  {
   "cell_type": "code",
   "execution_count": 130,
   "id": "a4ed1cd4-099f-4468-9e2c-43195ee951c8",
   "metadata": {},
   "outputs": [],
   "source": [
    "df.drop(index=124, axis=0, inplace=True)"
   ]
  },
  {
   "cell_type": "code",
   "execution_count": 149,
   "id": "cd12a29a-36a9-4f64-b145-2c7eda2a1d1e",
   "metadata": {},
   "outputs": [],
   "source": [
    "df = pd.concat([df,df['City'].str.get_dummies()], axis=1)"
   ]
  },
  {
   "cell_type": "code",
   "execution_count": 154,
   "id": "5951561e-ebdb-4932-a5d9-b2020acbbb3a",
   "metadata": {},
   "outputs": [
    {
     "data": {
      "text/plain": [
       "array(['İstanbul', 'Ankara', 'Diyarbakır', 'Tokat', 'Gaziantep',\n",
       "       'Afyonkarahisar', 'Edirne', 'Kocaeli', 'Bursa', 'İzmir', 'Sakarya',\n",
       "       'Elazığ', 'Kayseri', 'Eskişehir', 'Şanlıurfa', 'Samsun', 'Adana',\n",
       "       'Antalya', 'Kastamonu', 'Uşak', 'Muğla', 'Kırklareli', 'Konya',\n",
       "       'Karabük', 'Tekirdağ', 'Denizli', 'Balıkesir', 'Aydın', 'Amasya',\n",
       "       'Kütahya', 'Bolu', 'Trabzon', 'Isparta', 'Osmaniye'], dtype=object)"
      ]
     },
     "execution_count": 154,
     "metadata": {},
     "output_type": "execute_result"
    }
   ],
   "source": [
    "df['City'].unique()"
   ]
  },
  {
   "cell_type": "code",
   "execution_count": 157,
   "id": "e235b635-7369-46db-9f5e-976b541eb01c",
   "metadata": {},
   "outputs": [
    {
     "data": {
      "text/plain": [
       "(array([36., 59., 23., 10.,  5.,  0.,  1.,  0.,  1.,  1.]),\n",
       " array([ 1149870. ,  3004576.9,  4859283.8,  6713990.7,  8568697.6,\n",
       "        10423404.5, 12278111.4, 14132818.3, 15987525.2, 17842232.1,\n",
       "        19696939. ]),\n",
       " <BarContainer object of 10 artists>)"
      ]
     },
     "execution_count": 157,
     "metadata": {},
     "output_type": "execute_result"
    },
    {
     "data": {
      "image/png": "[encoded data removed]",
      "text/plain": [
       "<Figure size 432x288 with 1 Axes>"
      ]
     },
     "metadata": {
      "needs_background": "light"
     },
     "output_type": "display_data"
    }
   ],
   "source": [
    "plt.hist(df['revenue'])"
   ]
  },
  {
   "cell_type": "code",
   "execution_count": 164,
   "id": "b292d489-b772-4227-9bb9-61be4b9a7095",
   "metadata": {},
   "outputs": [
    {
     "name": "stdout",
     "output_type": "stream",
     "text": [
      "<class 'pandas.core.frame.DataFrame'>\n",
      "Int64Index: 136 entries, 0 to 136\n",
      "Data columns (total 76 columns):\n",
      " #   Column          Non-Null Count  Dtype  \n",
      "---  ------          --------------  -----  \n",
      " 0   City            136 non-null    object \n",
      " 1   City Group      136 non-null    float64\n",
      " 2   Type            136 non-null    float64\n",
      " 3   P1              136 non-null    float64\n",
      " 4   P2              136 non-null    float64\n",
      " 5   P3              136 non-null    float64\n",
      " 6   P4              136 non-null    float64\n",
      " 7   P5              136 non-null    float64\n",
      " 8   P6              136 non-null    float64\n",
      " 9   P7              136 non-null    float64\n",
      " 10  P8              136 non-null    float64\n",
      " 11  P9              136 non-null    float64\n",
      " 12  P10             136 non-null    float64\n",
      " 13  P11             136 non-null    float64\n",
      " 14  P12             136 non-null    float64\n",
      " 15  P13             136 non-null    float64\n",
      " 16  P14             136 non-null    float64\n",
      " 17  P15             136 non-null    float64\n",
      " 18  P16             136 non-null    float64\n",
      " 19  P17             136 non-null    float64\n",
      " 20  P18             136 non-null    float64\n",
      " 21  P19             136 non-null    float64\n",
      " 22  P20             136 non-null    float64\n",
      " 23  P21             136 non-null    float64\n",
      " 24  P22             136 non-null    float64\n",
      " 25  P23             136 non-null    float64\n",
      " 26  P24             136 non-null    float64\n",
      " 27  P25             136 non-null    float64\n",
      " 28  P26             136 non-null    float64\n",
      " 29  P27             136 non-null    float64\n",
      " 30  P28             136 non-null    float64\n",
      " 31  P29             136 non-null    float64\n",
      " 32  P30             136 non-null    float64\n",
      " 33  P31             136 non-null    float64\n",
      " 34  P32             136 non-null    float64\n",
      " 35  P33             136 non-null    float64\n",
      " 36  P34             136 non-null    float64\n",
      " 37  P35             136 non-null    float64\n",
      " 38  P36             136 non-null    float64\n",
      " 39  P37             136 non-null    float64\n",
      " 40  revenue         136 non-null    float64\n",
      " 41  Year            136 non-null    float64\n",
      " 42  Adana           136 non-null    int64  \n",
      " 43  Afyonkarahisar  136 non-null    int64  \n",
      " 44  Amasya          136 non-null    int64  \n",
      " 45  Ankara          136 non-null    int64  \n",
      " 46  Antalya         136 non-null    int64  \n",
      " 47  Aydın           136 non-null    int64  \n",
      " 48  Balıkesir       136 non-null    int64  \n",
      " 49  Bolu            136 non-null    int64  \n",
      " 50  Bursa           136 non-null    int64  \n",
      " 51  Denizli         136 non-null    int64  \n",
      " 52  Diyarbakır      136 non-null    int64  \n",
      " 53  Edirne          136 non-null    int64  \n",
      " 54  Elazığ          136 non-null    int64  \n",
      " 55  Eskişehir       136 non-null    int64  \n",
      " 56  Gaziantep       136 non-null    int64  \n",
      " 57  Isparta         136 non-null    int64  \n",
      " 58  Karabük         136 non-null    int64  \n",
      " 59  Kastamonu       136 non-null    int64  \n",
      " 60  Kayseri         136 non-null    int64  \n",
      " 61  Kocaeli         136 non-null    int64  \n",
      " 62  Konya           136 non-null    int64  \n",
      " 63  Kütahya         136 non-null    int64  \n",
      " 64  Kırklareli      136 non-null    int64  \n",
      " 65  Muğla           136 non-null    int64  \n",
      " 66  Osmaniye        136 non-null    int64  \n",
      " 67  Sakarya         136 non-null    int64  \n",
      " 68  Samsun          136 non-null    int64  \n",
      " 69  Tekirdağ        136 non-null    int64  \n",
      " 70  Tokat           136 non-null    int64  \n",
      " 71  Trabzon         136 non-null    int64  \n",
      " 72  Uşak            136 non-null    int64  \n",
      " 73  İstanbul        136 non-null    int64  \n",
      " 74  İzmir           136 non-null    int64  \n",
      " 75  Şanlıurfa       136 non-null    int64  \n",
      "dtypes: float64(41), int64(34), object(1)\n",
      "memory usage: 81.8+ KB\n"
     ]
    }
   ],
   "source": [
    "df.info()"
   ]
  },
  {
   "cell_type": "markdown",
   "id": "81f3c790-91b5-424f-8655-0dc047181603",
   "metadata": {},
   "source": [
    "### <b>ML"
   ]
  },
  {
   "cell_type": "code",
   "execution_count": 12,
   "id": "7eddcc3b-2f89-4677-8656-891dda532bf4",
   "metadata": {},
   "outputs": [],
   "source": [
    "from sklearn.model_selection import train_test_split"
   ]
  },
  {
   "cell_type": "code",
   "execution_count": 161,
   "id": "ca8c3824-78e1-404c-add5-28f9203343c9",
   "metadata": {},
   "outputs": [],
   "source": [
    "x = df[['P'+str(i) for i in range(1,38)]+['Type','City Group','Year']][df['revenue']>10000000]\n",
    "y = df[df['revenue']>10000000]"
   ]
  },
  {
   "cell_type": "code",
   "execution_count": 162,
   "id": "2c5f7e0a-99e9-49f2-826e-5a8d0cbb3308",
   "metadata": {},
   "outputs": [],
   "source": [
    "xtrain, xtest, ytrain, ytest = train_test_split(x,y,test_size=0.1,random_state=4)"
   ]
  },
  {
   "cell_type": "code",
   "execution_count": 112,
   "id": "09882c8b-457c-468f-b108-9bc38cac29ba",
   "metadata": {},
   "outputs": [],
   "source": [
    "from sklearn.linear_model import LinearRegression"
   ]
  },
  {
   "cell_type": "code",
   "execution_count": 163,
   "id": "508d67a7-db4e-41ad-8920-58be6940ac5f",
   "metadata": {},
   "outputs": [
    {
     "ename": "ValueError",
     "evalue": "could not convert string to float: 'İstanbul'",
     "output_type": "error",
     "traceback": [
      "\u001b[1;31m---------------------------------------------------------------------------\u001b[0m",
      "\u001b[1;31mValueError\u001b[0m                                Traceback (most recent call last)",
      "\u001b[1;32m<ipython-input-163-caf1d9cdbefa>\u001b[0m in \u001b[0;36m<module>\u001b[1;34m\u001b[0m\n\u001b[1;32m----> 1\u001b[1;33m \u001b[0mmodel\u001b[0m \u001b[1;33m=\u001b[0m \u001b[0mLinearRegression\u001b[0m\u001b[1;33m(\u001b[0m\u001b[1;33m)\u001b[0m\u001b[1;33m.\u001b[0m\u001b[0mfit\u001b[0m\u001b[1;33m(\u001b[0m\u001b[0mxtrain\u001b[0m\u001b[1;33m,\u001b[0m\u001b[0mytrain\u001b[0m\u001b[1;33m)\u001b[0m\u001b[1;33m\u001b[0m\u001b[1;33m\u001b[0m\u001b[0m\n\u001b[0m",
      "\u001b[1;32m~\\anaconda3\\lib\\site-packages\\sklearn\\linear_model\\_base.py\u001b[0m in \u001b[0;36mfit\u001b[1;34m(self, X, y, sample_weight)\u001b[0m\n\u001b[0;32m    516\u001b[0m         \u001b[0maccept_sparse\u001b[0m \u001b[1;33m=\u001b[0m \u001b[1;32mFalse\u001b[0m \u001b[1;32mif\u001b[0m \u001b[0mself\u001b[0m\u001b[1;33m.\u001b[0m\u001b[0mpositive\u001b[0m \u001b[1;32melse\u001b[0m \u001b[1;33m[\u001b[0m\u001b[1;34m'csr'\u001b[0m\u001b[1;33m,\u001b[0m \u001b[1;34m'csc'\u001b[0m\u001b[1;33m,\u001b[0m \u001b[1;34m'coo'\u001b[0m\u001b[1;33m]\u001b[0m\u001b[1;33m\u001b[0m\u001b[1;33m\u001b[0m\u001b[0m\n\u001b[0;32m    517\u001b[0m \u001b[1;33m\u001b[0m\u001b[0m\n\u001b[1;32m--> 518\u001b[1;33m         X, y = self._validate_data(X, y, accept_sparse=accept_sparse,\n\u001b[0m\u001b[0;32m    519\u001b[0m                                    y_numeric=True, multi_output=True)\n\u001b[0;32m    520\u001b[0m \u001b[1;33m\u001b[0m\u001b[0m\n",
      "\u001b[1;32m~\\anaconda3\\lib\\site-packages\\sklearn\\base.py\u001b[0m in \u001b[0;36m_validate_data\u001b[1;34m(self, X, y, reset, validate_separately, **check_params)\u001b[0m\n\u001b[0;32m    431\u001b[0m                 \u001b[0my\u001b[0m \u001b[1;33m=\u001b[0m \u001b[0mcheck_array\u001b[0m\u001b[1;33m(\u001b[0m\u001b[0my\u001b[0m\u001b[1;33m,\u001b[0m \u001b[1;33m**\u001b[0m\u001b[0mcheck_y_params\u001b[0m\u001b[1;33m)\u001b[0m\u001b[1;33m\u001b[0m\u001b[1;33m\u001b[0m\u001b[0m\n\u001b[0;32m    432\u001b[0m             \u001b[1;32melse\u001b[0m\u001b[1;33m:\u001b[0m\u001b[1;33m\u001b[0m\u001b[1;33m\u001b[0m\u001b[0m\n\u001b[1;32m--> 433\u001b[1;33m                 \u001b[0mX\u001b[0m\u001b[1;33m,\u001b[0m \u001b[0my\u001b[0m \u001b[1;33m=\u001b[0m \u001b[0mcheck_X_y\u001b[0m\u001b[1;33m(\u001b[0m\u001b[0mX\u001b[0m\u001b[1;33m,\u001b[0m \u001b[0my\u001b[0m\u001b[1;33m,\u001b[0m \u001b[1;33m**\u001b[0m\u001b[0mcheck_params\u001b[0m\u001b[1;33m)\u001b[0m\u001b[1;33m\u001b[0m\u001b[1;33m\u001b[0m\u001b[0m\n\u001b[0m\u001b[0;32m    434\u001b[0m             \u001b[0mout\u001b[0m \u001b[1;33m=\u001b[0m \u001b[0mX\u001b[0m\u001b[1;33m,\u001b[0m \u001b[0my\u001b[0m\u001b[1;33m\u001b[0m\u001b[1;33m\u001b[0m\u001b[0m\n\u001b[0;32m    435\u001b[0m \u001b[1;33m\u001b[0m\u001b[0m\n",
      "\u001b[1;32m~\\anaconda3\\lib\\site-packages\\sklearn\\utils\\validation.py\u001b[0m in \u001b[0;36minner_f\u001b[1;34m(*args, **kwargs)\u001b[0m\n\u001b[0;32m     61\u001b[0m             \u001b[0mextra_args\u001b[0m \u001b[1;33m=\u001b[0m \u001b[0mlen\u001b[0m\u001b[1;33m(\u001b[0m\u001b[0margs\u001b[0m\u001b[1;33m)\u001b[0m \u001b[1;33m-\u001b[0m \u001b[0mlen\u001b[0m\u001b[1;33m(\u001b[0m\u001b[0mall_args\u001b[0m\u001b[1;33m)\u001b[0m\u001b[1;33m\u001b[0m\u001b[1;33m\u001b[0m\u001b[0m\n\u001b[0;32m     62\u001b[0m             \u001b[1;32mif\u001b[0m \u001b[0mextra_args\u001b[0m \u001b[1;33m<=\u001b[0m \u001b[1;36m0\u001b[0m\u001b[1;33m:\u001b[0m\u001b[1;33m\u001b[0m\u001b[1;33m\u001b[0m\u001b[0m\n\u001b[1;32m---> 63\u001b[1;33m                 \u001b[1;32mreturn\u001b[0m \u001b[0mf\u001b[0m\u001b[1;33m(\u001b[0m\u001b[1;33m*\u001b[0m\u001b[0margs\u001b[0m\u001b[1;33m,\u001b[0m \u001b[1;33m**\u001b[0m\u001b[0mkwargs\u001b[0m\u001b[1;33m)\u001b[0m\u001b[1;33m\u001b[0m\u001b[1;33m\u001b[0m\u001b[0m\n\u001b[0m\u001b[0;32m     64\u001b[0m \u001b[1;33m\u001b[0m\u001b[0m\n\u001b[0;32m     65\u001b[0m             \u001b[1;31m# extra_args > 0\u001b[0m\u001b[1;33m\u001b[0m\u001b[1;33m\u001b[0m\u001b[1;33m\u001b[0m\u001b[0m\n",
      "\u001b[1;32m~\\anaconda3\\lib\\site-packages\\sklearn\\utils\\validation.py\u001b[0m in \u001b[0;36mcheck_X_y\u001b[1;34m(X, y, accept_sparse, accept_large_sparse, dtype, order, copy, force_all_finite, ensure_2d, allow_nd, multi_output, ensure_min_samples, ensure_min_features, y_numeric, estimator)\u001b[0m\n\u001b[0;32m    827\u001b[0m         \u001b[0m_assert_all_finite\u001b[0m\u001b[1;33m(\u001b[0m\u001b[0my\u001b[0m\u001b[1;33m)\u001b[0m\u001b[1;33m\u001b[0m\u001b[1;33m\u001b[0m\u001b[0m\n\u001b[0;32m    828\u001b[0m     \u001b[1;32mif\u001b[0m \u001b[0my_numeric\u001b[0m \u001b[1;32mand\u001b[0m \u001b[0my\u001b[0m\u001b[1;33m.\u001b[0m\u001b[0mdtype\u001b[0m\u001b[1;33m.\u001b[0m\u001b[0mkind\u001b[0m \u001b[1;33m==\u001b[0m \u001b[1;34m'O'\u001b[0m\u001b[1;33m:\u001b[0m\u001b[1;33m\u001b[0m\u001b[1;33m\u001b[0m\u001b[0m\n\u001b[1;32m--> 829\u001b[1;33m         \u001b[0my\u001b[0m \u001b[1;33m=\u001b[0m \u001b[0my\u001b[0m\u001b[1;33m.\u001b[0m\u001b[0mastype\u001b[0m\u001b[1;33m(\u001b[0m\u001b[0mnp\u001b[0m\u001b[1;33m.\u001b[0m\u001b[0mfloat64\u001b[0m\u001b[1;33m)\u001b[0m\u001b[1;33m\u001b[0m\u001b[1;33m\u001b[0m\u001b[0m\n\u001b[0m\u001b[0;32m    830\u001b[0m \u001b[1;33m\u001b[0m\u001b[0m\n\u001b[0;32m    831\u001b[0m     \u001b[0mcheck_consistent_length\u001b[0m\u001b[1;33m(\u001b[0m\u001b[0mX\u001b[0m\u001b[1;33m,\u001b[0m \u001b[0my\u001b[0m\u001b[1;33m)\u001b[0m\u001b[1;33m\u001b[0m\u001b[1;33m\u001b[0m\u001b[0m\n",
      "\u001b[1;31mValueError\u001b[0m: could not convert string to float: 'İstanbul'"
     ]
    }
   ],
   "source": [
    "model = LinearRegression().fit(xtrain,ytrain)"
   ]
  },
  {
   "cell_type": "code",
   "execution_count": 146,
   "id": "66cc5bab-4e9c-485f-a773-d18d641fc19e",
   "metadata": {},
   "outputs": [
    {
     "data": {
      "text/plain": [
       "16.517287754207956"
      ]
     },
     "execution_count": 146,
     "metadata": {},
     "output_type": "execute_result"
    }
   ],
   "source": [
    "model.score(xtest,ytest)*100"
   ]
  },
  {
   "cell_type": "code",
   "execution_count": null,
   "id": "7908ffb9-efff-4bfb-89e3-c66664cce6a1",
   "metadata": {},
   "outputs": [],
   "source": []
  }
 ],
 "metadata": {
  "kernelspec": {
   "display_name": "Python 3",
   "language": "python",
   "name": "python3"
  },
  "language_info": {
   "codemirror_mode": {
    "name": "ipython",
    "version": 3
   },
   "file_extension": ".py",
   "mimetype": "text/x-python",
   "name": "python",
   "nbconvert_exporter": "python",
   "pygments_lexer": "ipython3",
   "version": "3.8.8"
  }
 },
 "nbformat": 4,
 "nbformat_minor": 5
}
