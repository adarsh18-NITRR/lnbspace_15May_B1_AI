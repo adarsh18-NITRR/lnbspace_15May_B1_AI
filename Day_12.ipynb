{
 "cells": [
  {
   "cell_type": "code",
   "execution_count": 2,
   "id": "8336210a-1e03-4f36-8e7c-a619eb987b55",
   "metadata": {},
   "outputs": [],
   "source": [
    "import pandas as pd"
   ]
  },
  {
   "cell_type": "raw",
   "id": "35bd32e9-c0e9-4022-8d41-ad1a00f1607d",
   "metadata": {},
   "source": [
    "data types\n",
    "1. series- 1D\n",
    "2.DataFrame- 2D single table\n",
    "2.panel- 3D multitable"
   ]
  },
  {
   "cell_type": "raw",
   "id": "5c584f1b-e36f-4a6b-b1db-c4c5368de220",
   "metadata": {},
   "source": [
    "Series - 1D"
   ]
  },
  {
   "cell_type": "code",
   "execution_count": 4,
   "id": "c877e9fb-722f-4063-80ef-a7c2c1d7af0d",
   "metadata": {},
   "outputs": [],
   "source": [
    "s1 = pd.Series([1,2,3,4,34,23223,34,6,6756,3433,787])"
   ]
  },
  {
   "cell_type": "code",
   "execution_count": 6,
   "id": "e397a03a-9b78-465d-8e84-d09333aef2e0",
   "metadata": {},
   "outputs": [
    {
     "data": {
      "text/plain": [
       "0         1\n",
       "1         2\n",
       "2         3\n",
       "3         4\n",
       "4        34\n",
       "5     23223\n",
       "6        34\n",
       "7         6\n",
       "8      6756\n",
       "9      3433\n",
       "10      787\n",
       "dtype: int64"
      ]
     },
     "execution_count": 6,
     "metadata": {},
     "output_type": "execute_result"
    }
   ],
   "source": [
    "s1 #showws index values"
   ]
  },
  {
   "cell_type": "code",
   "execution_count": 8,
   "id": "550184ee-d887-4c7d-851d-960984d3d0cf",
   "metadata": {},
   "outputs": [
    {
     "data": {
      "text/plain": [
       "0         1\n",
       "1         2\n",
       "2         3\n",
       "3         4\n",
       "4        34\n",
       "5     23223\n",
       "6        34\n",
       "7         6\n",
       "8      6756\n",
       "9      3433\n",
       "10      787\n",
       "dtype: int64"
      ]
     },
     "execution_count": 8,
     "metadata": {},
     "output_type": "execute_result"
    }
   ],
   "source": [
    "s1 = pd.Series((1,2,3,4,34,23223,34,6,6756,3433,787)) #using tuples\n",
    "s1"
   ]
  },
  {
   "cell_type": "code",
   "execution_count": 10,
   "id": "f37daffa-a65d-4abb-b1d5-e8768b72fef9",
   "metadata": {},
   "outputs": [
    {
     "data": {
      "text/plain": [
       "11"
      ]
     },
     "execution_count": 10,
     "metadata": {},
     "output_type": "execute_result"
    }
   ],
   "source": [
    "s1.size\n"
   ]
  },
  {
   "cell_type": "code",
   "execution_count": 11,
   "id": "c0646ad2-c229-425d-a4eb-ea040847691c",
   "metadata": {},
   "outputs": [
    {
     "data": {
      "text/plain": [
       "(11,)"
      ]
     },
     "execution_count": 11,
     "metadata": {},
     "output_type": "execute_result"
    }
   ],
   "source": [
    "s1.shape\n"
   ]
  },
  {
   "cell_type": "code",
   "execution_count": 12,
   "id": "f922f4b4-d8fd-4c78-be0c-ec59174eb56a",
   "metadata": {},
   "outputs": [
    {
     "data": {
      "text/plain": [
       "3116.6363636363635"
      ]
     },
     "execution_count": 12,
     "metadata": {},
     "output_type": "execute_result"
    }
   ],
   "source": [
    "s1.mean()"
   ]
  },
  {
   "cell_type": "code",
   "execution_count": 13,
   "id": "284c1404-22db-45b4-8373-00acbfb61196",
   "metadata": {},
   "outputs": [
    {
     "data": {
      "text/plain": [
       "5     23223\n",
       "6        34\n",
       "7         6\n",
       "8      6756\n",
       "9      3433\n",
       "10      787\n",
       "dtype: int64"
      ]
     },
     "execution_count": 13,
     "metadata": {},
     "output_type": "execute_result"
    }
   ],
   "source": [
    "s1.tail(6)"
   ]
  },
  {
   "cell_type": "code",
   "execution_count": 15,
   "id": "309964ca-a959-4cf9-a4bb-dc92d9876e40",
   "metadata": {},
   "outputs": [
    {
     "data": {
      "text/plain": [
       "4        34\n",
       "10      787\n",
       "0         1\n",
       "6        34\n",
       "5     23223\n",
       "dtype: int64"
      ]
     },
     "execution_count": 15,
     "metadata": {},
     "output_type": "execute_result"
    }
   ],
   "source": [
    "s1.sample(5) #random"
   ]
  },
  {
   "cell_type": "code",
   "execution_count": 16,
   "id": "a48f7687-665a-46bf-9ede-af7c7aef65bb",
   "metadata": {},
   "outputs": [],
   "source": [
    "# accsessing the elements"
   ]
  },
  {
   "cell_type": "code",
   "execution_count": 17,
   "id": "35a7c4e1-30ab-493c-a776-b6b3184a498d",
   "metadata": {},
   "outputs": [
    {
     "data": {
      "text/plain": [
       "1"
      ]
     },
     "execution_count": 17,
     "metadata": {},
     "output_type": "execute_result"
    }
   ],
   "source": [
    "s1[0]"
   ]
  },
  {
   "cell_type": "code",
   "execution_count": 18,
   "id": "bbb2b423-5e92-4dcd-b1f5-d3ab2a79fcab",
   "metadata": {},
   "outputs": [],
   "source": [
    "s1[1] = 3 #this is also mutable"
   ]
  },
  {
   "cell_type": "code",
   "execution_count": 19,
   "id": "188ae7ec-e360-48a2-b42f-c978a719e265",
   "metadata": {},
   "outputs": [
    {
     "data": {
      "text/plain": [
       "0         1\n",
       "1         3\n",
       "2         3\n",
       "3         4\n",
       "4        34\n",
       "5     23223\n",
       "6        34\n",
       "7         6\n",
       "8      6756\n",
       "9      3433\n",
       "10      787\n",
       "dtype: int64"
      ]
     },
     "execution_count": 19,
     "metadata": {},
     "output_type": "execute_result"
    }
   ],
   "source": [
    "s1"
   ]
  },
  {
   "cell_type": "code",
   "execution_count": 20,
   "id": "8dff7c5c-54fc-44da-b139-4b76117905e8",
   "metadata": {},
   "outputs": [],
   "source": [
    "#slicing also possible"
   ]
  },
  {
   "cell_type": "code",
   "execution_count": 21,
   "id": "526b4084-ad63-4257-a329-bb16da3cce3e",
   "metadata": {},
   "outputs": [],
   "source": [
    "#deletion\n",
    "del s1[1]"
   ]
  },
  {
   "cell_type": "code",
   "execution_count": 22,
   "id": "d0b57e8c-a2d2-45ae-bd50-6d91c77e38e4",
   "metadata": {},
   "outputs": [
    {
     "data": {
      "text/plain": [
       "0         1\n",
       "2         3\n",
       "3         4\n",
       "4        34\n",
       "5     23223\n",
       "6        34\n",
       "7         6\n",
       "8      6756\n",
       "9      3433\n",
       "10      787\n",
       "dtype: int64"
      ]
     },
     "execution_count": 22,
     "metadata": {},
     "output_type": "execute_result"
    }
   ],
   "source": [
    "s1"
   ]
  },
  {
   "cell_type": "code",
   "execution_count": 23,
   "id": "42260baa-cc23-4405-862a-4ad818197bee",
   "metadata": {},
   "outputs": [],
   "source": [
    "# item insertion"
   ]
  },
  {
   "cell_type": "raw",
   "id": "fe8a5885-b5c1-49cd-8691-123056fc3efe",
   "metadata": {},
   "source": [
    "s3 = \"afasfsqdfasdfasdfasdfasdfasdfasdfasdf\"\n",
    "s2 = [i:i.count(s3) for i in s3]"
   ]
  },
  {
   "cell_type": "code",
   "execution_count": 25,
   "id": "d47e2554-0f7b-4a09-9539-088e541c0f4d",
   "metadata": {},
   "outputs": [],
   "source": [
    "#costumizing"
   ]
  },
  {
   "cell_type": "code",
   "execution_count": 28,
   "id": "dc68cc3b-8223-496e-aff1-e13761058daa",
   "metadata": {},
   "outputs": [],
   "source": [
    "s1 = ('hello here this is a thing one two three'.split())"
   ]
  },
  {
   "cell_type": "raw",
   "id": "118c1027-d220-4590-a5e4-ee8a02625748",
   "metadata": {},
   "source": [
    "s1 = ('hello here this is a thing one two three'.split(), index=list('pqrstuvqx'))"
   ]
  },
  {
   "cell_type": "code",
   "execution_count": 31,
   "id": "c2120783-44b9-4854-801e-4ee1773ff823",
   "metadata": {},
   "outputs": [
    {
     "data": {
      "text/plain": [
       "['hello', 'here', 'this', 'is', 'a', 'thing', 'one', 'two', 'three']"
      ]
     },
     "execution_count": 31,
     "metadata": {},
     "output_type": "execute_result"
    }
   ],
   "source": [
    "s1"
   ]
  },
  {
   "cell_type": "code",
   "execution_count": 39,
   "id": "355ab50b-2c3a-4a3f-acf0-2891676dfbd7",
   "metadata": {},
   "outputs": [],
   "source": [
    "s1 = pd.Series([1,2,3,4,34,23223,34,6,6756,'this',787], index=list('abcdefghijk'))"
   ]
  },
  {
   "cell_type": "code",
   "execution_count": 40,
   "id": "c224d654-9fa3-4e5e-82b0-f7c36c378554",
   "metadata": {},
   "outputs": [
    {
     "data": {
      "text/plain": [
       "a        1\n",
       "b        2\n",
       "c        3\n",
       "d        4\n",
       "e       34\n",
       "f    23223\n",
       "g       34\n",
       "h        6\n",
       "i     6756\n",
       "j     this\n",
       "k      787\n",
       "dtype: object"
      ]
     },
     "execution_count": 40,
     "metadata": {},
     "output_type": "execute_result"
    }
   ],
   "source": [
    "s1\n"
   ]
  },
  {
   "cell_type": "code",
   "execution_count": 41,
   "id": "f15e51dc-37ef-4194-bf48-bf8bd0687af6",
   "metadata": {},
   "outputs": [
    {
     "data": {
      "text/plain": [
       "dtype('O')"
      ]
     },
     "execution_count": 41,
     "metadata": {},
     "output_type": "execute_result"
    }
   ],
   "source": [
    "s1.dtype"
   ]
  },
  {
   "cell_type": "markdown",
   "id": "761d1b2c-33f4-4464-819d-aec0317ff840",
   "metadata": {},
   "source": [
    "## Dataframe"
   ]
  },
  {
   "cell_type": "code",
   "execution_count": 42,
   "id": "7f077f89-e140-43db-a817-7228059224c2",
   "metadata": {},
   "outputs": [],
   "source": [
    "df = pd.DataFrame(['a','b','c','d'])"
   ]
  },
  {
   "cell_type": "code",
   "execution_count": 43,
   "id": "4babe0fb-43f1-4852-8f5e-df8a96435467",
   "metadata": {},
   "outputs": [
    {
     "data": {
      "text/html": [
       "<div>\n",
       "<style scoped>\n",
       "    .dataframe tbody tr th:only-of-type {\n",
       "        vertical-align: middle;\n",
       "    }\n",
       "\n",
       "    .dataframe tbody tr th {\n",
       "        vertical-align: top;\n",
       "    }\n",
       "\n",
       "    .dataframe thead th {\n",
       "        text-align: right;\n",
       "    }\n",
       "</style>\n",
       "<table border=\"1\" class=\"dataframe\">\n",
       "  <thead>\n",
       "    <tr style=\"text-align: right;\">\n",
       "      <th></th>\n",
       "      <th>0</th>\n",
       "    </tr>\n",
       "  </thead>\n",
       "  <tbody>\n",
       "    <tr>\n",
       "      <th>0</th>\n",
       "      <td>a</td>\n",
       "    </tr>\n",
       "    <tr>\n",
       "      <th>1</th>\n",
       "      <td>b</td>\n",
       "    </tr>\n",
       "    <tr>\n",
       "      <th>2</th>\n",
       "      <td>c</td>\n",
       "    </tr>\n",
       "    <tr>\n",
       "      <th>3</th>\n",
       "      <td>d</td>\n",
       "    </tr>\n",
       "  </tbody>\n",
       "</table>\n",
       "</div>"
      ],
      "text/plain": [
       "   0\n",
       "0  a\n",
       "1  b\n",
       "2  c\n",
       "3  d"
      ]
     },
     "execution_count": 43,
     "metadata": {},
     "output_type": "execute_result"
    }
   ],
   "source": [
    "df"
   ]
  },
  {
   "cell_type": "code",
   "execution_count": 44,
   "id": "e2c7c805-ce54-498c-8846-17b876c4b368",
   "metadata": {},
   "outputs": [],
   "source": [
    "#this is in table format"
   ]
  },
  {
   "cell_type": "code",
   "execution_count": 45,
   "id": "eff3189d-f4be-4410-87b5-9cfa8562398b",
   "metadata": {},
   "outputs": [],
   "source": [
    "#we can also make 2D"
   ]
  },
  {
   "cell_type": "code",
   "execution_count": 49,
   "id": "677c1b93-56a2-4c38-b58c-95ced79645a3",
   "metadata": {},
   "outputs": [],
   "source": [
    "df1 = pd.DataFrame([['a','b'],['c','d']])"
   ]
  },
  {
   "cell_type": "code",
   "execution_count": 50,
   "id": "4a39a0da-02cd-4a95-91af-c2c63651e197",
   "metadata": {},
   "outputs": [
    {
     "data": {
      "text/html": [
       "<div>\n",
       "<style scoped>\n",
       "    .dataframe tbody tr th:only-of-type {\n",
       "        vertical-align: middle;\n",
       "    }\n",
       "\n",
       "    .dataframe tbody tr th {\n",
       "        vertical-align: top;\n",
       "    }\n",
       "\n",
       "    .dataframe thead th {\n",
       "        text-align: right;\n",
       "    }\n",
       "</style>\n",
       "<table border=\"1\" class=\"dataframe\">\n",
       "  <thead>\n",
       "    <tr style=\"text-align: right;\">\n",
       "      <th></th>\n",
       "      <th>0</th>\n",
       "      <th>1</th>\n",
       "    </tr>\n",
       "  </thead>\n",
       "  <tbody>\n",
       "    <tr>\n",
       "      <th>0</th>\n",
       "      <td>a</td>\n",
       "      <td>b</td>\n",
       "    </tr>\n",
       "    <tr>\n",
       "      <th>1</th>\n",
       "      <td>c</td>\n",
       "      <td>d</td>\n",
       "    </tr>\n",
       "  </tbody>\n",
       "</table>\n",
       "</div>"
      ],
      "text/plain": [
       "   0  1\n",
       "0  a  b\n",
       "1  c  d"
      ]
     },
     "execution_count": 50,
     "metadata": {},
     "output_type": "execute_result"
    }
   ],
   "source": [
    "df1"
   ]
  },
  {
   "cell_type": "code",
   "execution_count": 54,
   "id": "c178e7f6-20e9-489f-8112-795f339c0bb0",
   "metadata": {},
   "outputs": [],
   "source": [
    "df2 = pd.DataFrame({'color':['blue','red','yellow','black','purple','brown'],'price':[11,22,33,34,34,23]})"
   ]
  },
  {
   "cell_type": "code",
   "execution_count": 55,
   "id": "b6d0e41d-bbd6-4fc4-8cea-11d58ebc21a6",
   "metadata": {},
   "outputs": [
    {
     "data": {
      "text/html": [
       "<div>\n",
       "<style scoped>\n",
       "    .dataframe tbody tr th:only-of-type {\n",
       "        vertical-align: middle;\n",
       "    }\n",
       "\n",
       "    .dataframe tbody tr th {\n",
       "        vertical-align: top;\n",
       "    }\n",
       "\n",
       "    .dataframe thead th {\n",
       "        text-align: right;\n",
       "    }\n",
       "</style>\n",
       "<table border=\"1\" class=\"dataframe\">\n",
       "  <thead>\n",
       "    <tr style=\"text-align: right;\">\n",
       "      <th></th>\n",
       "      <th>color</th>\n",
       "      <th>price</th>\n",
       "    </tr>\n",
       "  </thead>\n",
       "  <tbody>\n",
       "    <tr>\n",
       "      <th>0</th>\n",
       "      <td>blue</td>\n",
       "      <td>11</td>\n",
       "    </tr>\n",
       "    <tr>\n",
       "      <th>1</th>\n",
       "      <td>red</td>\n",
       "      <td>22</td>\n",
       "    </tr>\n",
       "    <tr>\n",
       "      <th>2</th>\n",
       "      <td>yellow</td>\n",
       "      <td>33</td>\n",
       "    </tr>\n",
       "    <tr>\n",
       "      <th>3</th>\n",
       "      <td>black</td>\n",
       "      <td>34</td>\n",
       "    </tr>\n",
       "    <tr>\n",
       "      <th>4</th>\n",
       "      <td>purple</td>\n",
       "      <td>34</td>\n",
       "    </tr>\n",
       "    <tr>\n",
       "      <th>5</th>\n",
       "      <td>brown</td>\n",
       "      <td>23</td>\n",
       "    </tr>\n",
       "  </tbody>\n",
       "</table>\n",
       "</div>"
      ],
      "text/plain": [
       "    color  price\n",
       "0    blue     11\n",
       "1     red     22\n",
       "2  yellow     33\n",
       "3   black     34\n",
       "4  purple     34\n",
       "5   brown     23"
      ]
     },
     "execution_count": 55,
     "metadata": {},
     "output_type": "execute_result"
    }
   ],
   "source": [
    "df2"
   ]
  },
  {
   "cell_type": "code",
   "execution_count": 56,
   "id": "a9a0aabe-21fa-4afd-8a52-4e222dd67ad7",
   "metadata": {},
   "outputs": [
    {
     "data": {
      "text/plain": [
       "(6, 2)"
      ]
     },
     "execution_count": 56,
     "metadata": {},
     "output_type": "execute_result"
    }
   ],
   "source": [
    "df2.shape"
   ]
  },
  {
   "cell_type": "code",
   "execution_count": 58,
   "id": "e9ee4d18-9885-4e83-8df1-681a39a2c257",
   "metadata": {},
   "outputs": [
    {
     "data": {
      "text/html": [
       "<div>\n",
       "<style scoped>\n",
       "    .dataframe tbody tr th:only-of-type {\n",
       "        vertical-align: middle;\n",
       "    }\n",
       "\n",
       "    .dataframe tbody tr th {\n",
       "        vertical-align: top;\n",
       "    }\n",
       "\n",
       "    .dataframe thead th {\n",
       "        text-align: right;\n",
       "    }\n",
       "</style>\n",
       "<table border=\"1\" class=\"dataframe\">\n",
       "  <thead>\n",
       "    <tr style=\"text-align: right;\">\n",
       "      <th></th>\n",
       "      <th>color</th>\n",
       "      <th>price</th>\n",
       "    </tr>\n",
       "  </thead>\n",
       "  <tbody>\n",
       "    <tr>\n",
       "      <th>0</th>\n",
       "      <td>blue</td>\n",
       "      <td>11</td>\n",
       "    </tr>\n",
       "    <tr>\n",
       "      <th>1</th>\n",
       "      <td>red</td>\n",
       "      <td>22</td>\n",
       "    </tr>\n",
       "  </tbody>\n",
       "</table>\n",
       "</div>"
      ],
      "text/plain": [
       "  color  price\n",
       "0  blue     11\n",
       "1   red     22"
      ]
     },
     "execution_count": 58,
     "metadata": {},
     "output_type": "execute_result"
    }
   ],
   "source": [
    "df2.head(2)"
   ]
  },
  {
   "cell_type": "code",
   "execution_count": 60,
   "id": "b7682a0e-a782-4ddd-b8d3-35ac5a09acc0",
   "metadata": {},
   "outputs": [
    {
     "data": {
      "text/html": [
       "<div>\n",
       "<style scoped>\n",
       "    .dataframe tbody tr th:only-of-type {\n",
       "        vertical-align: middle;\n",
       "    }\n",
       "\n",
       "    .dataframe tbody tr th {\n",
       "        vertical-align: top;\n",
       "    }\n",
       "\n",
       "    .dataframe thead th {\n",
       "        text-align: right;\n",
       "    }\n",
       "</style>\n",
       "<table border=\"1\" class=\"dataframe\">\n",
       "  <thead>\n",
       "    <tr style=\"text-align: right;\">\n",
       "      <th></th>\n",
       "      <th>color</th>\n",
       "      <th>price</th>\n",
       "    </tr>\n",
       "  </thead>\n",
       "  <tbody>\n",
       "    <tr>\n",
       "      <th>0</th>\n",
       "      <td>blue</td>\n",
       "      <td>11</td>\n",
       "    </tr>\n",
       "    <tr>\n",
       "      <th>2</th>\n",
       "      <td>yellow</td>\n",
       "      <td>33</td>\n",
       "    </tr>\n",
       "  </tbody>\n",
       "</table>\n",
       "</div>"
      ],
      "text/plain": [
       "    color  price\n",
       "0    blue     11\n",
       "2  yellow     33"
      ]
     },
     "execution_count": 60,
     "metadata": {},
     "output_type": "execute_result"
    }
   ],
   "source": [
    "df2.sample(2)"
   ]
  },
  {
   "cell_type": "code",
   "execution_count": 63,
   "id": "c27c35ce-fd0d-43b4-b62b-6ea546d027ba",
   "metadata": {},
   "outputs": [
    {
     "data": {
      "text/plain": [
       "pandas.core.series.Series"
      ]
     },
     "execution_count": 63,
     "metadata": {},
     "output_type": "execute_result"
    }
   ],
   "source": [
    "type(df2.sum()) #this sum returned is a series"
   ]
  },
  {
   "cell_type": "code",
   "execution_count": 68,
   "id": "c3214dbb-a0cd-4fb2-adc7-b19ff7096847",
   "metadata": {},
   "outputs": [],
   "source": [
    "#accessing items in dataframe"
   ]
  },
  {
   "cell_type": "code",
   "execution_count": 65,
   "id": "0dd1c485-cf63-4614-b070-c4171ba14f48",
   "metadata": {},
   "outputs": [
    {
     "data": {
      "text/plain": [
       "0      blue\n",
       "1       red\n",
       "2    yellow\n",
       "3     black\n",
       "4    purple\n",
       "5     brown\n",
       "Name: color, dtype: object"
      ]
     },
     "execution_count": 65,
     "metadata": {},
     "output_type": "execute_result"
    }
   ],
   "source": [
    "df2['color']"
   ]
  },
  {
   "cell_type": "code",
   "execution_count": 66,
   "id": "c3e96ab7-a790-49a8-a0ee-067b09e43421",
   "metadata": {},
   "outputs": [
    {
     "data": {
      "text/plain": [
       "0    11\n",
       "1    22\n",
       "2    33\n",
       "3    34\n",
       "4    34\n",
       "5    23\n",
       "Name: price, dtype: int64"
      ]
     },
     "execution_count": 66,
     "metadata": {},
     "output_type": "execute_result"
    }
   ],
   "source": [
    "df2['price'] #give column name"
   ]
  },
  {
   "cell_type": "code",
   "execution_count": 67,
   "id": "6247b16b-f1a9-4474-92a2-0d4bcb91a0a8",
   "metadata": {},
   "outputs": [
    {
     "data": {
      "text/plain": [
       "0    a\n",
       "1    c\n",
       "Name: 0, dtype: object"
      ]
     },
     "execution_count": 67,
     "metadata": {},
     "output_type": "execute_result"
    }
   ],
   "source": [
    "df1[0] #this gives first column"
   ]
  },
  {
   "cell_type": "code",
   "execution_count": 70,
   "id": "c610ca0a-eea7-4996-9d07-c2c90d5e4ecd",
   "metadata": {},
   "outputs": [
    {
     "data": {
      "text/plain": [
       "'red'"
      ]
     },
     "execution_count": 70,
     "metadata": {},
     "output_type": "execute_result"
    }
   ],
   "source": [
    "df2['color'][1]"
   ]
  },
  {
   "cell_type": "code",
   "execution_count": 71,
   "id": "faa48422-69ec-47b0-980b-edf7cc69cdb2",
   "metadata": {},
   "outputs": [],
   "source": [
    "# if multiple column write in a list"
   ]
  },
  {
   "cell_type": "code",
   "execution_count": 73,
   "id": "57e2c014-1152-43f2-88a3-5c9fc4b22a8d",
   "metadata": {},
   "outputs": [
    {
     "data": {
      "text/plain": [
       "<pandas.core.indexing._LocIndexer at 0x1c4600b7c70>"
      ]
     },
     "execution_count": 73,
     "metadata": {},
     "output_type": "execute_result"
    }
   ],
   "source": [
    "df2.loc(0)"
   ]
  },
  {
   "cell_type": "code",
   "execution_count": 71,
   "id": "53937539-1054-4e50-a6f7-4e03f5b28a47",
   "metadata": {},
   "outputs": [],
   "source": []
  },
  {
   "cell_type": "code",
   "execution_count": 72,
   "id": "1f8a7295-a0bf-4937-b8cb-199d1105e6cc",
   "metadata": {},
   "outputs": [],
   "source": [
    "#assigning values - when doing this we have to assign all values in the column"
   ]
  },
  {
   "cell_type": "code",
   "execution_count": null,
   "id": "568f48aa-6ce5-4bec-b058-a54217d28b2a",
   "metadata": {},
   "outputs": [],
   "source": []
  }
 ],
 "metadata": {
  "kernelspec": {
   "display_name": "Python 3",
   "language": "python",
   "name": "python3"
  },
  "language_info": {
   "codemirror_mode": {
    "name": "ipython",
    "version": 3
   },
   "file_extension": ".py",
   "mimetype": "text/x-python",
   "name": "python",
   "nbconvert_exporter": "python",
   "pygments_lexer": "ipython3",
   "version": "3.8.8"
  }
 },
 "nbformat": 4,
 "nbformat_minor": 5
}
