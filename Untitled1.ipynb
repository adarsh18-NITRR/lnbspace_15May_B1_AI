{
 "cells": [
  {
   "cell_type": "markdown",
   "id": "dcfc8828-37d6-420d-9789-0b971cf883a0",
   "metadata": {},
   "source": [
    "## This is reading files from different formats"
   ]
  },
  {
   "cell_type": "code",
   "execution_count": null,
   "id": "d3b5c9ee-d9d3-4512-a057-73acd2e6cb67",
   "metadata": {},
   "outputs": [],
   "source": [
    "\n"
   ]
  }
 ],
 "metadata": {
  "kernelspec": {
   "display_name": "Python 3",
   "language": "python",
   "name": "python3"
  },
  "language_info": {
   "codemirror_mode": {
    "name": "ipython",
    "version": 3
   },
   "file_extension": ".py",
   "mimetype": "text/x-python",
   "name": "python",
   "nbconvert_exporter": "python",
   "pygments_lexer": "ipython3",
   "version": "3.8.8"
  }
 },
 "nbformat": 4,
 "nbformat_minor": 5
}
