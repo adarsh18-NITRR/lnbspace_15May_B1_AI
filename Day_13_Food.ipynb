{
 "cells": [
  {
   "cell_type": "code",
   "execution_count": 3,
   "id": "ab8b3bc2-9871-4340-8250-1a871cd8afed",
   "metadata": {},
   "outputs": [],
   "source": [
    "import pandas as pd"
   ]
  },
  {
   "cell_type": "code",
   "execution_count": 4,
   "id": "1436b8f3-b9c8-4977-8c8e-fca83b84646a",
   "metadata": {},
   "outputs": [],
   "source": [
    "df= pd.read_csv(r'Food Data.csv')"
   ]
  },
  {
   "cell_type": "code",
   "execution_count": 5,
   "id": "92d04de0-48d5-47cf-819e-e9c9336702d1",
   "metadata": {},
   "outputs": [
    {
     "name": "stderr",
     "output_type": "stream",
     "text": [
      "<ipython-input-5-b6b34d611d8b>:1: SettingWithCopyWarning: \n",
      "A value is trying to be set on a copy of a slice from a DataFrame\n",
      "\n",
      "See the caveats in the documentation: https://pandas.pydata.org/pandas-docs/stable/user_guide/indexing.html#returning-a-view-versus-a-copy\n",
      "  df1 = df['Taste'][8] = 'Salty'\n"
     ]
    }
   ],
   "source": [
    "df1 = df['Taste'][8] = 'Salty'"
   ]
  },
  {
   "cell_type": "code",
   "execution_count": 7,
   "id": "b3cce04a-e865-4efe-87c8-3abc5c8e29c0",
   "metadata": {},
   "outputs": [
    {
     "data": {
      "text/html": [
       "<div>\n",
       "<style scoped>\n",
       "    .dataframe tbody tr th:only-of-type {\n",
       "        vertical-align: middle;\n",
       "    }\n",
       "\n",
       "    .dataframe tbody tr th {\n",
       "        vertical-align: top;\n",
       "    }\n",
       "\n",
       "    .dataframe thead th {\n",
       "        text-align: right;\n",
       "    }\n",
       "</style>\n",
       "<table border=\"1\" class=\"dataframe\">\n",
       "  <thead>\n",
       "    <tr style=\"text-align: right;\">\n",
       "      <th></th>\n",
       "      <th>Food</th>\n",
       "      <th>Price</th>\n",
       "      <th>Place</th>\n",
       "      <th>Color</th>\n",
       "      <th>Cuisines</th>\n",
       "      <th>Taste</th>\n",
       "    </tr>\n",
       "  </thead>\n",
       "  <tbody>\n",
       "    <tr>\n",
       "      <th>0</th>\n",
       "      <td>Paneer</td>\n",
       "      <td>100</td>\n",
       "      <td>Nagpur</td>\n",
       "      <td>White</td>\n",
       "      <td>Indian</td>\n",
       "      <td>Tasteless</td>\n",
       "    </tr>\n",
       "    <tr>\n",
       "      <th>1</th>\n",
       "      <td>Biryani</td>\n",
       "      <td>200</td>\n",
       "      <td>Raigarh</td>\n",
       "      <td>Reddish Brown</td>\n",
       "      <td>Punjabi</td>\n",
       "      <td>Spicy</td>\n",
       "    </tr>\n",
       "    <tr>\n",
       "      <th>2</th>\n",
       "      <td>Pizza</td>\n",
       "      <td>150</td>\n",
       "      <td>Raipur</td>\n",
       "      <td>Red</td>\n",
       "      <td>Italian</td>\n",
       "      <td>Spicy</td>\n",
       "    </tr>\n",
       "    <tr>\n",
       "      <th>3</th>\n",
       "      <td>Idli</td>\n",
       "      <td>40</td>\n",
       "      <td>Chennai</td>\n",
       "      <td>White</td>\n",
       "      <td>South Indian</td>\n",
       "      <td>Good</td>\n",
       "    </tr>\n",
       "    <tr>\n",
       "      <th>4</th>\n",
       "      <td>Taco</td>\n",
       "      <td>70</td>\n",
       "      <td>Bangalore</td>\n",
       "      <td>Brown</td>\n",
       "      <td>Mexican</td>\n",
       "      <td>Spicy</td>\n",
       "    </tr>\n",
       "    <tr>\n",
       "      <th>5</th>\n",
       "      <td>Aloo Paratha</td>\n",
       "      <td>60</td>\n",
       "      <td>Kolkate</td>\n",
       "      <td>Brown</td>\n",
       "      <td>Punjabi</td>\n",
       "      <td>Salty</td>\n",
       "    </tr>\n",
       "    <tr>\n",
       "      <th>6</th>\n",
       "      <td>Chamcham</td>\n",
       "      <td>390</td>\n",
       "      <td>Delhi</td>\n",
       "      <td>Wwhite</td>\n",
       "      <td>North Indian</td>\n",
       "      <td>Salty</td>\n",
       "    </tr>\n",
       "    <tr>\n",
       "      <th>7</th>\n",
       "      <td>Chicken Chilly</td>\n",
       "      <td>180</td>\n",
       "      <td>Mumbai</td>\n",
       "      <td>Red</td>\n",
       "      <td>Indian</td>\n",
       "      <td>Sweet</td>\n",
       "    </tr>\n",
       "    <tr>\n",
       "      <th>8</th>\n",
       "      <td>Dhokla</td>\n",
       "      <td>40</td>\n",
       "      <td>Pune</td>\n",
       "      <td>Yellow</td>\n",
       "      <td>Gujrati</td>\n",
       "      <td>Salty</td>\n",
       "    </tr>\n",
       "    <tr>\n",
       "      <th>9</th>\n",
       "      <td>Dosa</td>\n",
       "      <td>55</td>\n",
       "      <td>Jalandhar</td>\n",
       "      <td>White</td>\n",
       "      <td>South Indian</td>\n",
       "      <td>Spicy</td>\n",
       "    </tr>\n",
       "    <tr>\n",
       "      <th>10</th>\n",
       "      <td>Chat</td>\n",
       "      <td>30</td>\n",
       "      <td>Indore</td>\n",
       "      <td>Mix</td>\n",
       "      <td>Indian</td>\n",
       "      <td>Spicy</td>\n",
       "    </tr>\n",
       "    <tr>\n",
       "      <th>11</th>\n",
       "      <td>Rasgulla</td>\n",
       "      <td>20</td>\n",
       "      <td>Jaipur</td>\n",
       "      <td>white</td>\n",
       "      <td>Bengalii</td>\n",
       "      <td>Sweet</td>\n",
       "    </tr>\n",
       "  </tbody>\n",
       "</table>\n",
       "</div>"
      ],
      "text/plain": [
       "              Food  Price      Place          Color      Cuisines      Taste\n",
       "0           Paneer    100     Nagpur          White        Indian  Tasteless\n",
       "1          Biryani    200    Raigarh  Reddish Brown       Punjabi      Spicy\n",
       "2            Pizza    150     Raipur            Red       Italian      Spicy\n",
       "3             Idli     40    Chennai          White  South Indian       Good\n",
       "4             Taco     70  Bangalore          Brown       Mexican      Spicy\n",
       "5     Aloo Paratha     60    Kolkate          Brown       Punjabi      Salty\n",
       "6         Chamcham    390      Delhi         Wwhite  North Indian      Salty\n",
       "7   Chicken Chilly    180     Mumbai            Red        Indian      Sweet\n",
       "8           Dhokla     40       Pune         Yellow       Gujrati      Salty\n",
       "9             Dosa     55  Jalandhar          White  South Indian      Spicy\n",
       "10            Chat     30     Indore            Mix        Indian      Spicy\n",
       "11        Rasgulla     20     Jaipur          white      Bengalii      Sweet"
      ]
     },
     "execution_count": 7,
     "metadata": {},
     "output_type": "execute_result"
    }
   ],
   "source": [
    "df.head(12)"
   ]
  },
  {
   "cell_type": "code",
   "execution_count": 12,
   "id": "441abf1d-f214-4b1c-81fb-509511925221",
   "metadata": {},
   "outputs": [
    {
     "data": {
      "text/plain": [
       "'Chamcham'"
      ]
     },
     "execution_count": 12,
     "metadata": {},
     "output_type": "execute_result"
    }
   ],
   "source": [
    "(df['Food'][df[\"Price\"]==df['Price'].max()]).values[0]"
   ]
  },
  {
   "cell_type": "code",
   "execution_count": 39,
   "id": "52e9eb75-4fbc-49b1-b589-0fb0214040cf",
   "metadata": {},
   "outputs": [
    {
     "data": {
      "text/plain": [
       "'Rasgulla'"
      ]
     },
     "execution_count": 39,
     "metadata": {},
     "output_type": "execute_result"
    }
   ],
   "source": [
    "(df[['Food','Price']][df['Taste']==\"Sweet\"].min()).values[0]"
   ]
  },
  {
   "cell_type": "raw",
   "id": "e4f1891d-126e-45ef-a36f-55e263e89c7c",
   "metadata": {},
   "source": [
    "df['Food'][((df.Color).str.upper==\"white\") & df['Place']=='Jaipur'].values[0]  #This is a null set"
   ]
  },
  {
   "cell_type": "code",
   "execution_count": 44,
   "id": "73237016-429b-41c4-bdcb-f228311f50dd",
   "metadata": {},
   "outputs": [
    {
     "data": {
      "text/html": [
       "<div>\n",
       "<style scoped>\n",
       "    .dataframe tbody tr th:only-of-type {\n",
       "        vertical-align: middle;\n",
       "    }\n",
       "\n",
       "    .dataframe tbody tr th {\n",
       "        vertical-align: top;\n",
       "    }\n",
       "\n",
       "    .dataframe thead th {\n",
       "        text-align: right;\n",
       "    }\n",
       "</style>\n",
       "<table border=\"1\" class=\"dataframe\">\n",
       "  <thead>\n",
       "    <tr style=\"text-align: right;\">\n",
       "      <th></th>\n",
       "      <th>Food</th>\n",
       "      <th>Price</th>\n",
       "      <th>Place</th>\n",
       "      <th>Color</th>\n",
       "      <th>Cuisines</th>\n",
       "      <th>Taste</th>\n",
       "    </tr>\n",
       "  </thead>\n",
       "  <tbody>\n",
       "    <tr>\n",
       "      <th>0</th>\n",
       "      <td>Paneer</td>\n",
       "      <td>100</td>\n",
       "      <td>Nagpur</td>\n",
       "      <td>White</td>\n",
       "      <td>Indian</td>\n",
       "      <td>Tasteless</td>\n",
       "    </tr>\n",
       "    <tr>\n",
       "      <th>1</th>\n",
       "      <td>Biryani</td>\n",
       "      <td>200</td>\n",
       "      <td>Raigarh</td>\n",
       "      <td>Reddish Brown</td>\n",
       "      <td>Punjabi</td>\n",
       "      <td>Spicy</td>\n",
       "    </tr>\n",
       "    <tr>\n",
       "      <th>2</th>\n",
       "      <td>Pizza</td>\n",
       "      <td>150</td>\n",
       "      <td>Raipur</td>\n",
       "      <td>Red</td>\n",
       "      <td>Italian</td>\n",
       "      <td>Spicy</td>\n",
       "    </tr>\n",
       "    <tr>\n",
       "      <th>3</th>\n",
       "      <td>Idli</td>\n",
       "      <td>40</td>\n",
       "      <td>Chennai</td>\n",
       "      <td>White</td>\n",
       "      <td>South Indian</td>\n",
       "      <td>Good</td>\n",
       "    </tr>\n",
       "    <tr>\n",
       "      <th>4</th>\n",
       "      <td>Taco</td>\n",
       "      <td>70</td>\n",
       "      <td>Bangalore</td>\n",
       "      <td>Brown</td>\n",
       "      <td>Mexican</td>\n",
       "      <td>Spicy</td>\n",
       "    </tr>\n",
       "    <tr>\n",
       "      <th>5</th>\n",
       "      <td>Aloo Paratha</td>\n",
       "      <td>60</td>\n",
       "      <td>Kolkate</td>\n",
       "      <td>Brown</td>\n",
       "      <td>Punjabi</td>\n",
       "      <td>Salty</td>\n",
       "    </tr>\n",
       "    <tr>\n",
       "      <th>6</th>\n",
       "      <td>Chamcham</td>\n",
       "      <td>390</td>\n",
       "      <td>Delhi</td>\n",
       "      <td>Wwhite</td>\n",
       "      <td>North Indian</td>\n",
       "      <td>Salty</td>\n",
       "    </tr>\n",
       "    <tr>\n",
       "      <th>7</th>\n",
       "      <td>Chicken Chilly</td>\n",
       "      <td>180</td>\n",
       "      <td>Mumbai</td>\n",
       "      <td>Red</td>\n",
       "      <td>Indian</td>\n",
       "      <td>Spicy</td>\n",
       "    </tr>\n",
       "    <tr>\n",
       "      <th>8</th>\n",
       "      <td>Dhokla</td>\n",
       "      <td>40</td>\n",
       "      <td>Pune</td>\n",
       "      <td>Yellow</td>\n",
       "      <td>Gujrati</td>\n",
       "      <td>Salty</td>\n",
       "    </tr>\n",
       "    <tr>\n",
       "      <th>9</th>\n",
       "      <td>Dosa</td>\n",
       "      <td>55</td>\n",
       "      <td>Jalandhar</td>\n",
       "      <td>White</td>\n",
       "      <td>South Indian</td>\n",
       "      <td>Spicy</td>\n",
       "    </tr>\n",
       "    <tr>\n",
       "      <th>10</th>\n",
       "      <td>Chat</td>\n",
       "      <td>30</td>\n",
       "      <td>Indore</td>\n",
       "      <td>Mix</td>\n",
       "      <td>Indian</td>\n",
       "      <td>Spicy</td>\n",
       "    </tr>\n",
       "    <tr>\n",
       "      <th>11</th>\n",
       "      <td>Rasgulla</td>\n",
       "      <td>20</td>\n",
       "      <td>Jaipur</td>\n",
       "      <td>white</td>\n",
       "      <td>Bengalii</td>\n",
       "      <td>Sweet</td>\n",
       "    </tr>\n",
       "    <tr>\n",
       "      <th>12</th>\n",
       "      <td>Chole Bhature</td>\n",
       "      <td>60</td>\n",
       "      <td>Kaul</td>\n",
       "      <td>White</td>\n",
       "      <td>Indian</td>\n",
       "      <td>Spicy</td>\n",
       "    </tr>\n",
       "    <tr>\n",
       "      <th>13</th>\n",
       "      <td>Samosa</td>\n",
       "      <td>7</td>\n",
       "      <td>Varanasi</td>\n",
       "      <td>Brown</td>\n",
       "      <td>Mughlai</td>\n",
       "      <td>Spicy</td>\n",
       "    </tr>\n",
       "  </tbody>\n",
       "</table>\n",
       "</div>"
      ],
      "text/plain": [
       "              Food  Price      Place          Color      Cuisines      Taste\n",
       "0           Paneer    100     Nagpur          White        Indian  Tasteless\n",
       "1          Biryani    200    Raigarh  Reddish Brown       Punjabi      Spicy\n",
       "2            Pizza    150     Raipur            Red       Italian      Spicy\n",
       "3             Idli     40    Chennai          White  South Indian       Good\n",
       "4             Taco     70  Bangalore          Brown       Mexican      Spicy\n",
       "5     Aloo Paratha     60    Kolkate          Brown       Punjabi      Salty\n",
       "6         Chamcham    390      Delhi         Wwhite  North Indian      Salty\n",
       "7   Chicken Chilly    180     Mumbai            Red        Indian      Spicy\n",
       "8           Dhokla     40       Pune         Yellow       Gujrati      Salty\n",
       "9             Dosa     55  Jalandhar          White  South Indian      Spicy\n",
       "10            Chat     30     Indore            Mix        Indian      Spicy\n",
       "11        Rasgulla     20     Jaipur          white      Bengalii      Sweet\n",
       "12   Chole Bhature     60       Kaul          White        Indian      Spicy\n",
       "13          Samosa      7   Varanasi          Brown       Mughlai      Spicy"
      ]
     },
     "execution_count": 44,
     "metadata": {},
     "output_type": "execute_result"
    }
   ],
   "source": [
    "df"
   ]
  },
  {
   "cell_type": "code",
   "execution_count": 46,
   "id": "c6cbbf32-09d0-42d7-997c-d45675b505e4",
   "metadata": {},
   "outputs": [
    {
     "data": {
      "text/plain": [
       "Spicy        8\n",
       "Salty        3\n",
       "Good         1\n",
       "Sweet        1\n",
       "Tasteless    1\n",
       "Name: Taste, dtype: int64"
      ]
     },
     "execution_count": 46,
     "metadata": {},
     "output_type": "execute_result"
    }
   ],
   "source": [
    "df['Taste'].value_counts()"
   ]
  },
  {
   "cell_type": "code",
   "execution_count": 11,
   "id": "b9c79800-a777-41d9-9f48-4830a5ff01ff",
   "metadata": {},
   "outputs": [
    {
     "ename": "TypeError",
     "evalue": "unsupported operand type(s) for &: 'str' and 'method'",
     "output_type": "error",
     "traceback": [
      "\u001b[1;31m---------------------------------------------------------------------------\u001b[0m",
      "\u001b[1;31mTypeError\u001b[0m                                 Traceback (most recent call last)",
      "\u001b[1;32m<ipython-input-11-370aa3c7f9f5>\u001b[0m in \u001b[0;36m<module>\u001b[1;34m\u001b[0m\n\u001b[1;32m----> 1\u001b[1;33m \u001b[0mdf\u001b[0m\u001b[1;33m[\u001b[0m\u001b[1;34m'Food'\u001b[0m\u001b[1;33m]\u001b[0m\u001b[1;33m[\u001b[0m\u001b[1;33m(\u001b[0m\u001b[0mdf\u001b[0m\u001b[1;33m[\u001b[0m\u001b[1;34m'Place'\u001b[0m\u001b[1;33m]\u001b[0m\u001b[1;33m==\u001b[0m\u001b[1;34m'Indore)'\u001b[0m \u001b[1;33m&\u001b[0m \u001b[1;33m(\u001b[0m\u001b[0mdf\u001b[0m\u001b[1;33m[\u001b[0m\u001b[1;34m'Color'\u001b[0m\u001b[1;33m]\u001b[0m\u001b[1;33m)\u001b[0m\u001b[1;33m.\u001b[0m\u001b[0mstr\u001b[0m\u001b[1;33m.\u001b[0m\u001b[0mupper\u001b[0m\u001b[1;33m==\u001b[0m\u001b[1;34m'WHITE'\u001b[0m\u001b[1;33m)\u001b[0m\u001b[1;33m]\u001b[0m\u001b[1;33m\u001b[0m\u001b[1;33m\u001b[0m\u001b[0m\n\u001b[0m",
      "\u001b[1;31mTypeError\u001b[0m: unsupported operand type(s) for &: 'str' and 'method'"
     ]
    }
   ],
   "source": [
    "df['Food'][(df['Place']=='Indore)' & (df['Color']).str.upper=='WHITE')]"
   ]
  },
  {
   "cell_type": "code",
   "execution_count": 15,
   "id": "dbf85a02-948e-4bc8-98e8-562b81d0d973",
   "metadata": {},
   "outputs": [],
   "source": [
    "df1 = pd.read_excel('supermarkets.xlsx')"
   ]
  },
  {
   "cell_type": "code",
   "execution_count": 16,
   "id": "1f8b0e11-e08c-4c8b-a68c-3833c9aab3c1",
   "metadata": {},
   "outputs": [
    {
     "data": {
      "text/html": [
       "<div>\n",
       "<style scoped>\n",
       "    .dataframe tbody tr th:only-of-type {\n",
       "        vertical-align: middle;\n",
       "    }\n",
       "\n",
       "    .dataframe tbody tr th {\n",
       "        vertical-align: top;\n",
       "    }\n",
       "\n",
       "    .dataframe thead th {\n",
       "        text-align: right;\n",
       "    }\n",
       "</style>\n",
       "<table border=\"1\" class=\"dataframe\">\n",
       "  <thead>\n",
       "    <tr style=\"text-align: right;\">\n",
       "      <th></th>\n",
       "      <th>ID</th>\n",
       "      <th>Address</th>\n",
       "      <th>City</th>\n",
       "      <th>State</th>\n",
       "      <th>Country</th>\n",
       "      <th>Supermarket Name</th>\n",
       "      <th>Number of Employees</th>\n",
       "    </tr>\n",
       "  </thead>\n",
       "  <tbody>\n",
       "    <tr>\n",
       "      <th>0</th>\n",
       "      <td>1</td>\n",
       "      <td>3666 21st St</td>\n",
       "      <td>San Francisco</td>\n",
       "      <td>CA 94114</td>\n",
       "      <td>USA</td>\n",
       "      <td>Madeira</td>\n",
       "      <td>8</td>\n",
       "    </tr>\n",
       "    <tr>\n",
       "      <th>1</th>\n",
       "      <td>2</td>\n",
       "      <td>735 Dolores St</td>\n",
       "      <td>San Francisco</td>\n",
       "      <td>CA 94119</td>\n",
       "      <td>USA</td>\n",
       "      <td>Bready Shop</td>\n",
       "      <td>15</td>\n",
       "    </tr>\n",
       "    <tr>\n",
       "      <th>2</th>\n",
       "      <td>3</td>\n",
       "      <td>332 Hill St</td>\n",
       "      <td>San Francisco</td>\n",
       "      <td>California 94114</td>\n",
       "      <td>USA</td>\n",
       "      <td>Super River</td>\n",
       "      <td>25</td>\n",
       "    </tr>\n",
       "    <tr>\n",
       "      <th>3</th>\n",
       "      <td>4</td>\n",
       "      <td>3995 23rd St</td>\n",
       "      <td>San Francisco</td>\n",
       "      <td>CA 94114</td>\n",
       "      <td>USA</td>\n",
       "      <td>Ben's Shop</td>\n",
       "      <td>10</td>\n",
       "    </tr>\n",
       "    <tr>\n",
       "      <th>4</th>\n",
       "      <td>5</td>\n",
       "      <td>1056 Sanchez St</td>\n",
       "      <td>San Francisco</td>\n",
       "      <td>California</td>\n",
       "      <td>USA</td>\n",
       "      <td>Sanchez</td>\n",
       "      <td>12</td>\n",
       "    </tr>\n",
       "    <tr>\n",
       "      <th>5</th>\n",
       "      <td>6</td>\n",
       "      <td>551 Alvarado St</td>\n",
       "      <td>San Francisco</td>\n",
       "      <td>CA 94114</td>\n",
       "      <td>USA</td>\n",
       "      <td>Richvalley</td>\n",
       "      <td>20</td>\n",
       "    </tr>\n",
       "  </tbody>\n",
       "</table>\n",
       "</div>"
      ],
      "text/plain": [
       "   ID          Address           City             State Country  \\\n",
       "0   1     3666 21st St  San Francisco          CA 94114     USA   \n",
       "1   2   735 Dolores St  San Francisco          CA 94119     USA   \n",
       "2   3      332 Hill St  San Francisco  California 94114     USA   \n",
       "3   4     3995 23rd St  San Francisco          CA 94114     USA   \n",
       "4   5  1056 Sanchez St  San Francisco        California     USA   \n",
       "5   6  551 Alvarado St  San Francisco          CA 94114     USA   \n",
       "\n",
       "  Supermarket Name  Number of Employees  \n",
       "0          Madeira                    8  \n",
       "1      Bready Shop                   15  \n",
       "2      Super River                   25  \n",
       "3       Ben's Shop                   10  \n",
       "4          Sanchez                   12  \n",
       "5       Richvalley                   20  "
      ]
     },
     "execution_count": 16,
     "metadata": {},
     "output_type": "execute_result"
    }
   ],
   "source": [
    "df1"
   ]
  },
  {
   "cell_type": "code",
   "execution_count": 25,
   "id": "bd19be9a-dd78-4772-a396-3fc772c21a5f",
   "metadata": {},
   "outputs": [
    {
     "data": {
      "text/plain": [
       "str"
      ]
     },
     "execution_count": 25,
     "metadata": {},
     "output_type": "execute_result"
    }
   ],
   "source": []
  },
  {
   "cell_type": "code",
   "execution_count": null,
   "id": "f1bd7f5a-614f-42b0-9792-b4dc65ae75c0",
   "metadata": {},
   "outputs": [],
   "source": []
  }
 ],
 "metadata": {
  "kernelspec": {
   "display_name": "Python 3",
   "language": "python",
   "name": "python3"
  },
  "language_info": {
   "codemirror_mode": {
    "name": "ipython",
    "version": 3
   },
   "file_extension": ".py",
   "mimetype": "text/x-python",
   "name": "python",
   "nbconvert_exporter": "python",
   "pygments_lexer": "ipython3",
   "version": "3.8.8"
  }
 },
 "nbformat": 4,
 "nbformat_minor": 5
}
