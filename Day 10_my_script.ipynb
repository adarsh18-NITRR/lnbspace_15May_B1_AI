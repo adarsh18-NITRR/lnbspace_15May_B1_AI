{
 "cells": [
  {
   "cell_type": "markdown",
   "id": "7f12fd4b-0db0-47c2-9d28-dc548dca22a2",
   "metadata": {},
   "source": [
    "## Data Analytics"
   ]
  },
  {
   "cell_type": "raw",
   "id": "b4da9daf-0b85-468a-b1e2-9f933a4c1146",
   "metadata": {},
   "source": [
    "numpy\n",
    "pandas\n",
    "matplotlib\n",
    "seaborn \n",
    "plotly"
   ]
  },
  {
   "cell_type": "raw",
   "id": "b6f3a545-4a4d-40db-bb17-3ce39f5224b2",
   "metadata": {},
   "source": [
    "EDA - CDA data types"
   ]
  },
  {
   "cell_type": "markdown",
   "id": "7568fe69-3c93-4b69-83ea-44368dd5142b",
   "metadata": {
    "tags": []
   },
   "source": [
    "### Numpy"
   ]
  },
  {
   "cell_type": "code",
   "execution_count": 1,
   "id": "3320a5bd-2e93-4341-a458-6c9c7260abb4",
   "metadata": {},
   "outputs": [],
   "source": [
    "import numpy as np"
   ]
  },
  {
   "cell_type": "code",
   "execution_count": 3,
   "id": "86c7d720-ee59-4b03-9ed3-ff3f3b4fcaa3",
   "metadata": {},
   "outputs": [],
   "source": [
    "n = np.array([])"
   ]
  },
  {
   "cell_type": "code",
   "execution_count": 4,
   "id": "68480b5d-da2f-4bed-a80f-a322580a8f95",
   "metadata": {},
   "outputs": [
    {
     "data": {
      "text/plain": [
       "array([], dtype=float64)"
      ]
     },
     "execution_count": 4,
     "metadata": {},
     "output_type": "execute_result"
    }
   ],
   "source": [
    "n"
   ]
  },
  {
   "cell_type": "code",
   "execution_count": 5,
   "id": "ca180914-b4e2-4bb5-8b12-fd5b4311e4f1",
   "metadata": {},
   "outputs": [
    {
     "name": "stdout",
     "output_type": "stream",
     "text": [
      "[]\n"
     ]
    }
   ],
   "source": [
    "print(n)"
   ]
  },
  {
   "cell_type": "code",
   "execution_count": 7,
   "id": "bc532fd9-7a74-4528-8245-071113cc6c26",
   "metadata": {},
   "outputs": [
    {
     "data": {
      "text/plain": [
       "(0,)"
      ]
     },
     "execution_count": 7,
     "metadata": {},
     "output_type": "execute_result"
    }
   ],
   "source": [
    "n.shape"
   ]
  },
  {
   "cell_type": "code",
   "execution_count": 8,
   "id": "563ae034-bd55-4bdb-a639-d4e239084159",
   "metadata": {},
   "outputs": [
    {
     "data": {
      "text/plain": [
       "0"
      ]
     },
     "execution_count": 8,
     "metadata": {},
     "output_type": "execute_result"
    }
   ],
   "source": [
    "n.size"
   ]
  },
  {
   "cell_type": "code",
   "execution_count": 10,
   "id": "0ef30b42-d36f-45fe-8094-9078b20f6032",
   "metadata": {},
   "outputs": [
    {
     "data": {
      "text/plain": [
       "0"
      ]
     },
     "execution_count": 10,
     "metadata": {},
     "output_type": "execute_result"
    }
   ],
   "source": [
    "len(n)"
   ]
  },
  {
   "cell_type": "code",
   "execution_count": 11,
   "id": "f4a74442-2e36-4410-bca1-199a88a3bd8a",
   "metadata": {},
   "outputs": [
    {
     "data": {
      "text/plain": [
       "dtype('float64')"
      ]
     },
     "execution_count": 11,
     "metadata": {},
     "output_type": "execute_result"
    }
   ],
   "source": [
    "n.dtype"
   ]
  },
  {
   "cell_type": "code",
   "execution_count": 30,
   "id": "6f1c4e06-092b-4dfb-a821-6c836e504ac3",
   "metadata": {},
   "outputs": [],
   "source": [
    "n = np.array([2,3,4,5,6])"
   ]
  },
  {
   "cell_type": "code",
   "execution_count": 13,
   "id": "2771a550-61ad-4773-a502-5f6150894c62",
   "metadata": {},
   "outputs": [
    {
     "data": {
      "text/plain": [
       "dtype('int32')"
      ]
     },
     "execution_count": 13,
     "metadata": {},
     "output_type": "execute_result"
    }
   ],
   "source": [
    "n.dtype"
   ]
  },
  {
   "cell_type": "code",
   "execution_count": 15,
   "id": "24eaec9a-5c66-4550-8119-efd6bd0e736b",
   "metadata": {},
   "outputs": [],
   "source": [
    "mp = np.array([[2,3,4],[1,2,3]])"
   ]
  },
  {
   "cell_type": "code",
   "execution_count": 17,
   "id": "5e482d67-a161-4425-ab3e-6cb716998f14",
   "metadata": {},
   "outputs": [
    {
     "data": {
      "text/plain": [
       "(2, 3)"
      ]
     },
     "execution_count": 17,
     "metadata": {},
     "output_type": "execute_result"
    }
   ],
   "source": [
    "mp.shape"
   ]
  },
  {
   "cell_type": "code",
   "execution_count": 18,
   "id": "96e82c22-ce36-4724-b511-b5143b7a8c9a",
   "metadata": {},
   "outputs": [
    {
     "data": {
      "text/plain": [
       "array([[2, 3, 4],\n",
       "       [1, 2, 3]])"
      ]
     },
     "execution_count": 18,
     "metadata": {},
     "output_type": "execute_result"
    }
   ],
   "source": [
    "mp"
   ]
  },
  {
   "cell_type": "raw",
   "id": "5f800c94-e431-4603-91a8-5f3f6fa03a9b",
   "metadata": {},
   "source": [
    "1 2 3\n",
    "4 5 6\n",
    "2 3 4\n",
    "1 2 3"
   ]
  },
  {
   "cell_type": "code",
   "execution_count": 19,
   "id": "3b0cf0e4-b422-41a8-b13a-2e82af3a413e",
   "metadata": {},
   "outputs": [],
   "source": [
    "np1 = np.array([[1,2,3],[1,2,3],[1,2,4],[2,3,4]]) #row - [ column ] "
   ]
  },
  {
   "cell_type": "code",
   "execution_count": 20,
   "id": "1b9f704d-b1a3-4108-99ac-508712403376",
   "metadata": {},
   "outputs": [
    {
     "data": {
      "text/plain": [
       "array([[1, 2, 3],\n",
       "       [1, 2, 3],\n",
       "       [1, 2, 4],\n",
       "       [2, 3, 4]])"
      ]
     },
     "execution_count": 20,
     "metadata": {},
     "output_type": "execute_result"
    }
   ],
   "source": [
    "np1"
   ]
  },
  {
   "cell_type": "code",
   "execution_count": 21,
   "id": "33ca59fe-7ab9-4682-a32d-2ec0980e1014",
   "metadata": {},
   "outputs": [
    {
     "data": {
      "text/plain": [
       "4"
      ]
     },
     "execution_count": 21,
     "metadata": {},
     "output_type": "execute_result"
    }
   ],
   "source": [
    "len(np1)"
   ]
  },
  {
   "cell_type": "code",
   "execution_count": 22,
   "id": "3efb0ca7-5479-4523-9f76-eeedaf36bb83",
   "metadata": {},
   "outputs": [
    {
     "data": {
      "text/plain": [
       "(4, 3)"
      ]
     },
     "execution_count": 22,
     "metadata": {},
     "output_type": "execute_result"
    }
   ],
   "source": [
    "np1.shape"
   ]
  },
  {
   "cell_type": "markdown",
   "id": "18ecd42f-996e-4dc6-ba6b-e643f9d5e200",
   "metadata": {},
   "source": [
    "## For 3D matrix"
   ]
  },
  {
   "cell_type": "raw",
   "id": "325d360f-7541-4bd0-a6dd-77739d5c28cd",
   "metadata": {},
   "source": [
    "row - column - layer"
   ]
  },
  {
   "cell_type": "raw",
   "id": "93866242-4f54-4ba1-9553-ca0cd1b5ec63",
   "metadata": {},
   "source": [
    "2 row 3 column 2 layer has shape 2,3,2"
   ]
  },
  {
   "cell_type": "code",
   "execution_count": 24,
   "id": "7279a10a-ce34-4b57-ac99-a1e9b7b1f1ba",
   "metadata": {},
   "outputs": [],
   "source": [
    "#accessing the elements"
   ]
  },
  {
   "cell_type": "code",
   "execution_count": 25,
   "id": "f6f652d6-cb8e-473b-9bf8-e11fe91c8d51",
   "metadata": {},
   "outputs": [],
   "source": [
    "np3 = np.array([[[8,81],[7,71],[6,61]],[[9,91],[4,41],[18,181]]])"
   ]
  },
  {
   "cell_type": "code",
   "execution_count": 27,
   "id": "88293729-fbc8-4883-9a8a-6fb6d201b8dd",
   "metadata": {},
   "outputs": [
    {
     "data": {
      "text/plain": [
       "(2, 3, 2)"
      ]
     },
     "execution_count": 27,
     "metadata": {},
     "output_type": "execute_result"
    }
   ],
   "source": [
    "np3.shape # 2 rows, 3 columns, 2 rows"
   ]
  },
  {
   "cell_type": "code",
   "execution_count": 28,
   "id": "4316acc3-b6f6-4555-a6c6-2396bd08978e",
   "metadata": {},
   "outputs": [
    {
     "data": {
      "text/plain": [
       "array([[ 7, 71],\n",
       "       [ 4, 41]])"
      ]
     },
     "execution_count": 28,
     "metadata": {},
     "output_type": "execute_result"
    }
   ],
   "source": [
    "np3[:,1,:]"
   ]
  },
  {
   "cell_type": "code",
   "execution_count": 29,
   "id": "046efa31-2565-4aa2-8eb5-90d154e8ab71",
   "metadata": {},
   "outputs": [
    {
     "data": {
      "text/plain": [
       "array([[  9,  91],\n",
       "       [  4,  41],\n",
       "       [ 18, 181]])"
      ]
     },
     "execution_count": 29,
     "metadata": {},
     "output_type": "execute_result"
    }
   ],
   "source": [
    "np3[1]"
   ]
  },
  {
   "cell_type": "markdown",
   "id": "baf97501-9031-4e53-a8ea-3101fa453b63",
   "metadata": {},
   "source": [
    "## modifying"
   ]
  },
  {
   "cell_type": "code",
   "execution_count": 31,
   "id": "8252749b-a5c9-421e-a32c-904b70e9fd4e",
   "metadata": {},
   "outputs": [],
   "source": [
    "n = np.array([2,3,4,5,6])"
   ]
  },
  {
   "cell_type": "code",
   "execution_count": 32,
   "id": "7cb99b60-965f-491c-a35d-8416d2155b16",
   "metadata": {},
   "outputs": [],
   "source": [
    "n[0] = 20"
   ]
  },
  {
   "cell_type": "code",
   "execution_count": 33,
   "id": "31411c5d-6efc-443b-bae9-f5dd7b81bf7a",
   "metadata": {},
   "outputs": [
    {
     "data": {
      "text/plain": [
       "array([20,  3,  4,  5,  6])"
      ]
     },
     "execution_count": 33,
     "metadata": {},
     "output_type": "execute_result"
    }
   ],
   "source": [
    "n"
   ]
  },
  {
   "cell_type": "code",
   "execution_count": 34,
   "id": "3ea61103-bac8-43bd-94df-853801c7d7b6",
   "metadata": {},
   "outputs": [],
   "source": [
    "## array creating functions"
   ]
  },
  {
   "cell_type": "code",
   "execution_count": 35,
   "id": "b317ff2e-15c8-4290-b061-1eb3ec211ff6",
   "metadata": {},
   "outputs": [
    {
     "data": {
      "text/plain": [
       "array([[0, 0],\n",
       "       [0, 0]])"
      ]
     },
     "execution_count": 35,
     "metadata": {},
     "output_type": "execute_result"
    }
   ],
   "source": [
    "np.zeros((2,2),dtype=int)"
   ]
  },
  {
   "cell_type": "code",
   "execution_count": 38,
   "id": "d491dd6b-6538-4053-a7d8-26ee062eea44",
   "metadata": {},
   "outputs": [
    {
     "data": {
      "text/plain": [
       "array([[1., 1., 1., 1.],\n",
       "       [1., 1., 1., 1.],\n",
       "       [1., 1., 1., 1.]])"
      ]
     },
     "execution_count": 38,
     "metadata": {},
     "output_type": "execute_result"
    }
   ],
   "source": [
    "np.ones((3,4))"
   ]
  },
  {
   "cell_type": "code",
   "execution_count": 40,
   "id": "80f35824-b914-4284-a937-57ea89864289",
   "metadata": {},
   "outputs": [
    {
     "data": {
      "text/plain": [
       "array([ 1,  6, 11, 16, 21, 26, 31, 36, 41, 46, 51, 56, 61, 66, 71, 76, 81,\n",
       "       86, 91, 96])"
      ]
     },
     "execution_count": 40,
     "metadata": {},
     "output_type": "execute_result"
    }
   ],
   "source": [
    "np.arange(1,100,5) # 1 se 100 tak 5 ke difference me"
   ]
  },
  {
   "cell_type": "code",
   "execution_count": 42,
   "id": "c77f8d80-3fbe-4479-a351-abe677f02e44",
   "metadata": {},
   "outputs": [
    {
     "data": {
      "text/plain": [
       "array([  1.        ,   6.21052632,  11.42105263,  16.63157895,\n",
       "        21.84210526,  27.05263158,  32.26315789,  37.47368421,\n",
       "        42.68421053,  47.89473684,  53.10526316,  58.31578947,\n",
       "        63.52631579,  68.73684211,  73.94736842,  79.15789474,\n",
       "        84.36842105,  89.57894737,  94.78947368, 100.        ])"
      ]
     },
     "execution_count": 42,
     "metadata": {},
     "output_type": "execute_result"
    }
   ],
   "source": [
    "np.linspace(1,100,20) #1 se 100 tak 20 values"
   ]
  },
  {
   "cell_type": "code",
   "execution_count": 44,
   "id": "6ba0fa74-9c95-48d2-acad-478b570c119e",
   "metadata": {},
   "outputs": [
    {
     "data": {
      "text/plain": [
       "array([[1., 0., 0.],\n",
       "       [0., 1., 0.],\n",
       "       [0., 0., 1.]])"
      ]
     },
     "execution_count": 44,
     "metadata": {},
     "output_type": "execute_result"
    }
   ],
   "source": [
    "np.eye(3)     #creating identity matrix"
   ]
  },
  {
   "cell_type": "code",
   "execution_count": 46,
   "id": "28eb4faa-26f6-4703-8c44-5327cee0671a",
   "metadata": {},
   "outputs": [
    {
     "data": {
      "text/plain": [
       "array([[ 5.55905484,  0.42717688,  0.65743619,  2.35276458],\n",
       "       [10.11267964,  7.89593475,  7.29305322, 15.81031199],\n",
       "       [ 0.27230862, 16.88608279,  3.26576341, 14.09043951]])"
      ]
     },
     "execution_count": 46,
     "metadata": {},
     "output_type": "execute_result"
    }
   ],
   "source": [
    "np.random.rand(3,4)*20"
   ]
  },
  {
   "cell_type": "code",
   "execution_count": 55,
   "id": "f7a53bb1-12fb-4ef4-9bf2-b92fb005c8d2",
   "metadata": {},
   "outputs": [],
   "source": [
    "k = np.random.randint(1,100,(2,3)) #1 se 100 tak - 2 row 3column ka matrix\n"
   ]
  },
  {
   "cell_type": "markdown",
   "id": "065bf18d-05d1-4080-872d-07174324ac51",
   "metadata": {},
   "source": [
    "## working with matrix - operations"
   ]
  },
  {
   "cell_type": "raw",
   "id": "6a4b663c-707f-42e9-9e24-5b771ef29ddb",
   "metadata": {},
   "source": [
    "k1.reshape"
   ]
  },
  {
   "cell_type": "code",
   "execution_count": 54,
   "id": "e2a345ac-4da6-4806-aae9-a0aac760ad55",
   "metadata": {},
   "outputs": [],
   "source": [
    "## statistic functions"
   ]
  },
  {
   "cell_type": "code",
   "execution_count": 56,
   "id": "d26b8733-5448-43b3-8e46-d30b6b600c7e",
   "metadata": {},
   "outputs": [
    {
     "data": {
      "text/plain": [
       "array([[95, 30, 54],\n",
       "       [63, 74, 29]])"
      ]
     },
     "execution_count": 56,
     "metadata": {},
     "output_type": "execute_result"
    }
   ],
   "source": [
    "k"
   ]
  },
  {
   "cell_type": "code",
   "execution_count": 58,
   "id": "ac70bdd3-022d-47f4-89c5-98c72ebe7d63",
   "metadata": {},
   "outputs": [
    {
     "data": {
      "text/plain": [
       "345"
      ]
     },
     "execution_count": 58,
     "metadata": {},
     "output_type": "execute_result"
    }
   ],
   "source": [
    "k.sum()"
   ]
  },
  {
   "cell_type": "code",
   "execution_count": 59,
   "id": "84f1d6a8-3f69-422a-a797-e5beef0ab86b",
   "metadata": {},
   "outputs": [
    {
     "data": {
      "text/plain": [
       "29"
      ]
     },
     "execution_count": 59,
     "metadata": {},
     "output_type": "execute_result"
    }
   ],
   "source": [
    "k.min()"
   ]
  },
  {
   "cell_type": "code",
   "execution_count": 60,
   "id": "be167d73-e1ed-4dac-b19a-88bd592823ff",
   "metadata": {},
   "outputs": [
    {
     "data": {
      "text/plain": [
       "95"
      ]
     },
     "execution_count": 60,
     "metadata": {},
     "output_type": "execute_result"
    }
   ],
   "source": [
    "k.max()"
   ]
  },
  {
   "cell_type": "code",
   "execution_count": 61,
   "id": "28dfbefd-b81c-4f2c-9823-63bc9f412fd1",
   "metadata": {},
   "outputs": [
    {
     "data": {
      "text/plain": [
       "array([179, 166])"
      ]
     },
     "execution_count": 61,
     "metadata": {},
     "output_type": "execute_result"
    }
   ],
   "source": [
    "k.sum(axis=1)"
   ]
  },
  {
   "cell_type": "markdown",
   "id": "1cce289f-9ea6-4a54-a1b0-cc4c9346bf69",
   "metadata": {},
   "source": [
    "### <b>we are saving a variable</b>"
   ]
  },
  {
   "cell_type": "code",
   "execution_count": 62,
   "id": "89a181a5-11ce-4cb9-b96b-c501f74d3b90",
   "metadata": {},
   "outputs": [
    {
     "data": {
      "text/plain": [
       "array([[95, 30, 54],\n",
       "       [63, 74, 29]])"
      ]
     },
     "execution_count": 62,
     "metadata": {},
     "output_type": "execute_result"
    }
   ],
   "source": [
    "k"
   ]
  },
  {
   "cell_type": "code",
   "execution_count": 64,
   "id": "b3bd1e59-49c8-404f-8271-51033e2a364f",
   "metadata": {},
   "outputs": [],
   "source": [
    "np.save('my_array',k) # this is <jis_naam se save hoga>,<jisko save krna hai>"
   ]
  },
  {
   "cell_type": "code",
   "execution_count": 65,
   "id": "6022aa31-3693-47fa-8af0-b2a7dc475cf2",
   "metadata": {},
   "outputs": [],
   "source": [
    "#loading the file"
   ]
  },
  {
   "cell_type": "code",
   "execution_count": 66,
   "id": "5aab7ea5-9bae-4403-8986-3907eafb18c2",
   "metadata": {},
   "outputs": [],
   "source": [
    "obj = np.load('my_array.npy')"
   ]
  },
  {
   "cell_type": "code",
   "execution_count": null,
   "id": "94cf8f49-2a8b-4857-8b35-c1d1ede6dd8c",
   "metadata": {},
   "outputs": [],
   "source": []
  }
 ],
 "metadata": {
  "kernelspec": {
   "display_name": "Python 3",
   "language": "python",
   "name": "python3"
  },
  "language_info": {
   "codemirror_mode": {
    "name": "ipython",
    "version": 3
   },
   "file_extension": ".py",
   "mimetype": "text/x-python",
   "name": "python",
   "nbconvert_exporter": "python",
   "pygments_lexer": "ipython3",
   "version": "3.8.8"
  }
 },
 "nbformat": 4,
 "nbformat_minor": 5
}
