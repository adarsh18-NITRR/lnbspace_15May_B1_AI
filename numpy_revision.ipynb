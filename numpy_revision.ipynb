{
 "cells": [
  {
   "cell_type": "code",
   "execution_count": 8,
   "id": "a240be50-6622-4819-a0d9-658bac14c80e",
   "metadata": {},
   "outputs": [],
   "source": [
    "import numpy as np"
   ]
  },
  {
   "cell_type": "code",
   "execution_count": 9,
   "id": "438d74ca-a293-44c2-bc48-1c031d47b76f",
   "metadata": {},
   "outputs": [],
   "source": [
    "np1 = np.array([1,2,3,4])"
   ]
  },
  {
   "cell_type": "code",
   "execution_count": 10,
   "id": "eb2a79ff-a8a7-47f7-b373-9a1ee2575497",
   "metadata": {},
   "outputs": [
    {
     "data": {
      "text/plain": [
       "array([1, 2, 3, 4])"
      ]
     },
     "execution_count": 10,
     "metadata": {},
     "output_type": "execute_result"
    }
   ],
   "source": [
    "np1"
   ]
  },
  {
   "cell_type": "code",
   "execution_count": 11,
   "id": "6b14d666-2d20-4b44-b6c4-6aa794d568a9",
   "metadata": {},
   "outputs": [
    {
     "data": {
      "text/plain": [
       "numpy.ndarray"
      ]
     },
     "execution_count": 11,
     "metadata": {},
     "output_type": "execute_result"
    }
   ],
   "source": [
    "type(np1)"
   ]
  },
  {
   "cell_type": "code",
   "execution_count": 12,
   "id": "7deee797-a158-4bbb-874b-7fef6045f16f",
   "metadata": {},
   "outputs": [],
   "source": [
    "np2 = np.array(['str','this','is'])"
   ]
  },
  {
   "cell_type": "code",
   "execution_count": 13,
   "id": "72372664-feca-4755-9f4b-48433dde3e0e",
   "metadata": {},
   "outputs": [
    {
     "data": {
      "text/plain": [
       "array(['str', 'this', 'is'], dtype='<U4')"
      ]
     },
     "execution_count": 13,
     "metadata": {},
     "output_type": "execute_result"
    }
   ],
   "source": [
    "np2"
   ]
  },
  {
   "cell_type": "code",
   "execution_count": 18,
   "id": "5aa45918-1231-427a-b996-a6c90630183e",
   "metadata": {},
   "outputs": [],
   "source": [
    "np3 = np.array([[2,3,5,5],[1,2,3,4.0]])"
   ]
  },
  {
   "cell_type": "code",
   "execution_count": 19,
   "id": "cf9a470f-22fe-44d5-95e4-9701d9cb14e4",
   "metadata": {},
   "outputs": [
    {
     "name": "stdout",
     "output_type": "stream",
     "text": [
      "[[2. 3. 5. 5.]\n",
      " [1. 2. 3. 4.]]\n"
     ]
    }
   ],
   "source": [
    "print(np3)"
   ]
  },
  {
   "cell_type": "code",
   "execution_count": 20,
   "id": "9fe580f2-fc3a-4cc4-a96f-8c773e8ca751",
   "metadata": {},
   "outputs": [],
   "source": [
    "np3 = np.zeros(3)"
   ]
  },
  {
   "cell_type": "code",
   "execution_count": 21,
   "id": "6412aef5-06ad-44ab-bee9-4e7b50444bfc",
   "metadata": {},
   "outputs": [
    {
     "data": {
      "text/plain": [
       "array([0., 0., 0.])"
      ]
     },
     "execution_count": 21,
     "metadata": {},
     "output_type": "execute_result"
    }
   ],
   "source": [
    "np3"
   ]
  },
  {
   "cell_type": "code",
   "execution_count": 38,
   "id": "2170e48b-3548-4622-9134-e613bbb289d7",
   "metadata": {},
   "outputs": [],
   "source": [
    "np3 = np.ones((2,3),dtype=int)"
   ]
  },
  {
   "cell_type": "code",
   "execution_count": 39,
   "id": "bd59915f-e1cb-48d0-897b-c45057532b7b",
   "metadata": {},
   "outputs": [
    {
     "data": {
      "text/plain": [
       "array([[1, 1, 1],\n",
       "       [1, 1, 1]])"
      ]
     },
     "execution_count": 39,
     "metadata": {},
     "output_type": "execute_result"
    }
   ],
   "source": [
    "np3"
   ]
  },
  {
   "cell_type": "code",
   "execution_count": 33,
   "id": "0fcf3275-cddd-46dd-a7f6-41433640a8d2",
   "metadata": {},
   "outputs": [
    {
     "data": {
      "text/plain": [
       "array([[1, 0, 0, 0],\n",
       "       [0, 1, 0, 0],\n",
       "       [0, 0, 1, 0],\n",
       "       [0, 0, 0, 1]])"
      ]
     },
     "execution_count": 33,
     "metadata": {},
     "output_type": "execute_result"
    }
   ],
   "source": [
    "np3 = np.eye(4, dtype=int)\n",
    "np3"
   ]
  },
  {
   "cell_type": "code",
   "execution_count": 36,
   "id": "486ef870-6d86-4b91-88f7-66332bdc2d74",
   "metadata": {},
   "outputs": [
    {
     "data": {
      "text/plain": [
       "2"
      ]
     },
     "execution_count": 36,
     "metadata": {},
     "output_type": "execute_result"
    }
   ],
   "source": [
    "np3.ndim #dimension of array"
   ]
  },
  {
   "cell_type": "code",
   "execution_count": 40,
   "id": "3fe084fb-9733-40fa-9aff-7915eb111862",
   "metadata": {},
   "outputs": [
    {
     "data": {
      "text/plain": [
       "(2, 3)"
      ]
     },
     "execution_count": 40,
     "metadata": {},
     "output_type": "execute_result"
    }
   ],
   "source": [
    "np3.shape"
   ]
  },
  {
   "cell_type": "code",
   "execution_count": 42,
   "id": "04232b8c-3cae-4885-ba30-1f1ca3cf65d9",
   "metadata": {},
   "outputs": [
    {
     "data": {
      "text/plain": [
       "2"
      ]
     },
     "execution_count": 42,
     "metadata": {},
     "output_type": "execute_result"
    }
   ],
   "source": [
    "len(np3)#this gives number of rows"
   ]
  },
  {
   "cell_type": "code",
   "execution_count": 47,
   "id": "7a3823d9-ac66-44b8-bd05-fd8cd702d114",
   "metadata": {},
   "outputs": [
    {
     "name": "stdout",
     "output_type": "stream",
     "text": [
      "1\n"
     ]
    }
   ],
   "source": [
    "print(np3.max())\n"
   ]
  },
  {
   "cell_type": "code",
   "execution_count": 52,
   "id": "dade8dd2-9a9b-4cdc-a7c4-dbd1571b06d3",
   "metadata": {},
   "outputs": [
    {
     "name": "stdout",
     "output_type": "stream",
     "text": [
      "1.0\n"
     ]
    }
   ],
   "source": [
    "print(np3.mean())"
   ]
  },
  {
   "cell_type": "code",
   "execution_count": 58,
   "id": "3d58ea66-56dd-42dd-a610-406a6b5e44aa",
   "metadata": {},
   "outputs": [],
   "source": [
    "np3 = np.random.rand(3,2)    #this gives a random number is the given shape between 1 and 0"
   ]
  },
  {
   "cell_type": "code",
   "execution_count": 59,
   "id": "b86944fa-d2ed-4812-a743-8b8ed9ea4767",
   "metadata": {},
   "outputs": [
    {
     "data": {
      "text/plain": [
       "array([[0.0522916 , 0.94150196],\n",
       "       [0.66808604, 0.55814327],\n",
       "       [0.84574698, 0.54354353]])"
      ]
     },
     "execution_count": 59,
     "metadata": {},
     "output_type": "execute_result"
    }
   ],
   "source": [
    "np3"
   ]
  },
  {
   "cell_type": "code",
   "execution_count": 65,
   "id": "58258e70-7489-4969-8e54-bd9d1c263b00",
   "metadata": {},
   "outputs": [],
   "source": [
    "np3 = np.random.randint(1,100,(2,3))"
   ]
  },
  {
   "cell_type": "code",
   "execution_count": 66,
   "id": "86e8b499-63ef-499e-b383-5f17d281260e",
   "metadata": {},
   "outputs": [
    {
     "data": {
      "text/plain": [
       "array([[83, 19, 38],\n",
       "       [17, 29, 23]])"
      ]
     },
     "execution_count": 66,
     "metadata": {},
     "output_type": "execute_result"
    }
   ],
   "source": [
    "np3"
   ]
  },
  {
   "cell_type": "code",
   "execution_count": 67,
   "id": "a89e6a96-afb7-42d8-a27d-88a25958ec4c",
   "metadata": {},
   "outputs": [
    {
     "data": {
      "text/plain": [
       "dtype('int32')"
      ]
     },
     "execution_count": 67,
     "metadata": {},
     "output_type": "execute_result"
    }
   ],
   "source": [
    "np3.dtype"
   ]
  },
  {
   "cell_type": "code",
   "execution_count": 68,
   "id": "79ccd31c-fb8b-4630-bd01-87671b56c389",
   "metadata": {},
   "outputs": [
    {
     "data": {
      "text/plain": [
       "array([[83, 19, 38],\n",
       "       [17, 29, 23]])"
      ]
     },
     "execution_count": 68,
     "metadata": {},
     "output_type": "execute_result"
    }
   ],
   "source": [
    "np3"
   ]
  },
  {
   "cell_type": "code",
   "execution_count": 69,
   "id": "0718dfd4-8f03-448f-8707-d1778cd33505",
   "metadata": {},
   "outputs": [
    {
     "data": {
      "text/plain": [
       "4"
      ]
     },
     "execution_count": 69,
     "metadata": {},
     "output_type": "execute_result"
    }
   ],
   "source": [
    "np3.itemsize"
   ]
  },
  {
   "cell_type": "code",
   "execution_count": 71,
   "id": "092167dc-c053-4a89-9888-96dffffff9f7",
   "metadata": {},
   "outputs": [
    {
     "data": {
      "text/plain": [
       "6"
      ]
     },
     "execution_count": 71,
     "metadata": {},
     "output_type": "execute_result"
    }
   ],
   "source": [
    "np3.size#this is no of elements"
   ]
  },
  {
   "cell_type": "markdown",
   "id": "2092ec92-0365-467b-a0a6-913b4d56eef0",
   "metadata": {},
   "source": [
    "np3*np1"
   ]
  },
  {
   "cell_type": "markdown",
   "id": "94376e0c-826c-4988-8d68-4fcaa641cb61",
   "metadata": {},
   "source": [
    "## <b>Updating and Accessing Elements</b>"
   ]
  },
  {
   "cell_type": "code",
   "execution_count": 76,
   "id": "44014b9f-2105-4de5-89bc-cfa6faa31377",
   "metadata": {},
   "outputs": [],
   "source": [
    "a = np.random.randint(1,50,(4,5))"
   ]
  },
  {
   "cell_type": "code",
   "execution_count": 77,
   "id": "977c0e93-1951-40f5-939b-ef4e204566c9",
   "metadata": {},
   "outputs": [
    {
     "data": {
      "text/plain": [
       "array([[ 5, 22, 49,  9,  9],\n",
       "       [44, 13, 40, 22, 28],\n",
       "       [13, 10, 40, 44, 38],\n",
       "       [11, 32, 14, 38,  9]])"
      ]
     },
     "execution_count": 77,
     "metadata": {},
     "output_type": "execute_result"
    }
   ],
   "source": [
    "a"
   ]
  },
  {
   "cell_type": "code",
   "execution_count": 78,
   "id": "e9760cd1-c6d1-463e-b624-58a3b3d8e452",
   "metadata": {},
   "outputs": [],
   "source": [
    "#<name>[row,column,layer]"
   ]
  },
  {
   "cell_type": "code",
   "execution_count": 79,
   "id": "e8d309be-d86c-4d75-9b68-9cbd3387c7ca",
   "metadata": {},
   "outputs": [
    {
     "data": {
      "text/plain": [
       "40"
      ]
     },
     "execution_count": 79,
     "metadata": {},
     "output_type": "execute_result"
    }
   ],
   "source": [
    "a[1,2]"
   ]
  },
  {
   "cell_type": "code",
   "execution_count": 80,
   "id": "93295bca-a74f-4199-82d5-f1c7e26272d5",
   "metadata": {},
   "outputs": [
    {
     "data": {
      "text/plain": [
       "array([[ 5, 22, 49],\n",
       "       [44, 13, 40],\n",
       "       [13, 10, 40]])"
      ]
     },
     "execution_count": 80,
     "metadata": {},
     "output_type": "execute_result"
    }
   ],
   "source": [
    "a[:3,:3]"
   ]
  },
  {
   "cell_type": "code",
   "execution_count": 91,
   "id": "2d2791d8-b676-45f7-99d9-94c4535e1c88",
   "metadata": {},
   "outputs": [
    {
     "data": {
      "text/plain": [
       "array([[ 5, 22, 49,  9,  9],\n",
       "       [44, 13, 40, 22, 28],\n",
       "       [13, 10, 40, 44, 38],\n",
       "       [11, 32, 14, 38,  9]])"
      ]
     },
     "execution_count": 91,
     "metadata": {},
     "output_type": "execute_result"
    }
   ],
   "source": [
    "a"
   ]
  },
  {
   "cell_type": "code",
   "execution_count": 82,
   "id": "638d51b4-1426-428c-9bee-49d50daa4c5d",
   "metadata": {},
   "outputs": [
    {
     "data": {
      "text/plain": [
       "array([ 5, 22, 49,  9,  9])"
      ]
     },
     "execution_count": 82,
     "metadata": {},
     "output_type": "execute_result"
    }
   ],
   "source": [
    "a[0,:]"
   ]
  },
  {
   "cell_type": "code",
   "execution_count": 83,
   "id": "6fd280fb-5e87-4c24-8766-ef271b2eb0e7",
   "metadata": {},
   "outputs": [
    {
     "data": {
      "text/plain": [
       "array([ 5, 44, 13, 11])"
      ]
     },
     "execution_count": 83,
     "metadata": {},
     "output_type": "execute_result"
    }
   ],
   "source": [
    "a[:,0]"
   ]
  },
  {
   "cell_type": "markdown",
   "id": "a0c8ce9b-8162-4b14-bfe0-bfad9440072e",
   "metadata": {},
   "source": [
    "## Initializing the matrix"
   ]
  },
  {
   "cell_type": "raw",
   "id": "37a79cf3-d03b-4a09-9280-70bad69377cc",
   "metadata": {},
   "source": [
    "This contains\n",
    "np.zeros()\n",
    "np.ones()\n",
    "np.eye()\n"
   ]
  },
  {
   "cell_type": "code",
   "execution_count": 90,
   "id": "b9029c7f-44d9-4f4e-92ff-ad5afb7ff5ed",
   "metadata": {},
   "outputs": [
    {
     "data": {
      "text/plain": [
       "array([[99, 99, 99],\n",
       "       [99, 99, 99]])"
      ]
     },
     "execution_count": 90,
     "metadata": {},
     "output_type": "execute_result"
    }
   ],
   "source": [
    "#this also takes shapes and fill with what we want\n",
    "np.full((2,3),99)"
   ]
  },
  {
   "cell_type": "code",
   "execution_count": 86,
   "id": "abf831da-5d4a-49be-992f-b52674f1fd49",
   "metadata": {},
   "outputs": [
    {
     "data": {
      "text/plain": [
       "array([['str', 'str', 'str', 'str', 'str'],\n",
       "       ['str', 'str', 'str', 'str', 'str']], dtype='<U3')"
      ]
     },
     "execution_count": 86,
     "metadata": {},
     "output_type": "execute_result"
    }
   ],
   "source": [
    "np.full((2,5),\"str\")"
   ]
  },
  {
   "cell_type": "raw",
   "id": "99a04380-0392-4616-8643-9a3b880d94f2",
   "metadata": {},
   "source": [
    "#decimal number\n",
    "np.random.rand(5,6) #this creates with random number from 1 to 0"
   ]
  },
  {
   "cell_type": "code",
   "execution_count": 93,
   "id": "368023a0-fdeb-4e81-90fa-d569d20ae742",
   "metadata": {},
   "outputs": [
    {
     "data": {
      "text/plain": [
       "array([[3, 3, 3, 3, 3],\n",
       "       [3, 3, 3, 3, 3],\n",
       "       [3, 3, 3, 3, 3],\n",
       "       [3, 3, 3, 3, 3]])"
      ]
     },
     "execution_count": 93,
     "metadata": {},
     "output_type": "execute_result"
    }
   ],
   "source": [
    "#creating full using some other shape\n",
    "np.full_like(a,3)   #shape of \"a\" with all 3's"
   ]
  },
  {
   "cell_type": "code",
   "execution_count": 92,
   "id": "2f4bbe3d-d718-4cb5-ae8a-9c45ad16adc1",
   "metadata": {},
   "outputs": [
    {
     "data": {
      "text/plain": [
       "array([[0.47840896, 0.12976016, 0.01444298, 0.10306202, 0.21723396],\n",
       "       [0.21644213, 0.21424692, 0.78531527, 0.03995401, 0.55170643],\n",
       "       [0.48926404, 0.29944204, 0.23168747, 0.40265624, 0.60831711],\n",
       "       [0.64596628, 0.51645594, 0.88278995, 0.36001711, 0.17199699]])"
      ]
     },
     "execution_count": 92,
     "metadata": {},
     "output_type": "execute_result"
    }
   ],
   "source": [
    "#creating with random numbers with someone elese shape\n",
    "np.random.random_sample(a.shape)"
   ]
  },
  {
   "cell_type": "markdown",
   "id": "25307440-2c0b-4ee8-b957-c642d61e569d",
   "metadata": {},
   "source": [
    "#### <b>Net wala question</b>"
   ]
  },
  {
   "cell_type": "code",
   "execution_count": 98,
   "id": "d1315eca-4b7c-43c1-bf27-2b93eac4b945",
   "metadata": {},
   "outputs": [
    {
     "data": {
      "text/plain": [
       "array([[1, 1, 1, 1, 1],\n",
       "       [1, 1, 1, 1, 1],\n",
       "       [1, 1, 1, 1, 1],\n",
       "       [1, 1, 1, 1, 1],\n",
       "       [1, 1, 1, 1, 1]])"
      ]
     },
     "execution_count": 98,
     "metadata": {},
     "output_type": "execute_result"
    }
   ],
   "source": [
    "output = np.ones((5,5),dtype=int)\n",
    "output"
   ]
  },
  {
   "cell_type": "code",
   "execution_count": 100,
   "id": "ea03afad-83d9-42c8-b621-a39c3f213d97",
   "metadata": {},
   "outputs": [],
   "source": [
    "output[1:4,1:4] = np.zeros((3,3))"
   ]
  },
  {
   "cell_type": "code",
   "execution_count": 101,
   "id": "05a01c41-f55b-4b50-ac6b-e5a68bbfcd26",
   "metadata": {},
   "outputs": [
    {
     "data": {
      "text/plain": [
       "array([[1, 1, 1, 1, 1],\n",
       "       [1, 0, 0, 0, 1],\n",
       "       [1, 0, 0, 0, 1],\n",
       "       [1, 0, 0, 0, 1],\n",
       "       [1, 1, 1, 1, 1]])"
      ]
     },
     "execution_count": 101,
     "metadata": {},
     "output_type": "execute_result"
    }
   ],
   "source": [
    "output"
   ]
  },
  {
   "cell_type": "code",
   "execution_count": 102,
   "id": "dcc8acb7-b6ed-4663-99e2-21cc66cc798e",
   "metadata": {},
   "outputs": [],
   "source": [
    "output[2,2] = 9"
   ]
  },
  {
   "cell_type": "code",
   "execution_count": 103,
   "id": "430a6a36-cc4d-4100-824d-24b82283570d",
   "metadata": {},
   "outputs": [
    {
     "data": {
      "text/plain": [
       "array([[1, 1, 1, 1, 1],\n",
       "       [1, 0, 0, 0, 1],\n",
       "       [1, 0, 9, 0, 1],\n",
       "       [1, 0, 0, 0, 1],\n",
       "       [1, 1, 1, 1, 1]])"
      ]
     },
     "execution_count": 103,
     "metadata": {},
     "output_type": "execute_result"
    }
   ],
   "source": [
    "output"
   ]
  },
  {
   "cell_type": "markdown",
   "id": "d7fbc9a6-c4c4-4a96-a389-842c8a7358d7",
   "metadata": {
    "tags": []
   },
   "source": [
    "## Maths on numpy"
   ]
  },
  {
   "cell_type": "code",
   "execution_count": 104,
   "id": "f449f717-20d3-404f-b4c7-00421469945d",
   "metadata": {},
   "outputs": [
    {
     "data": {
      "text/plain": [
       "array([[ 5, 22, 49,  9,  9],\n",
       "       [44, 13, 40, 22, 28],\n",
       "       [13, 10, 40, 44, 38],\n",
       "       [11, 32, 14, 38,  9]])"
      ]
     },
     "execution_count": 104,
     "metadata": {},
     "output_type": "execute_result"
    }
   ],
   "source": [
    "a\n"
   ]
  },
  {
   "cell_type": "code",
   "execution_count": 105,
   "id": "a4fba519-50fc-41ba-8a48-4ea254bc7855",
   "metadata": {},
   "outputs": [
    {
     "data": {
      "text/plain": [
       "array([[ 7, 24, 51, 11, 11],\n",
       "       [46, 15, 42, 24, 30],\n",
       "       [15, 12, 42, 46, 40],\n",
       "       [13, 34, 16, 40, 11]])"
      ]
     },
     "execution_count": 105,
     "metadata": {},
     "output_type": "execute_result"
    }
   ],
   "source": [
    "a + 2"
   ]
  },
  {
   "cell_type": "code",
   "execution_count": 106,
   "id": "961380e1-5a42-4d8f-ba9f-50146e98d067",
   "metadata": {},
   "outputs": [
    {
     "data": {
      "text/plain": [
       "array([[10, 44, 98, 18, 18],\n",
       "       [88, 26, 80, 44, 56],\n",
       "       [26, 20, 80, 88, 76],\n",
       "       [22, 64, 28, 76, 18]])"
      ]
     },
     "execution_count": 106,
     "metadata": {},
     "output_type": "execute_result"
    }
   ],
   "source": [
    "a*2"
   ]
  },
  {
   "cell_type": "code",
   "execution_count": 108,
   "id": "71e2b068-3d2a-4eb9-844f-a0f5760f48ab",
   "metadata": {},
   "outputs": [],
   "source": [
    "b = np.full((5,1),5)"
   ]
  },
  {
   "cell_type": "markdown",
   "id": "7f7647a8-3ee8-4c5d-abdd-efc275d2dcd7",
   "metadata": {},
   "source": [
    "##### linear algebra"
   ]
  },
  {
   "cell_type": "code",
   "execution_count": 112,
   "id": "d8910d92-74cc-44fd-a36b-62f76316f870",
   "metadata": {},
   "outputs": [
    {
     "data": {
      "text/plain": [
       "array([[1., 1., 1.],\n",
       "       [1., 1., 1.]])"
      ]
     },
     "execution_count": 112,
     "metadata": {},
     "output_type": "execute_result"
    }
   ],
   "source": [
    "a = np.ones((2,3))\n",
    "a"
   ]
  },
  {
   "cell_type": "code",
   "execution_count": 116,
   "id": "cfbba7b8-1e65-4a8f-a5e4-a225fdc3fe71",
   "metadata": {},
   "outputs": [
    {
     "data": {
      "text/plain": [
       "array([[2, 2],\n",
       "       [2, 2],\n",
       "       [2, 2]])"
      ]
     },
     "execution_count": 116,
     "metadata": {},
     "output_type": "execute_result"
    }
   ],
   "source": [
    "b = np.full((3,2),2)\n",
    "b"
   ]
  },
  {
   "cell_type": "code",
   "execution_count": 118,
   "id": "7d69bbdc-073a-4b8f-a6f1-82383f9b8fbf",
   "metadata": {},
   "outputs": [
    {
     "data": {
      "text/plain": [
       "array([[6., 6.],\n",
       "       [6., 6.]])"
      ]
     },
     "execution_count": 118,
     "metadata": {},
     "output_type": "execute_result"
    }
   ],
   "source": [
    "#this is used for multiplying two matrices\n",
    "np.matmul(a,b)"
   ]
  },
  {
   "cell_type": "code",
   "execution_count": 119,
   "id": "a6863537-126c-41f7-9973-40cf524595b2",
   "metadata": {},
   "outputs": [
    {
     "data": {
      "text/plain": [
       "0.0"
      ]
     },
     "execution_count": 119,
     "metadata": {},
     "output_type": "execute_result"
    }
   ],
   "source": [
    "#finding out determinant\n",
    "np.linalg.det(np.matmul(a,b))"
   ]
  },
  {
   "cell_type": "code",
   "execution_count": 120,
   "id": "ae457d8f-1e2f-45e8-8ff8-af0823a9f346",
   "metadata": {},
   "outputs": [
    {
     "data": {
      "text/plain": [
       "1"
      ]
     },
     "execution_count": 120,
     "metadata": {},
     "output_type": "execute_result"
    }
   ],
   "source": [
    "np.linalg.matrix_rank(a)"
   ]
  },
  {
   "cell_type": "markdown",
   "id": "fe04e14c-cd48-43b9-9c4f-1010545129c7",
   "metadata": {},
   "source": [
    "#### <b>formaing 3D array></b>"
   ]
  },
  {
   "cell_type": "raw",
   "id": "44b392e9-32a4-47ba-8641-b06a841e3d2d",
   "metadata": {},
   "source": [
    "1 2 3\n",
    "2 3 4\n",
    "2 3 4\n",
    "-----------\n",
    "3 6 7\n",
    "4 5 6\n",
    "6 7 6"
   ]
  },
  {
   "cell_type": "code",
   "execution_count": 2,
   "id": "23ff4c01-4b58-449f-83bd-f94a43f4262a",
   "metadata": {},
   "outputs": [],
   "source": [
    "import numpy as np"
   ]
  },
  {
   "cell_type": "code",
   "execution_count": 3,
   "id": "4ee4d6c2-e89d-486c-abeb-407cb7c2a140",
   "metadata": {},
   "outputs": [],
   "source": [
    "a = np.array([[[1,3],[2,6],[3,7]],[[2,4],[3,5],[4,6]],[[2,6],[3,7],[4,6]]])"
   ]
  },
  {
   "cell_type": "code",
   "execution_count": 4,
   "id": "aa246b6e-5d38-46f3-abad-4ac7bba06db4",
   "metadata": {},
   "outputs": [
    {
     "data": {
      "text/plain": [
       "(3, 3, 2)"
      ]
     },
     "execution_count": 4,
     "metadata": {},
     "output_type": "execute_result"
    }
   ],
   "source": [
    "a.shape"
   ]
  },
  {
   "cell_type": "code",
   "execution_count": 5,
   "id": "caa79997-c1f7-4d3f-9953-44b69f974ef6",
   "metadata": {},
   "outputs": [
    {
     "data": {
      "text/plain": [
       "18"
      ]
     },
     "execution_count": 5,
     "metadata": {},
     "output_type": "execute_result"
    }
   ],
   "source": [
    "a.size"
   ]
  },
  {
   "cell_type": "raw",
   "id": "08766ed6-3e2b-4033-9907-1e51a2408b5a",
   "metadata": {},
   "source": [
    "d = np.ndenumerate(a)"
   ]
  },
  {
   "cell_type": "raw",
   "id": "73d9fc99-9bd5-481b-888b-cc9bd6051e03",
   "metadata": {},
   "source": [
    "d"
   ]
  },
  {
   "cell_type": "code",
   "execution_count": 13,
   "id": "68779e0b-21e9-4a33-8dbd-9528b1db8c42",
   "metadata": {},
   "outputs": [],
   "source": [
    "d = a.max()"
   ]
  },
  {
   "cell_type": "code",
   "execution_count": 14,
   "id": "c0fffe24-628d-43a5-8df9-b1d1a61cfcf2",
   "metadata": {},
   "outputs": [
    {
     "data": {
      "text/plain": [
       "7"
      ]
     },
     "execution_count": 14,
     "metadata": {},
     "output_type": "execute_result"
    }
   ],
   "source": [
    "d"
   ]
  },
  {
   "cell_type": "code",
   "execution_count": 17,
   "id": "3e9b2790-d9e3-4f63-859e-b3dac779f7f6",
   "metadata": {},
   "outputs": [],
   "source": [
    "test = np.random.randint(1,20,(3,3))"
   ]
  },
  {
   "cell_type": "code",
   "execution_count": 18,
   "id": "31cf257b-61f6-41ff-aebf-b88e41832d8c",
   "metadata": {},
   "outputs": [
    {
     "data": {
      "text/plain": [
       "array([[10,  8, 12],\n",
       "       [13, 14, 14],\n",
       "       [ 1,  9, 10]])"
      ]
     },
     "execution_count": 18,
     "metadata": {},
     "output_type": "execute_result"
    }
   ],
   "source": [
    "test"
   ]
  },
  {
   "cell_type": "code",
   "execution_count": 19,
   "id": "e75a9202-231d-4c4b-9f06-66d6c7f42438",
   "metadata": {},
   "outputs": [
    {
     "data": {
      "text/plain": [
       "447.9999999999999"
      ]
     },
     "execution_count": 19,
     "metadata": {},
     "output_type": "execute_result"
    }
   ],
   "source": [
    "np.linalg.det(test)"
   ]
  },
  {
   "cell_type": "code",
   "execution_count": 21,
   "id": "d695483f-bf49-41cb-9ee2-9a5e5d34407d",
   "metadata": {},
   "outputs": [],
   "source": [
    "test[1:,1:] = np.full((2,2),0)"
   ]
  },
  {
   "cell_type": "code",
   "execution_count": 22,
   "id": "c536782b-ac53-4b0b-bf89-0b054132cc95",
   "metadata": {},
   "outputs": [
    {
     "data": {
      "text/plain": [
       "array([[10,  8, 12],\n",
       "       [13,  0,  0],\n",
       "       [ 1,  0,  0]])"
      ]
     },
     "execution_count": 22,
     "metadata": {},
     "output_type": "execute_result"
    }
   ],
   "source": [
    "test"
   ]
  },
  {
   "cell_type": "code",
   "execution_count": null,
   "id": "2c4f3d8f-11d8-410f-877e-8578447c1547",
   "metadata": {},
   "outputs": [],
   "source": []
  }
 ],
 "metadata": {
  "kernelspec": {
   "display_name": "Python 3",
   "language": "python",
   "name": "python3"
  },
  "language_info": {
   "codemirror_mode": {
    "name": "ipython",
    "version": 3
   },
   "file_extension": ".py",
   "mimetype": "text/x-python",
   "name": "python",
   "nbconvert_exporter": "python",
   "pygments_lexer": "ipython3",
   "version": "3.8.8"
  }
 },
 "nbformat": 4,
 "nbformat_minor": 5
}
