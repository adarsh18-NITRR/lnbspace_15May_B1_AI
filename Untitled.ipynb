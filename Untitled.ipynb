{
 "cells": [
  {
   "cell_type": "code",
   "execution_count": 1,
   "id": "19e8526c-a996-40ac-9f70-1f97976a06f0",
   "metadata": {},
   "outputs": [],
   "source": [
    "import pandas as pd"
   ]
  },
  {
   "cell_type": "code",
   "execution_count": 2,
   "id": "deb85180-bbb1-4819-ba76-e999ba2e4d36",
   "metadata": {},
   "outputs": [],
   "source": [
    "import matplotlib.pyplot as plt\n",
    "import warnings\n",
    "warnings.filterwarnings('ignore')"
   ]
  },
  {
   "cell_type": "code",
   "execution_count": 9,
   "id": "8133a1d1-e9d6-4f4b-bb71-77a56c8276a5",
   "metadata": {},
   "outputs": [],
   "source": [
    "social_ad = pd.read_csv('Datasets/Social_Network_Ads.csv')"
   ]
  },
  {
   "cell_type": "code",
   "execution_count": 10,
   "id": "a2c3b7f5-dd9b-497d-b4e4-186164a661c5",
   "metadata": {},
   "outputs": [
    {
     "data": {
      "text/html": [
       "<div>\n",
       "<style scoped>\n",
       "    .dataframe tbody tr th:only-of-type {\n",
       "        vertical-align: middle;\n",
       "    }\n",
       "\n",
       "    .dataframe tbody tr th {\n",
       "        vertical-align: top;\n",
       "    }\n",
       "\n",
       "    .dataframe thead th {\n",
       "        text-align: right;\n",
       "    }\n",
       "</style>\n",
       "<table border=\"1\" class=\"dataframe\">\n",
       "  <thead>\n",
       "    <tr style=\"text-align: right;\">\n",
       "      <th></th>\n",
       "      <th>User ID</th>\n",
       "      <th>Gender</th>\n",
       "      <th>Age</th>\n",
       "      <th>EstimatedSalary</th>\n",
       "      <th>Purchased</th>\n",
       "    </tr>\n",
       "  </thead>\n",
       "  <tbody>\n",
       "    <tr>\n",
       "      <th>0</th>\n",
       "      <td>15624510</td>\n",
       "      <td>Male</td>\n",
       "      <td>19</td>\n",
       "      <td>19000</td>\n",
       "      <td>0</td>\n",
       "    </tr>\n",
       "    <tr>\n",
       "      <th>1</th>\n",
       "      <td>15810944</td>\n",
       "      <td>Male</td>\n",
       "      <td>35</td>\n",
       "      <td>20000</td>\n",
       "      <td>0</td>\n",
       "    </tr>\n",
       "    <tr>\n",
       "      <th>2</th>\n",
       "      <td>15668575</td>\n",
       "      <td>Female</td>\n",
       "      <td>26</td>\n",
       "      <td>43000</td>\n",
       "      <td>0</td>\n",
       "    </tr>\n",
       "    <tr>\n",
       "      <th>3</th>\n",
       "      <td>15603246</td>\n",
       "      <td>Female</td>\n",
       "      <td>27</td>\n",
       "      <td>57000</td>\n",
       "      <td>0</td>\n",
       "    </tr>\n",
       "    <tr>\n",
       "      <th>4</th>\n",
       "      <td>15804002</td>\n",
       "      <td>Male</td>\n",
       "      <td>19</td>\n",
       "      <td>76000</td>\n",
       "      <td>0</td>\n",
       "    </tr>\n",
       "  </tbody>\n",
       "</table>\n",
       "</div>"
      ],
      "text/plain": [
       "    User ID  Gender  Age  EstimatedSalary  Purchased\n",
       "0  15624510    Male   19            19000          0\n",
       "1  15810944    Male   35            20000          0\n",
       "2  15668575  Female   26            43000          0\n",
       "3  15603246  Female   27            57000          0\n",
       "4  15804002    Male   19            76000          0"
      ]
     },
     "execution_count": 10,
     "metadata": {},
     "output_type": "execute_result"
    }
   ],
   "source": [
    "social_ad.head(5)"
   ]
  },
  {
   "cell_type": "code",
   "execution_count": 5,
   "id": "5d6b7c2d-19c9-4835-9be0-3b5c14d4d08f",
   "metadata": {},
   "outputs": [
    {
     "name": "stdout",
     "output_type": "stream",
     "text": [
      "<class 'pandas.core.frame.DataFrame'>\n",
      "RangeIndex: 400 entries, 0 to 399\n",
      "Data columns (total 5 columns):\n",
      " #   Column           Non-Null Count  Dtype \n",
      "---  ------           --------------  ----- \n",
      " 0   User ID          400 non-null    int64 \n",
      " 1   Gender           400 non-null    object\n",
      " 2   Age              400 non-null    int64 \n",
      " 3   EstimatedSalary  400 non-null    int64 \n",
      " 4   Purchased        400 non-null    int64 \n",
      "dtypes: int64(4), object(1)\n",
      "memory usage: 15.8+ KB\n"
     ]
    }
   ],
   "source": [
    "social_ad.info()\n",
    "del social_ad['User ID']"
   ]
  },
  {
   "cell_type": "code",
   "execution_count": 12,
   "id": "15ab42d1-6ce3-47b4-a650-6ad3420d4621",
   "metadata": {},
   "outputs": [
    {
     "data": {
      "text/html": [
       "<div>\n",
       "<style scoped>\n",
       "    .dataframe tbody tr th:only-of-type {\n",
       "        vertical-align: middle;\n",
       "    }\n",
       "\n",
       "    .dataframe tbody tr th {\n",
       "        vertical-align: top;\n",
       "    }\n",
       "\n",
       "    .dataframe thead th {\n",
       "        text-align: right;\n",
       "    }\n",
       "</style>\n",
       "<table border=\"1\" class=\"dataframe\">\n",
       "  <thead>\n",
       "    <tr style=\"text-align: right;\">\n",
       "      <th></th>\n",
       "      <th>User ID</th>\n",
       "      <th>Gender</th>\n",
       "      <th>Age</th>\n",
       "      <th>EstimatedSalary</th>\n",
       "      <th>Purchased</th>\n",
       "    </tr>\n",
       "  </thead>\n",
       "  <tbody>\n",
       "    <tr>\n",
       "      <th>0</th>\n",
       "      <td>15624510</td>\n",
       "      <td>Male</td>\n",
       "      <td>19</td>\n",
       "      <td>19000</td>\n",
       "      <td>0</td>\n",
       "    </tr>\n",
       "    <tr>\n",
       "      <th>1</th>\n",
       "      <td>15810944</td>\n",
       "      <td>Male</td>\n",
       "      <td>35</td>\n",
       "      <td>20000</td>\n",
       "      <td>0</td>\n",
       "    </tr>\n",
       "    <tr>\n",
       "      <th>2</th>\n",
       "      <td>15668575</td>\n",
       "      <td>Female</td>\n",
       "      <td>26</td>\n",
       "      <td>43000</td>\n",
       "      <td>0</td>\n",
       "    </tr>\n",
       "    <tr>\n",
       "      <th>3</th>\n",
       "      <td>15603246</td>\n",
       "      <td>Female</td>\n",
       "      <td>27</td>\n",
       "      <td>57000</td>\n",
       "      <td>0</td>\n",
       "    </tr>\n",
       "    <tr>\n",
       "      <th>4</th>\n",
       "      <td>15804002</td>\n",
       "      <td>Male</td>\n",
       "      <td>19</td>\n",
       "      <td>76000</td>\n",
       "      <td>0</td>\n",
       "    </tr>\n",
       "  </tbody>\n",
       "</table>\n",
       "</div>"
      ],
      "text/plain": [
       "    User ID  Gender  Age  EstimatedSalary  Purchased\n",
       "0  15624510    Male   19            19000          0\n",
       "1  15810944    Male   35            20000          0\n",
       "2  15668575  Female   26            43000          0\n",
       "3  15603246  Female   27            57000          0\n",
       "4  15804002    Male   19            76000          0"
      ]
     },
     "execution_count": 12,
     "metadata": {},
     "output_type": "execute_result"
    }
   ],
   "source": [
    "social_ad.head()"
   ]
  },
  {
   "cell_type": "code",
   "execution_count": 16,
   "id": "fc49783d-325b-420a-a774-ea7b1071edae",
   "metadata": {},
   "outputs": [],
   "source": [
    "social_ad['Male'] = pd.get_dummies(social_ad['Gender'], drop_first=True)"
   ]
  },
  {
   "cell_type": "code",
   "execution_count": 17,
   "id": "5f410bf7-2b2b-4fd1-a82e-2378a8bf02c7",
   "metadata": {},
   "outputs": [],
   "source": [
    "social_ad.drop('Gender', inplace=True, axis=1)"
   ]
  },
  {
   "cell_type": "code",
   "execution_count": 20,
   "id": "a2199466-7f7d-4305-9097-8fc8c6f588ce",
   "metadata": {},
   "outputs": [
    {
     "data": {
      "text/plain": [
       "400"
      ]
     },
     "execution_count": 20,
     "metadata": {},
     "output_type": "execute_result"
    }
   ],
   "source": [
    "social_ad['User ID'].nunique()"
   ]
  },
  {
   "cell_type": "code",
   "execution_count": null,
   "id": "dc15c2d9-fd46-4c6f-8f9b-1b49e156adc6",
   "metadata": {},
   "outputs": [],
   "source": []
  },
  {
   "cell_type": "code",
   "execution_count": 21,
   "id": "ade52045-ac3f-4470-aadb-d170378222e3",
   "metadata": {},
   "outputs": [
    {
     "name": "stdout",
     "output_type": "stream",
     "text": [
      "<class 'pandas.core.frame.DataFrame'>\n",
      "RangeIndex: 400 entries, 0 to 399\n",
      "Data columns (total 5 columns):\n",
      " #   Column           Non-Null Count  Dtype\n",
      "---  ------           --------------  -----\n",
      " 0   User ID          400 non-null    int64\n",
      " 1   Age              400 non-null    int64\n",
      " 2   EstimatedSalary  400 non-null    int64\n",
      " 3   Purchased        400 non-null    int64\n",
      " 4   Male             400 non-null    uint8\n",
      "dtypes: int64(4), uint8(1)\n",
      "memory usage: 13.0 KB\n"
     ]
    }
   ],
   "source": [
    "social_ad.info()"
   ]
  },
  {
   "cell_type": "code",
   "execution_count": 37,
   "id": "a848e3b0-c749-4ba7-b304-445e2da3c66f",
   "metadata": {},
   "outputs": [
    {
     "data": {
      "text/html": [
       "<div>\n",
       "<style scoped>\n",
       "    .dataframe tbody tr th:only-of-type {\n",
       "        vertical-align: middle;\n",
       "    }\n",
       "\n",
       "    .dataframe tbody tr th {\n",
       "        vertical-align: top;\n",
       "    }\n",
       "\n",
       "    .dataframe thead th {\n",
       "        text-align: right;\n",
       "    }\n",
       "</style>\n",
       "<table border=\"1\" class=\"dataframe\">\n",
       "  <thead>\n",
       "    <tr style=\"text-align: right;\">\n",
       "      <th></th>\n",
       "      <th>Purchased</th>\n",
       "      <th>0</th>\n",
       "      <th>1</th>\n",
       "    </tr>\n",
       "  </thead>\n",
       "  <tbody>\n",
       "    <tr>\n",
       "      <th rowspan=\"8\" valign=\"top\">User ID</th>\n",
       "      <th>count</th>\n",
       "      <td>2.570000e+02</td>\n",
       "      <td>1.430000e+02</td>\n",
       "    </tr>\n",
       "    <tr>\n",
       "      <th>mean</th>\n",
       "      <td>1.569116e+07</td>\n",
       "      <td>1.569222e+07</td>\n",
       "    </tr>\n",
       "    <tr>\n",
       "      <th>std</th>\n",
       "      <td>7.208696e+04</td>\n",
       "      <td>7.112851e+04</td>\n",
       "    </tr>\n",
       "    <tr>\n",
       "      <th>min</th>\n",
       "      <td>1.556669e+07</td>\n",
       "      <td>1.556964e+07</td>\n",
       "    </tr>\n",
       "    <tr>\n",
       "      <th>25%</th>\n",
       "      <td>1.562451e+07</td>\n",
       "      <td>1.563045e+07</td>\n",
       "    </tr>\n",
       "    <tr>\n",
       "      <th>50%</th>\n",
       "      <td>1.569326e+07</td>\n",
       "      <td>1.569483e+07</td>\n",
       "    </tr>\n",
       "    <tr>\n",
       "      <th>75%</th>\n",
       "      <td>1.575387e+07</td>\n",
       "      <td>1.574972e+07</td>\n",
       "    </tr>\n",
       "    <tr>\n",
       "      <th>max</th>\n",
       "      <td>1.581482e+07</td>\n",
       "      <td>1.581524e+07</td>\n",
       "    </tr>\n",
       "    <tr>\n",
       "      <th rowspan=\"8\" valign=\"top\">Age</th>\n",
       "      <th>count</th>\n",
       "      <td>2.570000e+02</td>\n",
       "      <td>1.430000e+02</td>\n",
       "    </tr>\n",
       "    <tr>\n",
       "      <th>mean</th>\n",
       "      <td>3.279377e+01</td>\n",
       "      <td>4.639161e+01</td>\n",
       "    </tr>\n",
       "    <tr>\n",
       "      <th>std</th>\n",
       "      <td>7.985844e+00</td>\n",
       "      <td>8.612172e+00</td>\n",
       "    </tr>\n",
       "    <tr>\n",
       "      <th>min</th>\n",
       "      <td>1.800000e+01</td>\n",
       "      <td>2.700000e+01</td>\n",
       "    </tr>\n",
       "    <tr>\n",
       "      <th>25%</th>\n",
       "      <td>2.600000e+01</td>\n",
       "      <td>3.950000e+01</td>\n",
       "    </tr>\n",
       "    <tr>\n",
       "      <th>50%</th>\n",
       "      <td>3.400000e+01</td>\n",
       "      <td>4.700000e+01</td>\n",
       "    </tr>\n",
       "    <tr>\n",
       "      <th>75%</th>\n",
       "      <td>3.800000e+01</td>\n",
       "      <td>5.300000e+01</td>\n",
       "    </tr>\n",
       "    <tr>\n",
       "      <th>max</th>\n",
       "      <td>5.900000e+01</td>\n",
       "      <td>6.000000e+01</td>\n",
       "    </tr>\n",
       "    <tr>\n",
       "      <th rowspan=\"8\" valign=\"top\">EstimatedSalary</th>\n",
       "      <th>count</th>\n",
       "      <td>2.570000e+02</td>\n",
       "      <td>1.430000e+02</td>\n",
       "    </tr>\n",
       "    <tr>\n",
       "      <th>mean</th>\n",
       "      <td>6.054475e+04</td>\n",
       "      <td>8.627273e+04</td>\n",
       "    </tr>\n",
       "    <tr>\n",
       "      <th>std</th>\n",
       "      <td>2.435157e+04</td>\n",
       "      <td>4.206420e+04</td>\n",
       "    </tr>\n",
       "    <tr>\n",
       "      <th>min</th>\n",
       "      <td>1.500000e+04</td>\n",
       "      <td>2.000000e+04</td>\n",
       "    </tr>\n",
       "    <tr>\n",
       "      <th>25%</th>\n",
       "      <td>4.400000e+04</td>\n",
       "      <td>4.100000e+04</td>\n",
       "    </tr>\n",
       "    <tr>\n",
       "      <th>50%</th>\n",
       "      <td>6.100000e+04</td>\n",
       "      <td>9.000000e+04</td>\n",
       "    </tr>\n",
       "    <tr>\n",
       "      <th>75%</th>\n",
       "      <td>7.700000e+04</td>\n",
       "      <td>1.225000e+05</td>\n",
       "    </tr>\n",
       "    <tr>\n",
       "      <th>max</th>\n",
       "      <td>1.410000e+05</td>\n",
       "      <td>1.500000e+05</td>\n",
       "    </tr>\n",
       "    <tr>\n",
       "      <th rowspan=\"8\" valign=\"top\">Male</th>\n",
       "      <th>count</th>\n",
       "      <td>2.570000e+02</td>\n",
       "      <td>1.430000e+02</td>\n",
       "    </tr>\n",
       "    <tr>\n",
       "      <th>mean</th>\n",
       "      <td>5.058366e-01</td>\n",
       "      <td>4.615385e-01</td>\n",
       "    </tr>\n",
       "    <tr>\n",
       "      <th>std</th>\n",
       "      <td>5.009415e-01</td>\n",
       "      <td>5.002708e-01</td>\n",
       "    </tr>\n",
       "    <tr>\n",
       "      <th>min</th>\n",
       "      <td>0.000000e+00</td>\n",
       "      <td>0.000000e+00</td>\n",
       "    </tr>\n",
       "    <tr>\n",
       "      <th>25%</th>\n",
       "      <td>0.000000e+00</td>\n",
       "      <td>0.000000e+00</td>\n",
       "    </tr>\n",
       "    <tr>\n",
       "      <th>50%</th>\n",
       "      <td>1.000000e+00</td>\n",
       "      <td>0.000000e+00</td>\n",
       "    </tr>\n",
       "    <tr>\n",
       "      <th>75%</th>\n",
       "      <td>1.000000e+00</td>\n",
       "      <td>1.000000e+00</td>\n",
       "    </tr>\n",
       "    <tr>\n",
       "      <th>max</th>\n",
       "      <td>1.000000e+00</td>\n",
       "      <td>1.000000e+00</td>\n",
       "    </tr>\n",
       "  </tbody>\n",
       "</table>\n",
       "</div>"
      ],
      "text/plain": [
       "Purchased                         0             1\n",
       "User ID         count  2.570000e+02  1.430000e+02\n",
       "                mean   1.569116e+07  1.569222e+07\n",
       "                std    7.208696e+04  7.112851e+04\n",
       "                min    1.556669e+07  1.556964e+07\n",
       "                25%    1.562451e+07  1.563045e+07\n",
       "                50%    1.569326e+07  1.569483e+07\n",
       "                75%    1.575387e+07  1.574972e+07\n",
       "                max    1.581482e+07  1.581524e+07\n",
       "Age             count  2.570000e+02  1.430000e+02\n",
       "                mean   3.279377e+01  4.639161e+01\n",
       "                std    7.985844e+00  8.612172e+00\n",
       "                min    1.800000e+01  2.700000e+01\n",
       "                25%    2.600000e+01  3.950000e+01\n",
       "                50%    3.400000e+01  4.700000e+01\n",
       "                75%    3.800000e+01  5.300000e+01\n",
       "                max    5.900000e+01  6.000000e+01\n",
       "EstimatedSalary count  2.570000e+02  1.430000e+02\n",
       "                mean   6.054475e+04  8.627273e+04\n",
       "                std    2.435157e+04  4.206420e+04\n",
       "                min    1.500000e+04  2.000000e+04\n",
       "                25%    4.400000e+04  4.100000e+04\n",
       "                50%    6.100000e+04  9.000000e+04\n",
       "                75%    7.700000e+04  1.225000e+05\n",
       "                max    1.410000e+05  1.500000e+05\n",
       "Male            count  2.570000e+02  1.430000e+02\n",
       "                mean   5.058366e-01  4.615385e-01\n",
       "                std    5.009415e-01  5.002708e-01\n",
       "                min    0.000000e+00  0.000000e+00\n",
       "                25%    0.000000e+00  0.000000e+00\n",
       "                50%    1.000000e+00  0.000000e+00\n",
       "                75%    1.000000e+00  1.000000e+00\n",
       "                max    1.000000e+00  1.000000e+00"
      ]
     },
     "execution_count": 37,
     "metadata": {},
     "output_type": "execute_result"
    }
   ],
   "source": [
    "social_ad.groupby('Purchased').describe().T"
   ]
  },
  {
   "cell_type": "code",
   "execution_count": 39,
   "id": "0f01b417-3954-44fc-a52f-8fde4e2bde19",
   "metadata": {},
   "outputs": [],
   "source": [
    "del social_ad['User ID']"
   ]
  },
  {
   "cell_type": "code",
   "execution_count": 40,
   "id": "11a3c59b-f29f-408a-8453-2b6b81e0abee",
   "metadata": {},
   "outputs": [
    {
     "name": "stdout",
     "output_type": "stream",
     "text": [
      "<class 'pandas.core.frame.DataFrame'>\n",
      "RangeIndex: 400 entries, 0 to 399\n",
      "Data columns (total 4 columns):\n",
      " #   Column           Non-Null Count  Dtype\n",
      "---  ------           --------------  -----\n",
      " 0   Age              400 non-null    int64\n",
      " 1   EstimatedSalary  400 non-null    int64\n",
      " 2   Purchased        400 non-null    int64\n",
      " 3   Male             400 non-null    uint8\n",
      "dtypes: int64(3), uint8(1)\n",
      "memory usage: 9.9 KB\n"
     ]
    }
   ],
   "source": [
    "social_ad.info()"
   ]
  },
  {
   "cell_type": "code",
   "execution_count": 41,
   "id": "466e4eee-8f92-4bb1-b47e-4e9b15c6fde7",
   "metadata": {},
   "outputs": [
    {
     "data": {
      "text/plain": [
       "<AxesSubplot:ylabel='Density'>"
      ]
     },
     "execution_count": 41,
     "metadata": {},
     "output_type": "execute_result"
    },
    {
     "data": {
      "image/png": "[encoded data removed]",
      "text/plain": [
       "<Figure size 432x288 with 1 Axes>"
      ]
     },
     "metadata": {
      "needs_background": "light"
     },
     "output_type": "display_data"
    }
   ],
   "source": [
    "social_ad['Age'].plot.kde()"
   ]
  },
  {
   "cell_type": "code",
   "execution_count": 49,
   "id": "5d91d470-0cc9-422b-86ef-e142f1400de2",
   "metadata": {},
   "outputs": [
    {
     "data": {
      "text/plain": [
       "(array([22., 18.,  5.,  5., 12., 17., 16., 13., 14., 21.]),\n",
       " array([ 20000.,  33000.,  46000.,  59000.,  72000.,  85000.,  98000.,\n",
       "        111000., 124000., 137000., 150000.]),\n",
       " <BarContainer object of 10 artists>)"
      ]
     },
     "execution_count": 49,
     "metadata": {},
     "output_type": "execute_result"
    },
    {
     "data": {
      "image/png": "[encoded data removed]",
      "text/plain": [
       "<Figure size 864x360 with 2 Axes>"
      ]
     },
     "metadata": {
      "needs_background": "light"
     },
     "output_type": "display_data"
    }
   ],
   "source": [
    "plt.figure(figsize=(12,5))\n",
    "plt.subplot(1,2,1)\n",
    "plt.hist(social_ad['EstimatedSalary'][social_ad['Purchased']==0])\n",
    "plt.grid()\n",
    "plt.subplot(1,2,2)\n",
    "plt.hist(social_ad['EstimatedSalary'][social_ad['Purchased']==1])"
   ]
  },
  {
   "cell_type": "code",
   "execution_count": 50,
   "id": "86b7e294-8c49-4b47-a050-a01dce06b10e",
   "metadata": {},
   "outputs": [],
   "source": [
    "from sklearn.ensemble import RandomForestClassifier\n",
    "from sklearn.model_selection import train_test_split\n",
    "from sklearn.tree import DecisionTreeClassifier"
   ]
  },
  {
   "cell_type": "code",
   "execution_count": 51,
   "id": "916e16bd-6ea9-45fc-8e2a-d3c69c2a310d",
   "metadata": {},
   "outputs": [
    {
     "data": {
      "text/html": [
       "<div>\n",
       "<style scoped>\n",
       "    .dataframe tbody tr th:only-of-type {\n",
       "        vertical-align: middle;\n",
       "    }\n",
       "\n",
       "    .dataframe tbody tr th {\n",
       "        vertical-align: top;\n",
       "    }\n",
       "\n",
       "    .dataframe thead th {\n",
       "        text-align: right;\n",
       "    }\n",
       "</style>\n",
       "<table border=\"1\" class=\"dataframe\">\n",
       "  <thead>\n",
       "    <tr style=\"text-align: right;\">\n",
       "      <th></th>\n",
       "      <th>Age</th>\n",
       "      <th>EstimatedSalary</th>\n",
       "      <th>Purchased</th>\n",
       "      <th>Male</th>\n",
       "    </tr>\n",
       "  </thead>\n",
       "  <tbody>\n",
       "    <tr>\n",
       "      <th>0</th>\n",
       "      <td>19</td>\n",
       "      <td>19000</td>\n",
       "      <td>0</td>\n",
       "      <td>1</td>\n",
       "    </tr>\n",
       "    <tr>\n",
       "      <th>1</th>\n",
       "      <td>35</td>\n",
       "      <td>20000</td>\n",
       "      <td>0</td>\n",
       "      <td>1</td>\n",
       "    </tr>\n",
       "    <tr>\n",
       "      <th>2</th>\n",
       "      <td>26</td>\n",
       "      <td>43000</td>\n",
       "      <td>0</td>\n",
       "      <td>0</td>\n",
       "    </tr>\n",
       "    <tr>\n",
       "      <th>3</th>\n",
       "      <td>27</td>\n",
       "      <td>57000</td>\n",
       "      <td>0</td>\n",
       "      <td>0</td>\n",
       "    </tr>\n",
       "    <tr>\n",
       "      <th>4</th>\n",
       "      <td>19</td>\n",
       "      <td>76000</td>\n",
       "      <td>0</td>\n",
       "      <td>1</td>\n",
       "    </tr>\n",
       "  </tbody>\n",
       "</table>\n",
       "</div>"
      ],
      "text/plain": [
       "   Age  EstimatedSalary  Purchased  Male\n",
       "0   19            19000          0     1\n",
       "1   35            20000          0     1\n",
       "2   26            43000          0     0\n",
       "3   27            57000          0     0\n",
       "4   19            76000          0     1"
      ]
     },
     "execution_count": 51,
     "metadata": {},
     "output_type": "execute_result"
    }
   ],
   "source": [
    "social_ad.head()"
   ]
  },
  {
   "cell_type": "code",
   "execution_count": 68,
   "id": "69fecda5-5ec6-493b-a9be-140b4fae848a",
   "metadata": {},
   "outputs": [],
   "source": [
    "x = social_ad.drop(['Purchased','Male'], axis=1)\n",
    "y = social_ad['Purchased']\n",
    "xtrain, xtest, ytrain, ytest = train_test_split(x,y,test_size=0.5, random_state=101)"
   ]
  },
  {
   "cell_type": "code",
   "execution_count": 69,
   "id": "ee5a6645-e1c3-49c2-ba04-78d03668283a",
   "metadata": {},
   "outputs": [],
   "source": [
    "model_dt = DecisionTreeClassifier().fit(xtrain,ytrain)"
   ]
  },
  {
   "cell_type": "code",
   "execution_count": 70,
   "id": "9b483bba-8216-47a4-b2c3-cb1cfeb28656",
   "metadata": {},
   "outputs": [
    {
     "data": {
      "text/plain": [
       "0.855"
      ]
     },
     "execution_count": 70,
     "metadata": {},
     "output_type": "execute_result"
    }
   ],
   "source": [
    "model_dt.score(xtest,ytest)"
   ]
  },
  {
   "cell_type": "code",
   "execution_count": 71,
   "id": "070fd0ed-c684-47ff-b5c7-4f65eb565025",
   "metadata": {},
   "outputs": [
    {
     "data": {
      "text/plain": [
       "0.875"
      ]
     },
     "execution_count": 71,
     "metadata": {},
     "output_type": "execute_result"
    }
   ],
   "source": [
    "model_rf = RandomForestClassifier().fit(xtrain,ytrain)\n",
    "model_rf.score(xtest,ytest)                                "
   ]
  },
  {
   "cell_type": "code",
   "execution_count": 72,
   "id": "90ca8be4-7f06-480d-bd7a-20104094c8d2",
   "metadata": {
    "scrolled": true,
    "tags": []
   },
   "outputs": [
    {
     "data": {
      "text/plain": [
       "[DecisionTreeClassifier(max_features='auto', random_state=411091103),\n",
       " DecisionTreeClassifier(max_features='auto', random_state=1012339642),\n",
       " DecisionTreeClassifier(max_features='auto', random_state=1312019898),\n",
       " DecisionTreeClassifier(max_features='auto', random_state=1131159410),\n",
       " DecisionTreeClassifier(max_features='auto', random_state=1134142295),\n",
       " DecisionTreeClassifier(max_features='auto', random_state=560303010),\n",
       " DecisionTreeClassifier(max_features='auto', random_state=360801336),\n",
       " DecisionTreeClassifier(max_features='auto', random_state=139397591),\n",
       " DecisionTreeClassifier(max_features='auto', random_state=1177381748),\n",
       " DecisionTreeClassifier(max_features='auto', random_state=716790626),\n",
       " DecisionTreeClassifier(max_features='auto', random_state=1236556373),\n",
       " DecisionTreeClassifier(max_features='auto', random_state=1146542986),\n",
       " DecisionTreeClassifier(max_features='auto', random_state=66343928),\n",
       " DecisionTreeClassifier(max_features='auto', random_state=1758980662),\n",
       " DecisionTreeClassifier(max_features='auto', random_state=1675029527),\n",
       " DecisionTreeClassifier(max_features='auto', random_state=1911262953),\n",
       " DecisionTreeClassifier(max_features='auto', random_state=188377359),\n",
       " DecisionTreeClassifier(max_features='auto', random_state=686382598),\n",
       " DecisionTreeClassifier(max_features='auto', random_state=348331658),\n",
       " DecisionTreeClassifier(max_features='auto', random_state=1304041371),\n",
       " DecisionTreeClassifier(max_features='auto', random_state=115191208),\n",
       " DecisionTreeClassifier(max_features='auto', random_state=351236093),\n",
       " DecisionTreeClassifier(max_features='auto', random_state=725998135),\n",
       " DecisionTreeClassifier(max_features='auto', random_state=1179126861),\n",
       " DecisionTreeClassifier(max_features='auto', random_state=802706139),\n",
       " DecisionTreeClassifier(max_features='auto', random_state=700120127),\n",
       " DecisionTreeClassifier(max_features='auto', random_state=1345440736),\n",
       " DecisionTreeClassifier(max_features='auto', random_state=1077125155),\n",
       " DecisionTreeClassifier(max_features='auto', random_state=726702752),\n",
       " DecisionTreeClassifier(max_features='auto', random_state=123550276),\n",
       " DecisionTreeClassifier(max_features='auto', random_state=580036286),\n",
       " DecisionTreeClassifier(max_features='auto', random_state=740808191),\n",
       " DecisionTreeClassifier(max_features='auto', random_state=46056242),\n",
       " DecisionTreeClassifier(max_features='auto', random_state=1206420630),\n",
       " DecisionTreeClassifier(max_features='auto', random_state=991964448),\n",
       " DecisionTreeClassifier(max_features='auto', random_state=1007838465),\n",
       " DecisionTreeClassifier(max_features='auto', random_state=251424730),\n",
       " DecisionTreeClassifier(max_features='auto', random_state=17538934),\n",
       " DecisionTreeClassifier(max_features='auto', random_state=1442125133),\n",
       " DecisionTreeClassifier(max_features='auto', random_state=690197916),\n",
       " DecisionTreeClassifier(max_features='auto', random_state=1798234332),\n",
       " DecisionTreeClassifier(max_features='auto', random_state=2040954088),\n",
       " DecisionTreeClassifier(max_features='auto', random_state=1162300331),\n",
       " DecisionTreeClassifier(max_features='auto', random_state=72626133),\n",
       " DecisionTreeClassifier(max_features='auto', random_state=1624807126),\n",
       " DecisionTreeClassifier(max_features='auto', random_state=831654170),\n",
       " DecisionTreeClassifier(max_features='auto', random_state=416673055),\n",
       " DecisionTreeClassifier(max_features='auto', random_state=728597752),\n",
       " DecisionTreeClassifier(max_features='auto', random_state=1293647432),\n",
       " DecisionTreeClassifier(max_features='auto', random_state=1038895197),\n",
       " DecisionTreeClassifier(max_features='auto', random_state=1635979150),\n",
       " DecisionTreeClassifier(max_features='auto', random_state=213890531),\n",
       " DecisionTreeClassifier(max_features='auto', random_state=1346377915),\n",
       " DecisionTreeClassifier(max_features='auto', random_state=1623295673),\n",
       " DecisionTreeClassifier(max_features='auto', random_state=461338253),\n",
       " DecisionTreeClassifier(max_features='auto', random_state=136348056),\n",
       " DecisionTreeClassifier(max_features='auto', random_state=117214185),\n",
       " DecisionTreeClassifier(max_features='auto', random_state=1800031647),\n",
       " DecisionTreeClassifier(max_features='auto', random_state=2064477066),\n",
       " DecisionTreeClassifier(max_features='auto', random_state=732933171),\n",
       " DecisionTreeClassifier(max_features='auto', random_state=1492769941),\n",
       " DecisionTreeClassifier(max_features='auto', random_state=278820336),\n",
       " DecisionTreeClassifier(max_features='auto', random_state=1214872980),\n",
       " DecisionTreeClassifier(max_features='auto', random_state=1568403322),\n",
       " DecisionTreeClassifier(max_features='auto', random_state=155352533),\n",
       " DecisionTreeClassifier(max_features='auto', random_state=1888925491),\n",
       " DecisionTreeClassifier(max_features='auto', random_state=1038015826),\n",
       " DecisionTreeClassifier(max_features='auto', random_state=1260693406),\n",
       " DecisionTreeClassifier(max_features='auto', random_state=1907329307),\n",
       " DecisionTreeClassifier(max_features='auto', random_state=1757057934),\n",
       " DecisionTreeClassifier(max_features='auto', random_state=951323151),\n",
       " DecisionTreeClassifier(max_features='auto', random_state=1771275385),\n",
       " DecisionTreeClassifier(max_features='auto', random_state=1124154805),\n",
       " DecisionTreeClassifier(max_features='auto', random_state=670404747),\n",
       " DecisionTreeClassifier(max_features='auto', random_state=1981591009),\n",
       " DecisionTreeClassifier(max_features='auto', random_state=1255442682),\n",
       " DecisionTreeClassifier(max_features='auto', random_state=266186100),\n",
       " DecisionTreeClassifier(max_features='auto', random_state=1995104550),\n",
       " DecisionTreeClassifier(max_features='auto', random_state=612821172),\n",
       " DecisionTreeClassifier(max_features='auto', random_state=500676236),\n",
       " DecisionTreeClassifier(max_features='auto', random_state=998343076),\n",
       " DecisionTreeClassifier(max_features='auto', random_state=306989420),\n",
       " DecisionTreeClassifier(max_features='auto', random_state=1716852752),\n",
       " DecisionTreeClassifier(max_features='auto', random_state=372143070),\n",
       " DecisionTreeClassifier(max_features='auto', random_state=1236865026),\n",
       " DecisionTreeClassifier(max_features='auto', random_state=1697662053),\n",
       " DecisionTreeClassifier(max_features='auto', random_state=876663524),\n",
       " DecisionTreeClassifier(max_features='auto', random_state=1167488439),\n",
       " DecisionTreeClassifier(max_features='auto', random_state=1851537590),\n",
       " DecisionTreeClassifier(max_features='auto', random_state=1751064355),\n",
       " DecisionTreeClassifier(max_features='auto', random_state=1853395971),\n",
       " DecisionTreeClassifier(max_features='auto', random_state=1551442259),\n",
       " DecisionTreeClassifier(max_features='auto', random_state=1311267447),\n",
       " DecisionTreeClassifier(max_features='auto', random_state=1087424245),\n",
       " DecisionTreeClassifier(max_features='auto', random_state=1787429309),\n",
       " DecisionTreeClassifier(max_features='auto', random_state=1025639276),\n",
       " DecisionTreeClassifier(max_features='auto', random_state=594751740),\n",
       " DecisionTreeClassifier(max_features='auto', random_state=1718865245),\n",
       " DecisionTreeClassifier(max_features='auto', random_state=740699573),\n",
       " DecisionTreeClassifier(max_features='auto', random_state=659048567)]"
      ]
     },
     "execution_count": 72,
     "metadata": {},
     "output_type": "execute_result"
    }
   ],
   "source": [
    "model_rf.estimators_"
   ]
  },
  {
   "cell_type": "code",
   "execution_count": 73,
   "id": "e9aa2048-0889-4cfe-94e3-cb3e67950ca7",
   "metadata": {},
   "outputs": [
    {
     "data": {
      "text/html": [
       "<div>\n",
       "<style scoped>\n",
       "    .dataframe tbody tr th:only-of-type {\n",
       "        vertical-align: middle;\n",
       "    }\n",
       "\n",
       "    .dataframe tbody tr th {\n",
       "        vertical-align: top;\n",
       "    }\n",
       "\n",
       "    .dataframe thead th {\n",
       "        text-align: right;\n",
       "    }\n",
       "</style>\n",
       "<table border=\"1\" class=\"dataframe\">\n",
       "  <thead>\n",
       "    <tr style=\"text-align: right;\">\n",
       "      <th></th>\n",
       "      <th>Feature Importance</th>\n",
       "    </tr>\n",
       "  </thead>\n",
       "  <tbody>\n",
       "    <tr>\n",
       "      <th>Age</th>\n",
       "      <td>0.523459</td>\n",
       "    </tr>\n",
       "    <tr>\n",
       "      <th>EstimatedSalary</th>\n",
       "      <td>0.476541</td>\n",
       "    </tr>\n",
       "  </tbody>\n",
       "</table>\n",
       "</div>"
      ],
      "text/plain": [
       "                 Feature Importance\n",
       "Age                        0.523459\n",
       "EstimatedSalary            0.476541"
      ]
     },
     "execution_count": 73,
     "metadata": {},
     "output_type": "execute_result"
    }
   ],
   "source": [
    "pd.DataFrame(model_rf.feature_importances_, index=x.columns, columns=['Feature Importance'])"
   ]
  },
  {
   "cell_type": "code",
   "execution_count": 67,
   "id": "9da01c85-b2de-437c-a0a2-fab86f6dba3d",
   "metadata": {},
   "outputs": [],
   "source": [
    "## here gender is less important feature and hence we can remove that"
   ]
  },
  {
   "cell_type": "code",
   "execution_count": 74,
   "id": "d4afcad1-ed94-452b-a373-0ad01f5cc1dd",
   "metadata": {},
   "outputs": [
    {
     "data": {
      "text/plain": [
       "100"
      ]
     },
     "execution_count": 74,
     "metadata": {},
     "output_type": "execute_result"
    }
   ],
   "source": [
    "model_rf.n_estimators"
   ]
  },
  {
   "cell_type": "code",
   "execution_count": 77,
   "id": "0da2e6ea-368e-4976-80cb-5c238e7522b9",
   "metadata": {},
   "outputs": [
    {
     "data": {
      "text/plain": [
       "0.875"
      ]
     },
     "execution_count": 77,
     "metadata": {},
     "output_type": "execute_result"
    }
   ],
   "source": [
    "model_rf2 = RandomForestClassifier(n_estimators=10, ).fit(xtrain,ytrain)\n",
    "model_rf.score(xtest,ytest)            "
   ]
  },
  {
   "cell_type": "code",
   "execution_count": null,
   "id": "feae8a55-ebfa-42d7-9b60-407a17360c78",
   "metadata": {},
   "outputs": [],
   "source": []
  }
 ],
 "metadata": {
  "kernelspec": {
   "display_name": "Python 3",
   "language": "python",
   "name": "python3"
  },
  "language_info": {
   "codemirror_mode": {
    "name": "ipython",
    "version": 3
   },
   "file_extension": ".py",
   "mimetype": "text/x-python",
   "name": "python",
   "nbconvert_exporter": "python",
   "pygments_lexer": "ipython3",
   "version": "3.8.8"
  }
 },
 "nbformat": 4,
 "nbformat_minor": 5
}
