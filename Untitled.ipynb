{
 "cells": [
  {
   "cell_type": "code",
   "execution_count": 67,
   "id": "d4aace0f-a7a4-42a0-813d-f9fe4d34fd42",
   "metadata": {},
   "outputs": [],
   "source": [
    "import smtplib\n",
    "import imaplib\n",
    "import email\n",
    "from bs4 import BeautifulSoup"
   ]
  },
  {
   "cell_type": "code",
   "execution_count": 69,
   "id": "e5f18399-43dd-4843-a0b2-f55f90a50c60",
   "metadata": {},
   "outputs": [],
   "source": [
    "mailer = imaplib.IMAP4_SSL('smtp.gmail.com')\n",
    "mailer.login('adarsh.raigarha@gmail.com','Ady.OPJS')\n",
    "mailer.select('[Gmail]/Spam')\n",
    "\n",
    "t, data = mailer.search(None, 'ALL')\n",
    "#data - data is list of the email\n",
    "email_ind = data[0]\n",
    "# email_ing is the proper number of emails\n",
    "indx = email_ind.split()\n",
    "latest_mail_ind = indx[-1]\n",
    "first_mail_ind = indx[0]"
   ]
  },
  {
   "cell_type": "code",
   "execution_count": 70,
   "id": "13c4ce45-1b96-441d-8c33-9b4cdb3eecaa",
   "metadata": {},
   "outputs": [
    {
     "data": {
      "text/plain": [
       "b'1 2 3 4 5 6 7 8 9 10 11'"
      ]
     },
     "execution_count": 70,
     "metadata": {},
     "output_type": "execute_result"
    }
   ],
   "source": [
    "email_ind"
   ]
  },
  {
   "cell_type": "code",
   "execution_count": 71,
   "id": "4af9cd21-4671-4c31-900c-81af8abd8647",
   "metadata": {},
   "outputs": [
    {
     "ename": "IndexError",
     "evalue": "list index out of range",
     "output_type": "error",
     "traceback": [
      "\u001b[1;31m---------------------------------------------------------------------------\u001b[0m",
      "\u001b[1;31mIndexError\u001b[0m                                Traceback (most recent call last)",
      "\u001b[1;32m<ipython-input-71-d766cbf2728a>\u001b[0m in \u001b[0;36m<module>\u001b[1;34m\u001b[0m\n\u001b[0;32m      1\u001b[0m \u001b[0mdict1\u001b[0m \u001b[1;33m=\u001b[0m \u001b[1;33m{\u001b[0m\u001b[1;33m}\u001b[0m\u001b[1;33m\u001b[0m\u001b[1;33m\u001b[0m\u001b[0m\n\u001b[0;32m      2\u001b[0m \u001b[1;32mfor\u001b[0m \u001b[0mi\u001b[0m \u001b[1;32min\u001b[0m \u001b[0mrange\u001b[0m\u001b[1;33m(\u001b[0m\u001b[1;36m1\u001b[0m\u001b[1;33m,\u001b[0m\u001b[1;36m12\u001b[0m\u001b[1;33m)\u001b[0m\u001b[1;33m:\u001b[0m\u001b[1;33m\u001b[0m\u001b[1;33m\u001b[0m\u001b[0m\n\u001b[1;32m----> 3\u001b[1;33m     \u001b[0mmail_ind\u001b[0m \u001b[1;33m=\u001b[0m \u001b[0mindx\u001b[0m\u001b[1;33m[\u001b[0m\u001b[0mi\u001b[0m\u001b[1;33m]\u001b[0m\u001b[1;33m\u001b[0m\u001b[1;33m\u001b[0m\u001b[0m\n\u001b[0m\u001b[0;32m      4\u001b[0m     \u001b[0mt1\u001b[0m\u001b[1;33m,\u001b[0m\u001b[0mdata_mail\u001b[0m \u001b[1;33m=\u001b[0m \u001b[0mmailer\u001b[0m\u001b[1;33m.\u001b[0m\u001b[0mfetch\u001b[0m\u001b[1;33m(\u001b[0m\u001b[0mmail_ind\u001b[0m\u001b[1;33m,\u001b[0m \u001b[1;34m'(RFC822)'\u001b[0m\u001b[1;33m)\u001b[0m\u001b[1;33m\u001b[0m\u001b[1;33m\u001b[0m\u001b[0m\n\u001b[0;32m      5\u001b[0m     \u001b[0mdata1\u001b[0m \u001b[1;33m=\u001b[0m \u001b[0mdata_mail\u001b[0m\u001b[1;33m[\u001b[0m\u001b[1;36m0\u001b[0m\u001b[1;33m]\u001b[0m \u001b[1;31m#this is first part of data_mail\u001b[0m\u001b[1;33m\u001b[0m\u001b[1;33m\u001b[0m\u001b[0m\n",
      "\u001b[1;31mIndexError\u001b[0m: list index out of range"
     ]
    }
   ],
   "source": [
    "dict1 = {}\n",
    "for i in range(1,12):\n",
    "    mail_ind = indx[i]\n",
    "    t1,data_mail = mailer.fetch(mail_ind, '(RFC822)')\n",
    "    data1 = data_mail[0] #this is first part of data_mail\n",
    "\n",
    "    msg = email.message_from_bytes(data1[1])\n",
    "    # print(msg['HTML'])\n",
    "    if msg.is_multipart():\n",
    "        try:            \n",
    "            msg = msg.get_payload(i=0)\n",
    "            soup = BeautifulSoup(str(msg), features='lxml')\n",
    "            final_msg = soup.get_text(strip=True)\n",
    "            dict1[i] = final_msg\n",
    "        except:\n",
    "            msg = msg.get_payload(i=1)\n",
    "            soup = BeautifulSoup(str(msg), features='lxml')\n",
    "            final_msg = soup.get_text(strip=True)\n",
    "            dict1[i] = final_msg\n",
    "    else:\n",
    "        msg = msg.get_payload()\n",
    "        soup = BeautifulSoup(str(msg), features='lxml')\n",
    "        final_msg = soup.get_text(strip=True)\n",
    "        dict1[i] = final_msg"
   ]
  },
  {
   "cell_type": "code",
   "execution_count": 73,
   "id": "932d305e-607a-47f8-a6cf-f9e9577c874a",
   "metadata": {},
   "outputs": [
    {
     "data": {
      "text/plain": [
       "10"
      ]
     },
     "execution_count": 73,
     "metadata": {},
     "output_type": "execute_result"
    }
   ],
   "source": [
    "len(dict1)"
   ]
  },
  {
   "cell_type": "code",
   "execution_count": 75,
   "id": "7476570a-9a1b-4254-9358-a948413753b1",
   "metadata": {},
   "outputs": [],
   "source": [
    "import pandas as pd\n",
    "df_spam_mails = pd.DataFrame(dict1.values(), columns=['content'])"
   ]
  },
  {
   "cell_type": "code",
   "execution_count": 80,
   "id": "bb21c6bb-385b-4753-9ef4-40a184fb1b61",
   "metadata": {},
   "outputs": [],
   "source": [
    "spam_result_dict_spam_mails = {}\n",
    "for i in range(1,11):\n",
    "    spam_result_dict_spam_mails[i] = 0\n",
    "spam_result_DF_spam_mails = pd.DataFrame(spam_result_dict_spam_mails.values(), columns=['spam'])"
   ]
  },
  {
   "cell_type": "code",
   "execution_count": 82,
   "id": "c7838fd9-7dc5-4580-a7f3-13ef7fc1cfd3",
   "metadata": {},
   "outputs": [],
   "source": [
    "spam_mail = pd.concat([df_spam_mails , spam_result_DF_spam_mails['spam']], axis=1)"
   ]
  },
  {
   "cell_type": "code",
   "execution_count": 84,
   "id": "8d57541a-1171-49f9-848e-48ca5ba1c9c8",
   "metadata": {},
   "outputs": [],
   "source": [
    "spam_mail.to_csv('Mail_Spam.csv')"
   ]
  },
  {
   "cell_type": "code",
   "execution_count": null,
   "id": "a61c6b12-7aa4-44f4-95ac-9ae3d5208436",
   "metadata": {},
   "outputs": [],
   "source": []
  }
 ],
 "metadata": {
  "kernelspec": {
   "display_name": "Python 3",
   "language": "python",
   "name": "python3"
  },
  "language_info": {
   "codemirror_mode": {
    "name": "ipython",
    "version": 3
   },
   "file_extension": ".py",
   "mimetype": "text/x-python",
   "name": "python",
   "nbconvert_exporter": "python",
   "pygments_lexer": "ipython3",
   "version": "3.8.8"
  }
 },
 "nbformat": 4,
 "nbformat_minor": 5
}
