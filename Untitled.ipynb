{
 "cells": [
  {
   "cell_type": "code",
   "execution_count": 3,
   "id": "32768b0a-a78f-4983-8ebb-d47356ebfa1d",
   "metadata": {},
   "outputs": [],
   "source": [
    "import pandas as pd\n",
    "import matplotlib.pyplot as plt\n",
    "import warnings\n",
    "warnings.filterwarnings('ignore')"
   ]
  },
  {
   "cell_type": "code",
   "execution_count": 71,
   "id": "69d5f0bd-b488-43a8-9c63-64c4de3402d2",
   "metadata": {},
   "outputs": [],
   "source": [
    "adv = pd.read_csv('Datasets/advertising.csv')"
   ]
  },
  {
   "cell_type": "code",
   "execution_count": 72,
   "id": "23f8d1c3-c8e1-43a9-8609-1f4ed495dc78",
   "metadata": {},
   "outputs": [
    {
     "data": {
      "text/plain": [
       "(10,)"
      ]
     },
     "execution_count": 72,
     "metadata": {},
     "output_type": "execute_result"
    }
   ],
   "source": [
    "adv.columns.shape"
   ]
  },
  {
   "cell_type": "code",
   "execution_count": 73,
   "id": "a4e613de-5adf-47dd-8e50-6560d9e9d88b",
   "metadata": {},
   "outputs": [],
   "source": [
    "adv['Income'] = adv['Area Income'].apply(lambda x:float(x))"
   ]
  },
  {
   "cell_type": "code",
   "execution_count": 74,
   "id": "67b3264e-e7d8-4962-a754-73943454be72",
   "metadata": {},
   "outputs": [
    {
     "name": "stdout",
     "output_type": "stream",
     "text": [
      "<class 'pandas.core.frame.DataFrame'>\n",
      "RangeIndex: 1000 entries, 0 to 999\n",
      "Data columns (total 11 columns):\n",
      " #   Column                    Non-Null Count  Dtype  \n",
      "---  ------                    --------------  -----  \n",
      " 0   Daily Time Spent on Site  1000 non-null   float64\n",
      " 1   Age                       1000 non-null   int64  \n",
      " 2   Area Income               1000 non-null   float64\n",
      " 3   Daily Internet Usage      1000 non-null   float64\n",
      " 4   Ad Topic Line             1000 non-null   object \n",
      " 5   City                      1000 non-null   object \n",
      " 6   Male                      1000 non-null   int64  \n",
      " 7   Country                   1000 non-null   object \n",
      " 8   Timestamp                 1000 non-null   object \n",
      " 9   Clicked on Ad             1000 non-null   int64  \n",
      " 10  Income                    1000 non-null   float64\n",
      "dtypes: float64(4), int64(3), object(4)\n",
      "memory usage: 86.1+ KB\n"
     ]
    }
   ],
   "source": [
    "adv.info()"
   ]
  },
  {
   "cell_type": "code",
   "execution_count": 36,
   "id": "46a85498-c2b8-47f3-a932-5654f19a08d5",
   "metadata": {},
   "outputs": [
    {
     "data": {
      "image/png": "[encoded data removed]",
      "text/plain": [
       "<Figure size 432x288 with 1 Axes>"
      ]
     },
     "metadata": {
      "needs_background": "light"
     },
     "output_type": "display_data"
    }
   ],
   "source": [
    "plt.hist(round(adv['Income'], -2), bins=10, color='r')\n",
    "plt.grid()"
   ]
  },
  {
   "cell_type": "code",
   "execution_count": 48,
   "id": "b752109b-e976-4adc-bb54-3d18a5a33f51",
   "metadata": {},
   "outputs": [
    {
     "data": {
      "text/plain": [
       "(array([10., 28., 47., 48., 74., 96., 71., 60., 45., 21.]),\n",
       " array([13996.5  , 20448.949, 26901.398, 33353.847, 39806.296, 46258.745,\n",
       "        52711.194, 59163.643, 65616.092, 72068.541, 78520.99 ]),\n",
       " <BarContainer object of 10 artists>)"
      ]
     },
     "execution_count": 48,
     "metadata": {},
     "output_type": "execute_result"
    },
    {
     "data": {
      "image/png": "[encoded data removed]",
      "text/plain": [
       "<Figure size 864x576 with 2 Axes>"
      ]
     },
     "metadata": {
      "needs_background": "light"
     },
     "output_type": "display_data"
    }
   ],
   "source": [
    "plt.figure(figsize=(12,8))\n",
    "plt.subplot(1,2,1)\n",
    "plt.hist(adv['Income'][adv['Clicked on Ad']==0])\n",
    "plt.subplot(1,2,2)\n",
    "plt.hist(adv['Income'][adv['Clicked on Ad']==1])"
   ]
  },
  {
   "cell_type": "code",
   "execution_count": 53,
   "id": "83c9d481-f99d-4c61-b1fc-8f139d709ea3",
   "metadata": {},
   "outputs": [
    {
     "data": {
      "text/plain": [
       "1000"
      ]
     },
     "execution_count": 53,
     "metadata": {},
     "output_type": "execute_result"
    }
   ],
   "source": [
    "adv['Ad Topic Line'].nunique()"
   ]
  },
  {
   "cell_type": "code",
   "execution_count": 54,
   "id": "a55ba04a-e45d-4f95-bb3f-8ddcf1f88b04",
   "metadata": {},
   "outputs": [
    {
     "name": "stdout",
     "output_type": "stream",
     "text": [
      "<class 'pandas.core.frame.DataFrame'>\n",
      "RangeIndex: 1000 entries, 0 to 999\n",
      "Data columns (total 11 columns):\n",
      " #   Column                    Non-Null Count  Dtype  \n",
      "---  ------                    --------------  -----  \n",
      " 0   Daily Time Spent on Site  1000 non-null   float64\n",
      " 1   Age                       1000 non-null   int64  \n",
      " 2   Area Income               1000 non-null   float64\n",
      " 3   Daily Internet Usage      1000 non-null   float64\n",
      " 4   Ad Topic Line             1000 non-null   object \n",
      " 5   City                      1000 non-null   object \n",
      " 6   Male                      1000 non-null   int64  \n",
      " 7   Country                   1000 non-null   object \n",
      " 8   Timestamp                 1000 non-null   object \n",
      " 9   Clicked on Ad             1000 non-null   int64  \n",
      " 10  Income                    1000 non-null   float64\n",
      "dtypes: float64(4), int64(3), object(4)\n",
      "memory usage: 86.1+ KB\n"
     ]
    }
   ],
   "source": [
    "adv.info()"
   ]
  },
  {
   "cell_type": "code",
   "execution_count": 57,
   "id": "a4dfd5b4-d1ec-4efb-b6c0-237a440ac3e9",
   "metadata": {},
   "outputs": [
    {
     "data": {
      "text/plain": [
       "(array([11., 25., 59., 57., 82., 96., 65., 61., 27., 17.]),\n",
       " array([19. , 23.2, 27.4, 31.6, 35.8, 40. , 44.2, 48.4, 52.6, 56.8, 61. ]),\n",
       " <BarContainer object of 10 artists>)"
      ]
     },
     "execution_count": 57,
     "metadata": {},
     "output_type": "execute_result"
    },
    {
     "data": {
      "image/png": "[encoded data removed]",
      "text/plain": [
       "<Figure size 864x576 with 2 Axes>"
      ]
     },
     "metadata": {
      "needs_background": "light"
     },
     "output_type": "display_data"
    }
   ],
   "source": [
    "plt.figure(figsize=(12,8))\n",
    "plt.subplot(1,2,1)\n",
    "plt.hist(adv['Age'][adv['Clicked on Ad']==0])\n",
    "plt.subplot(1,2,2)\n",
    "plt.hist(adv['Age'][adv['Clicked on Ad']==1]"
   ]
  },
  {
   "cell_type": "code",
   "execution_count": 80,
   "id": "fc3078ff-d8bb-4211-970e-130a332b6b96",
   "metadata": {},
   "outputs": [],
   "source": [
    "adv['TimeofP'] = adv['Timestamp'].apply(lambda x:int(x[-8:-6]))"
   ]
  },
  {
   "cell_type": "code",
   "execution_count": 82,
   "id": "d42000b0-12a9-4bf2-be6f-b8bde21cf73d",
   "metadata": {},
   "outputs": [],
   "source": [
    "del adv['Timestamp']"
   ]
  },
  {
   "cell_type": "code",
   "execution_count": 95,
   "id": "31b7f134-3704-48d3-a801-155e6984bd13",
   "metadata": {},
   "outputs": [
    {
     "data": {
      "text/plain": [
       "(array([59., 44., 44., 75., 38., 37., 56., 48., 43., 56.]),\n",
       " array([ 0. ,  2.3,  4.6,  6.9,  9.2, 11.5, 13.8, 16.1, 18.4, 20.7, 23. ]),\n",
       " <BarContainer object of 10 artists>)"
      ]
     },
     "execution_count": 95,
     "metadata": {},
     "output_type": "execute_result"
    },
    {
     "data": {
      "image/png": "[encoded data removed]",
      "text/plain": [
       "<Figure size 432x432 with 1 Axes>"
      ]
     },
     "metadata": {
      "needs_background": "light"
     },
     "output_type": "display_data"
    }
   ],
   "source": [
    "plt.figure(figsize=(6,6))\n",
    "plt.xticks(range(0,24,2))\n",
    "plt.hist(adv['TimeofP'][adv['Clicked on Ad']==1])"
   ]
  },
  {
   "cell_type": "code",
   "execution_count": 96,
   "id": "52cff96a-93dc-4741-924e-fc6a0aa0779e",
   "metadata": {},
   "outputs": [
    {
     "name": "stdout",
     "output_type": "stream",
     "text": [
      "<class 'pandas.core.frame.DataFrame'>\n",
      "RangeIndex: 1000 entries, 0 to 999\n",
      "Data columns (total 11 columns):\n",
      " #   Column                    Non-Null Count  Dtype  \n",
      "---  ------                    --------------  -----  \n",
      " 0   Daily Time Spent on Site  1000 non-null   float64\n",
      " 1   Age                       1000 non-null   int64  \n",
      " 2   Area Income               1000 non-null   float64\n",
      " 3   Daily Internet Usage      1000 non-null   float64\n",
      " 4   Ad Topic Line             1000 non-null   object \n",
      " 5   City                      1000 non-null   object \n",
      " 6   Male                      1000 non-null   int64  \n",
      " 7   Country                   1000 non-null   object \n",
      " 8   Clicked on Ad             1000 non-null   int64  \n",
      " 9   Income                    1000 non-null   float64\n",
      " 10  TimeofP                   1000 non-null   int64  \n",
      "dtypes: float64(4), int64(4), object(3)\n",
      "memory usage: 86.1+ KB\n"
     ]
    }
   ],
   "source": [
    "adv.info()"
   ]
  },
  {
   "cell_type": "code",
   "execution_count": 121,
   "id": "014719b6-72cb-4a4b-a27b-da638bb79004",
   "metadata": {},
   "outputs": [
    {
     "data": {
      "text/plain": [
       "False    155\n",
       "True      60\n",
       "Name: Country, dtype: int64"
      ]
     },
     "execution_count": 121,
     "metadata": {},
     "output_type": "execute_result"
    }
   ],
   "source": [
    "(adv['Country'][adv['Clicked on Ad']==0].value_counts()==1).value_counts()\n",
    "#countries hasnot to be considered"
   ]
  },
  {
   "cell_type": "code",
   "execution_count": 131,
   "id": "6fbafece-3677-4a4b-8db6-888f15639699",
   "metadata": {},
   "outputs": [],
   "source": [
    "adv['Daily Time Spent on Site'] = adv['Daily Time Spent on Site'].apply(lambda x:round(x,0))"
   ]
  },
  {
   "cell_type": "code",
   "execution_count": 136,
   "id": "e62fbdcc-22a7-4e5d-8480-5d60a7c5a482",
   "metadata": {},
   "outputs": [
    {
     "data": {
      "text/plain": [
       "(array([61., 98., 80., 72., 56., 58., 38., 19., 14.,  4.]),\n",
       " array([33. , 38.8, 44.6, 50.4, 56.2, 62. , 67.8, 73.6, 79.4, 85.2, 91. ]),\n",
       " <BarContainer object of 10 artists>)"
      ]
     },
     "execution_count": 136,
     "metadata": {},
     "output_type": "execute_result"
    },
    {
     "data": {
      "image/png": "[encoded data removed]",
      "text/plain": [
       "<Figure size 432x288 with 1 Axes>"
      ]
     },
     "metadata": {
      "needs_background": "light"
     },
     "output_type": "display_data"
    }
   ],
   "source": [
    "plt.hist(adv['Daily Time Spent on Site'][adv['Clicked on Ad']==1])"
   ]
  },
  {
   "cell_type": "code",
   "execution_count": 137,
   "id": "e5e4ec41-240f-4f9f-bc46-d70d447f2e2f",
   "metadata": {},
   "outputs": [
    {
     "data": {
      "text/plain": [
       "(array([11., 25., 59., 57., 82., 96., 65., 61., 27., 17.]),\n",
       " array([19. , 23.2, 27.4, 31.6, 35.8, 40. , 44.2, 48.4, 52.6, 56.8, 61. ]),\n",
       " <BarContainer object of 10 artists>)"
      ]
     },
     "execution_count": 137,
     "metadata": {},
     "output_type": "execute_result"
    },
    {
     "data": {
      "image/png": "[encoded data removed]",
      "text/plain": [
       "<Figure size 432x288 with 1 Axes>"
      ]
     },
     "metadata": {
      "needs_background": "light"
     },
     "output_type": "display_data"
    }
   ],
   "source": [
    "plt.hist(adv['Age'][adv['Clicked on Ad']==1])"
   ]
  },
  {
   "cell_type": "code",
   "execution_count": 138,
   "id": "5238cbda-5c0a-45ca-83ac-9697a255c4f1",
   "metadata": {},
   "outputs": [
    {
     "data": {
      "text/plain": [
       "(array([10., 28., 47., 48., 74., 96., 71., 60., 45., 21.]),\n",
       " array([13996.5  , 20448.949, 26901.398, 33353.847, 39806.296, 46258.745,\n",
       "        52711.194, 59163.643, 65616.092, 72068.541, 78520.99 ]),\n",
       " <BarContainer object of 10 artists>)"
      ]
     },
     "execution_count": 138,
     "metadata": {},
     "output_type": "execute_result"
    },
    {
     "data": {
      "image/png": "[encoded data removed]",
      "text/plain": [
       "<Figure size 432x288 with 1 Axes>"
      ]
     },
     "metadata": {
      "needs_background": "light"
     },
     "output_type": "display_data"
    }
   ],
   "source": [
    "plt.hist(adv['Income'][adv['Clicked on Ad']==1])"
   ]
  },
  {
   "cell_type": "code",
   "execution_count": 139,
   "id": "510d12bb-3eb5-46ec-a89e-cdf64fe68c9f",
   "metadata": {},
   "outputs": [],
   "source": [
    "del adv['Area Income']"
   ]
  },
  {
   "cell_type": "code",
   "execution_count": 141,
   "id": "2d61824a-a3ab-4b43-9ded-f461e3f45a2d",
   "metadata": {},
   "outputs": [
    {
     "data": {
      "text/plain": [
       "(array([50., 50., 52., 50., 50., 51., 49., 49., 50., 49.]),\n",
       " array([  0. ,  48.9,  97.8, 146.7, 195.6, 244.5, 293.4, 342.3, 391.2,\n",
       "        440.1, 489. ]),\n",
       " <BarContainer object of 10 artists>)"
      ]
     },
     "execution_count": 141,
     "metadata": {},
     "output_type": "execute_result"
    },
    {
     "data": {
      "image/png": "[encoded data removed]",
      "text/plain": [
       "<Figure size 432x288 with 1 Axes>"
      ]
     },
     "metadata": {
      "needs_background": "light"
     },
     "output_type": "display_data"
    }
   ],
   "source": [
    "plt.hist(adv['City'][adv['Clicked on Ad']==1])"
   ]
  },
  {
   "cell_type": "code",
   "execution_count": 144,
   "id": "a359bf94-1f84-4147-a33d-3409f1179eba",
   "metadata": {},
   "outputs": [
    {
     "data": {
      "text/plain": [
       "(array([269.,   0.,   0.,   0.,   0.,   0.,   0.,   0.,   0., 231.]),\n",
       " array([0. , 0.1, 0.2, 0.3, 0.4, 0.5, 0.6, 0.7, 0.8, 0.9, 1. ]),\n",
       " <BarContainer object of 10 artists>)"
      ]
     },
     "execution_count": 144,
     "metadata": {},
     "output_type": "execute_result"
    },
    {
     "data": {
      "image/png": "[encoded data removed]",
      "text/plain": [
       "<Figure size 432x288 with 1 Axes>"
      ]
     },
     "metadata": {
      "needs_background": "light"
     },
     "output_type": "display_data"
    }
   ],
   "source": [
    "plt.hist(adv['Male'][adv['Clicked on Ad']==1])"
   ]
  },
  {
   "cell_type": "code",
   "execution_count": 145,
   "id": "b2006035-60d8-4319-8a11-3308272cd36f",
   "metadata": {},
   "outputs": [
    {
     "name": "stdout",
     "output_type": "stream",
     "text": [
      "<class 'pandas.core.frame.DataFrame'>\n",
      "RangeIndex: 1000 entries, 0 to 999\n",
      "Data columns (total 10 columns):\n",
      " #   Column                    Non-Null Count  Dtype  \n",
      "---  ------                    --------------  -----  \n",
      " 0   Daily Time Spent on Site  1000 non-null   float64\n",
      " 1   Age                       1000 non-null   int64  \n",
      " 2   Daily Internet Usage      1000 non-null   float64\n",
      " 3   Ad Topic Line             1000 non-null   object \n",
      " 4   City                      1000 non-null   object \n",
      " 5   Male                      1000 non-null   int64  \n",
      " 6   Country                   1000 non-null   object \n",
      " 7   Clicked on Ad             1000 non-null   int64  \n",
      " 8   Income                    1000 non-null   float64\n",
      " 9   TimeofP                   1000 non-null   int64  \n",
      "dtypes: float64(3), int64(4), object(3)\n",
      "memory usage: 78.2+ KB\n"
     ]
    }
   ],
   "source": [
    "adv.info()"
   ]
  },
  {
   "cell_type": "code",
   "execution_count": 142,
   "id": "6dc31634-8324-4d5c-aa1d-c556080bbc10",
   "metadata": {},
   "outputs": [],
   "source": [
    "#city has to be dropped\n",
    "#countries had to be dropped"
   ]
  },
  {
   "cell_type": "code",
   "execution_count": 147,
   "id": "0ff01238-0b22-4f11-9927-571b3f723457",
   "metadata": {},
   "outputs": [],
   "source": [
    "from sklearn.tree import DecisionTreeClassifier\n",
    "from sklearn.ensemble import RandomForestClassifier\n",
    "from sklearn.model_selection import train_test_split"
   ]
  },
  {
   "cell_type": "code",
   "execution_count": 150,
   "id": "eac47214-b6cd-4953-a521-15960ba9287b",
   "metadata": {},
   "outputs": [],
   "source": [
    "x = adv.drop(['Ad Topic Line','Country','City'], axis=1)\n",
    "y = adv['Clicked on Ad']"
   ]
  },
  {
   "cell_type": "code",
   "execution_count": 154,
   "id": "f79f6cf4-533c-494d-8e8b-3b0a355efb92",
   "metadata": {},
   "outputs": [],
   "source": [
    "xtrain, xtest,ytrain, ytest  = train_test_split(x,y, test_size=0.3, random_state = 50)\n",
    "model = DecisionTreeClassifier().fit(xtrain,ytrain)"
   ]
  },
  {
   "cell_type": "code",
   "execution_count": 155,
   "id": "4780b33f-6dd6-472e-a336-49575506fd29",
   "metadata": {},
   "outputs": [
    {
     "data": {
      "text/plain": [
       "1.0"
      ]
     },
     "execution_count": 155,
     "metadata": {},
     "output_type": "execute_result"
    }
   ],
   "source": [
    "model.score(xtest,ytest)"
   ]
  },
  {
   "cell_type": "code",
   "execution_count": null,
   "id": "a821411b-cf85-4fbb-a7a0-1254f5fcd4b6",
   "metadata": {},
   "outputs": [],
   "source": []
  }
 ],
 "metadata": {
  "kernelspec": {
   "display_name": "Python 3",
   "language": "python",
   "name": "python3"
  },
  "language_info": {
   "codemirror_mode": {
    "name": "ipython",
    "version": 3
   },
   "file_extension": ".py",
   "mimetype": "text/x-python",
   "name": "python",
   "nbconvert_exporter": "python",
   "pygments_lexer": "ipython3",
   "version": "3.8.8"
  }
 },
 "nbformat": 4,
 "nbformat_minor": 5
}
