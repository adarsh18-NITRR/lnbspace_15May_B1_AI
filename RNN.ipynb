{
 "cells": [
  {
   "cell_type": "raw",
   "id": "f702c2b5-6b7f-47dc-a71a-10a5b783f5cd",
   "metadata": {},
   "source": [
    "we sent the data row wise in ANN\n",
    "RNN - try to predict the sequence / pattern in the features\n",
    "    if things are happening in past then what may be happening\n",
    "in this we transpose our data"
   ]
  },
  {
   "cell_type": "code",
   "execution_count": 3,
   "id": "b0f537d3-2c7e-48fb-bd58-0a033bdd3b92",
   "metadata": {},
   "outputs": [],
   "source": [
    "import pandas as pd"
   ]
  },
  {
   "cell_type": "code",
   "execution_count": 4,
   "id": "343453d9-9429-447e-b163-248aaed3c8c4",
   "metadata": {},
   "outputs": [],
   "source": [
    "stocks = pd.read_csv('stock_data.csv')"
   ]
  },
  {
   "cell_type": "code",
   "execution_count": 5,
   "id": "55ee8555-8863-4f34-a0f4-7bef7f9b220c",
   "metadata": {},
   "outputs": [
    {
     "data": {
      "text/plain": [
       "AAPL    8364\n",
       "MSFT    7983\n",
       "TSLA    1858\n",
       "FB      1381\n",
       "Name: Stock, dtype: int64"
      ]
     },
     "execution_count": 5,
     "metadata": {},
     "output_type": "execute_result"
    }
   ],
   "source": [
    "stocks['Stock'].value_counts()"
   ]
  },
  {
   "cell_type": "code",
   "execution_count": 6,
   "id": "b010f55c-b690-4797-a874-cfea9bbbfb2f",
   "metadata": {},
   "outputs": [
    {
     "data": {
      "text/html": [
       "<div>\n",
       "<style scoped>\n",
       "    .dataframe tbody tr th:only-of-type {\n",
       "        vertical-align: middle;\n",
       "    }\n",
       "\n",
       "    .dataframe tbody tr th {\n",
       "        vertical-align: top;\n",
       "    }\n",
       "\n",
       "    .dataframe thead th {\n",
       "        text-align: right;\n",
       "    }\n",
       "</style>\n",
       "<table border=\"1\" class=\"dataframe\">\n",
       "  <thead>\n",
       "    <tr style=\"text-align: right;\">\n",
       "      <th></th>\n",
       "      <th>Date</th>\n",
       "      <th>Open</th>\n",
       "      <th>High</th>\n",
       "      <th>Low</th>\n",
       "      <th>Close</th>\n",
       "      <th>Volume</th>\n",
       "      <th>OpenInt</th>\n",
       "      <th>Stock</th>\n",
       "    </tr>\n",
       "  </thead>\n",
       "  <tbody>\n",
       "    <tr>\n",
       "      <th>0</th>\n",
       "      <td>1984-09-07</td>\n",
       "      <td>0.42388</td>\n",
       "      <td>0.42902</td>\n",
       "      <td>0.41874</td>\n",
       "      <td>0.42388</td>\n",
       "      <td>23220030</td>\n",
       "      <td>0</td>\n",
       "      <td>AAPL</td>\n",
       "    </tr>\n",
       "    <tr>\n",
       "      <th>1</th>\n",
       "      <td>1984-09-10</td>\n",
       "      <td>0.42388</td>\n",
       "      <td>0.42516</td>\n",
       "      <td>0.41366</td>\n",
       "      <td>0.42134</td>\n",
       "      <td>18022532</td>\n",
       "      <td>0</td>\n",
       "      <td>AAPL</td>\n",
       "    </tr>\n",
       "    <tr>\n",
       "      <th>2</th>\n",
       "      <td>1984-09-11</td>\n",
       "      <td>0.42516</td>\n",
       "      <td>0.43668</td>\n",
       "      <td>0.42516</td>\n",
       "      <td>0.42902</td>\n",
       "      <td>42498199</td>\n",
       "      <td>0</td>\n",
       "      <td>AAPL</td>\n",
       "    </tr>\n",
       "    <tr>\n",
       "      <th>3</th>\n",
       "      <td>1984-09-12</td>\n",
       "      <td>0.42902</td>\n",
       "      <td>0.43157</td>\n",
       "      <td>0.41618</td>\n",
       "      <td>0.41618</td>\n",
       "      <td>37125801</td>\n",
       "      <td>0</td>\n",
       "      <td>AAPL</td>\n",
       "    </tr>\n",
       "    <tr>\n",
       "      <th>4</th>\n",
       "      <td>1984-09-13</td>\n",
       "      <td>0.43927</td>\n",
       "      <td>0.44052</td>\n",
       "      <td>0.43927</td>\n",
       "      <td>0.43927</td>\n",
       "      <td>57822062</td>\n",
       "      <td>0</td>\n",
       "      <td>AAPL</td>\n",
       "    </tr>\n",
       "    <tr>\n",
       "      <th>...</th>\n",
       "      <td>...</td>\n",
       "      <td>...</td>\n",
       "      <td>...</td>\n",
       "      <td>...</td>\n",
       "      <td>...</td>\n",
       "      <td>...</td>\n",
       "      <td>...</td>\n",
       "      <td>...</td>\n",
       "    </tr>\n",
       "    <tr>\n",
       "      <th>19581</th>\n",
       "      <td>2017-11-06</td>\n",
       "      <td>178.56000</td>\n",
       "      <td>180.45000</td>\n",
       "      <td>178.31000</td>\n",
       "      <td>180.17000</td>\n",
       "      <td>13275578</td>\n",
       "      <td>0</td>\n",
       "      <td>FB</td>\n",
       "    </tr>\n",
       "    <tr>\n",
       "      <th>19582</th>\n",
       "      <td>2017-11-07</td>\n",
       "      <td>180.50000</td>\n",
       "      <td>180.74800</td>\n",
       "      <td>179.40300</td>\n",
       "      <td>180.25000</td>\n",
       "      <td>12903836</td>\n",
       "      <td>0</td>\n",
       "      <td>FB</td>\n",
       "    </tr>\n",
       "    <tr>\n",
       "      <th>19583</th>\n",
       "      <td>2017-11-08</td>\n",
       "      <td>179.79000</td>\n",
       "      <td>180.35000</td>\n",
       "      <td>179.11000</td>\n",
       "      <td>179.56000</td>\n",
       "      <td>10467606</td>\n",
       "      <td>0</td>\n",
       "      <td>FB</td>\n",
       "    </tr>\n",
       "    <tr>\n",
       "      <th>19584</th>\n",
       "      <td>2017-11-09</td>\n",
       "      <td>178.31000</td>\n",
       "      <td>179.40000</td>\n",
       "      <td>177.09000</td>\n",
       "      <td>179.30000</td>\n",
       "      <td>12602188</td>\n",
       "      <td>0</td>\n",
       "      <td>FB</td>\n",
       "    </tr>\n",
       "    <tr>\n",
       "      <th>19585</th>\n",
       "      <td>2017-11-10</td>\n",
       "      <td>178.35000</td>\n",
       "      <td>179.10000</td>\n",
       "      <td>177.96000</td>\n",
       "      <td>178.46000</td>\n",
       "      <td>11060355</td>\n",
       "      <td>0</td>\n",
       "      <td>FB</td>\n",
       "    </tr>\n",
       "  </tbody>\n",
       "</table>\n",
       "<p>19586 rows × 8 columns</p>\n",
       "</div>"
      ],
      "text/plain": [
       "             Date       Open       High        Low      Close    Volume  \\\n",
       "0      1984-09-07    0.42388    0.42902    0.41874    0.42388  23220030   \n",
       "1      1984-09-10    0.42388    0.42516    0.41366    0.42134  18022532   \n",
       "2      1984-09-11    0.42516    0.43668    0.42516    0.42902  42498199   \n",
       "3      1984-09-12    0.42902    0.43157    0.41618    0.41618  37125801   \n",
       "4      1984-09-13    0.43927    0.44052    0.43927    0.43927  57822062   \n",
       "...           ...        ...        ...        ...        ...       ...   \n",
       "19581  2017-11-06  178.56000  180.45000  178.31000  180.17000  13275578   \n",
       "19582  2017-11-07  180.50000  180.74800  179.40300  180.25000  12903836   \n",
       "19583  2017-11-08  179.79000  180.35000  179.11000  179.56000  10467606   \n",
       "19584  2017-11-09  178.31000  179.40000  177.09000  179.30000  12602188   \n",
       "19585  2017-11-10  178.35000  179.10000  177.96000  178.46000  11060355   \n",
       "\n",
       "       OpenInt Stock  \n",
       "0            0  AAPL  \n",
       "1            0  AAPL  \n",
       "2            0  AAPL  \n",
       "3            0  AAPL  \n",
       "4            0  AAPL  \n",
       "...        ...   ...  \n",
       "19581        0    FB  \n",
       "19582        0    FB  \n",
       "19583        0    FB  \n",
       "19584        0    FB  \n",
       "19585        0    FB  \n",
       "\n",
       "[19586 rows x 8 columns]"
      ]
     },
     "execution_count": 6,
     "metadata": {},
     "output_type": "execute_result"
    }
   ],
   "source": [
    "stocks"
   ]
  },
  {
   "cell_type": "raw",
   "id": "055e482c-c311-49aa-9253-a1c45f89eade",
   "metadata": {},
   "source": [
    "if it closed  at a paticular price then at what it will open"
   ]
  },
  {
   "cell_type": "code",
   "execution_count": 7,
   "id": "d193a2db-ed8f-4782-9248-ebe532a6834c",
   "metadata": {},
   "outputs": [],
   "source": [
    "msft = stocks[['Date','Open']][stocks['Stock']=='MSFT']"
   ]
  },
  {
   "cell_type": "code",
   "execution_count": 8,
   "id": "cbd4310d-5935-4f9c-a073-9e86a05f3107",
   "metadata": {},
   "outputs": [
    {
     "data": {
      "text/html": [
       "<div>\n",
       "<style scoped>\n",
       "    .dataframe tbody tr th:only-of-type {\n",
       "        vertical-align: middle;\n",
       "    }\n",
       "\n",
       "    .dataframe tbody tr th {\n",
       "        vertical-align: top;\n",
       "    }\n",
       "\n",
       "    .dataframe thead th {\n",
       "        text-align: right;\n",
       "    }\n",
       "</style>\n",
       "<table border=\"1\" class=\"dataframe\">\n",
       "  <thead>\n",
       "    <tr style=\"text-align: right;\">\n",
       "      <th></th>\n",
       "      <th>Date</th>\n",
       "      <th>Open</th>\n",
       "    </tr>\n",
       "  </thead>\n",
       "  <tbody>\n",
       "    <tr>\n",
       "      <th>10222</th>\n",
       "      <td>1986-03-13</td>\n",
       "      <td>0.06720</td>\n",
       "    </tr>\n",
       "    <tr>\n",
       "      <th>10223</th>\n",
       "      <td>1986-03-14</td>\n",
       "      <td>0.07533</td>\n",
       "    </tr>\n",
       "    <tr>\n",
       "      <th>10224</th>\n",
       "      <td>1986-03-17</td>\n",
       "      <td>0.07533</td>\n",
       "    </tr>\n",
       "    <tr>\n",
       "      <th>10225</th>\n",
       "      <td>1986-03-18</td>\n",
       "      <td>0.07533</td>\n",
       "    </tr>\n",
       "    <tr>\n",
       "      <th>10226</th>\n",
       "      <td>1986-03-19</td>\n",
       "      <td>0.07533</td>\n",
       "    </tr>\n",
       "    <tr>\n",
       "      <th>...</th>\n",
       "      <td>...</td>\n",
       "      <td>...</td>\n",
       "    </tr>\n",
       "    <tr>\n",
       "      <th>18200</th>\n",
       "      <td>2017-11-06</td>\n",
       "      <td>84.20000</td>\n",
       "    </tr>\n",
       "    <tr>\n",
       "      <th>18201</th>\n",
       "      <td>2017-11-07</td>\n",
       "      <td>84.77000</td>\n",
       "    </tr>\n",
       "    <tr>\n",
       "      <th>18202</th>\n",
       "      <td>2017-11-08</td>\n",
       "      <td>84.14000</td>\n",
       "    </tr>\n",
       "    <tr>\n",
       "      <th>18203</th>\n",
       "      <td>2017-11-09</td>\n",
       "      <td>84.11000</td>\n",
       "    </tr>\n",
       "    <tr>\n",
       "      <th>18204</th>\n",
       "      <td>2017-11-10</td>\n",
       "      <td>83.79000</td>\n",
       "    </tr>\n",
       "  </tbody>\n",
       "</table>\n",
       "<p>7983 rows × 2 columns</p>\n",
       "</div>"
      ],
      "text/plain": [
       "             Date      Open\n",
       "10222  1986-03-13   0.06720\n",
       "10223  1986-03-14   0.07533\n",
       "10224  1986-03-17   0.07533\n",
       "10225  1986-03-18   0.07533\n",
       "10226  1986-03-19   0.07533\n",
       "...           ...       ...\n",
       "18200  2017-11-06  84.20000\n",
       "18201  2017-11-07  84.77000\n",
       "18202  2017-11-08  84.14000\n",
       "18203  2017-11-09  84.11000\n",
       "18204  2017-11-10  83.79000\n",
       "\n",
       "[7983 rows x 2 columns]"
      ]
     },
     "execution_count": 8,
     "metadata": {},
     "output_type": "execute_result"
    }
   ],
   "source": [
    "msft"
   ]
  },
  {
   "cell_type": "code",
   "execution_count": 13,
   "id": "cbc39ed0-f581-413d-8471-d7d0e36c2a43",
   "metadata": {},
   "outputs": [
    {
     "data": {
      "text/plain": [
       "90"
      ]
     },
     "execution_count": 13,
     "metadata": {},
     "output_type": "execute_result"
    }
   ],
   "source": [
    "len(msft['Open'].values[100:190])"
   ]
  },
  {
   "cell_type": "code",
   "execution_count": 14,
   "id": "a340ec83-77aa-423b-8bd1-4c84b425fa90",
   "metadata": {},
   "outputs": [],
   "source": [
    "x = []\n",
    "y = []\n",
    "for i in range(100,7983):\n",
    "    x.append(msft['Open'].values[i-100:i])\n",
    "    y.append(msft['Open'].values[i])"
   ]
  },
  {
   "cell_type": "code",
   "execution_count": 16,
   "id": "77b3f368-1f2d-48d2-b1f0-2644b66e9bef",
   "metadata": {},
   "outputs": [],
   "source": [
    "import numpy as np"
   ]
  },
  {
   "cell_type": "code",
   "execution_count": 17,
   "id": "4b90b2da-7449-40fb-8b47-2b1a1f1f66e5",
   "metadata": {},
   "outputs": [],
   "source": [
    "x = np.array(x)\n",
    "y = np.array(y)"
   ]
  },
  {
   "cell_type": "code",
   "execution_count": 18,
   "id": "71c36a57-426c-4f08-882f-61bdc923a9be",
   "metadata": {},
   "outputs": [],
   "source": [
    "x.shape"
   ]
  },
  {
   "cell_type": "code",
   "execution_count": 20,
   "id": "f73d9cbe-85f1-4466-b37e-88bbe5b6826a",
   "metadata": {},
   "outputs": [
    {
     "data": {
      "text/plain": [
       "array([[6.7200e-02, 7.5330e-02, 7.5330e-02, ..., 7.5330e-02, 7.5330e-02,\n",
       "        7.5330e-02],\n",
       "       [7.5330e-02, 7.5330e-02, 7.5330e-02, ..., 7.5330e-02, 7.5330e-02,\n",
       "        7.5330e-02],\n",
       "       [7.5330e-02, 7.5330e-02, 7.5330e-02, ..., 7.5330e-02, 7.5330e-02,\n",
       "        7.5330e-02],\n",
       "       ...,\n",
       "       [7.0126e+01, 7.0445e+01, 6.9838e+01, ..., 8.4080e+01, 8.4200e+01,\n",
       "        8.4770e+01],\n",
       "       [7.0445e+01, 6.9838e+01, 7.0166e+01, ..., 8.4200e+01, 8.4770e+01,\n",
       "        8.4140e+01],\n",
       "       [6.9838e+01, 7.0166e+01, 6.9719e+01, ..., 8.4770e+01, 8.4140e+01,\n",
       "        8.4110e+01]])"
      ]
     },
     "execution_count": 20,
     "metadata": {},
     "output_type": "execute_result"
    }
   ],
   "source": [
    "x"
   ]
  },
  {
   "cell_type": "code",
   "execution_count": 21,
   "id": "fa1412bf-24f8-4663-8813-3dd26be4e086",
   "metadata": {},
   "outputs": [],
   "source": [
    "x = np.reshape(x,(x.shape[0],x.shape[1],1))"
   ]
  },
  {
   "cell_type": "code",
   "execution_count": 22,
   "id": "1a0d30e1-6921-4a75-bf5a-8c13153eafd1",
   "metadata": {},
   "outputs": [
    {
     "data": {
      "text/plain": [
       "7883"
      ]
     },
     "execution_count": 22,
     "metadata": {},
     "output_type": "execute_result"
    }
   ],
   "source": [
    "len(x)"
   ]
  },
  {
   "cell_type": "code",
   "execution_count": 23,
   "id": "43d374a5-6112-4f35-a991-f641e7b1952a",
   "metadata": {},
   "outputs": [
    {
     "data": {
      "text/plain": [
       "array([7.533e-02, 7.533e-02, 7.533e-02, ..., 8.414e+01, 8.411e+01,\n",
       "       8.379e+01])"
      ]
     },
     "execution_count": 23,
     "metadata": {},
     "output_type": "execute_result"
    }
   ],
   "source": [
    "y"
   ]
  },
  {
   "cell_type": "raw",
   "id": "63b115fb-9ed5-471f-96b7-c99c215f26fe",
   "metadata": {},
   "source": [
    "x = this is 100 stock prices and\n",
    "y=  the stock prices after 100 ... \n",
    "This is then trying to calculate the trend"
   ]
  },
  {
   "cell_type": "code",
   "execution_count": 24,
   "id": "a2f62908-1425-4706-b0ad-6154ba5b268f",
   "metadata": {},
   "outputs": [],
   "source": [
    "from keras.layers import LSTM"
   ]
  },
  {
   "cell_type": "code",
   "execution_count": 26,
   "id": "0d55f321-5ca7-4ab0-b179-3731c64b150d",
   "metadata": {},
   "outputs": [],
   "source": [
    "from keras.models import Sequential\n",
    "from keras.layers import Dense"
   ]
  },
  {
   "cell_type": "code",
   "execution_count": 27,
   "id": "28d41879-619a-4148-8924-743dd58ca3c9",
   "metadata": {},
   "outputs": [],
   "source": [
    "\n",
    "model = Sequential()\n",
    "model.add(LSTM(units=200, return_sequences=True, input_shape=(100,1)))\n",
    "model.add(LSTM(units=200, return_sequences=True))\n",
    "model.add(LSTM(units=200, return_sequences=True))\n",
    "model.add(LSTM(units=200, return_sequences=True))\n",
    "model.add(LSTM(units=200, return_sequences=True))\n",
    "model.add(LSTM(units=200))\n",
    "model.add(Dense(units=1))\n",
    "model.compile(optimizer='rmsprop', loss='mse', metrics=['mae','accuracy'])"
   ]
  },
  {
   "cell_type": "code",
   "execution_count": null,
   "id": "9ccacf03-91f5-484e-8e3b-d9f6cb77e4e2",
   "metadata": {},
   "outputs": [
    {
     "name": "stdout",
     "output_type": "stream",
     "text": [
      "Epoch 1/10\n",
      " 10/158 [>.............................] - ETA: 5:24 - loss: 526.6297 - mae: 17.0279 - accuracy: 0.0000e+00"
     ]
    }
   ],
   "source": [
    "model.fit(x,y, epochs=10, batch_size=50)"
   ]
  },
  {
   "cell_type": "code",
   "execution_count": null,
   "id": "4b089ed3-f17e-4f1e-b2ff-1e913a515aaf",
   "metadata": {},
   "outputs": [],
   "source": []
  }
 ],
 "metadata": {
  "kernelspec": {
   "display_name": "Python 3",
   "language": "python",
   "name": "python3"
  },
  "language_info": {
   "codemirror_mode": {
    "name": "ipython",
    "version": 3
   },
   "file_extension": ".py",
   "mimetype": "text/x-python",
   "name": "python",
   "nbconvert_exporter": "python",
   "pygments_lexer": "ipython3",
   "version": "3.8.8"
  }
 },
 "nbformat": 4,
 "nbformat_minor": 5
}
