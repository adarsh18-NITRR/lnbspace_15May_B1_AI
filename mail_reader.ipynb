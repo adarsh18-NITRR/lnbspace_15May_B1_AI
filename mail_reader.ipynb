{
 "cells": [
  {
   "cell_type": "code",
   "execution_count": 73,
   "id": "6c4d8e84-daa4-4eaa-affc-1f56e6265102",
   "metadata": {},
   "outputs": [],
   "source": [
    "import smtplib\n",
    "import imaplib\n",
    "import email\n",
    "from bs4 import BeautifulSoup"
   ]
  },
  {
   "cell_type": "code",
   "execution_count": 187,
   "id": "6a3ac40a-23b9-4cde-81a4-ebec00a89bf4",
   "metadata": {},
   "outputs": [],
   "source": [
    "mailer = imaplib.IMAP4_SSL('smtp.gmail.com')\n",
    "mailer.login('adarsh.raigarha@gmail.com','Ady.OPJS')\n",
    "mailer.select('inbox')\n",
    "\n",
    "t, data = mailer.search(None, 'ALL')\n",
    "#data - data is list of the email\n",
    "email_ind = data[0]\n",
    "# email_ing is the proper number of emails\n",
    "indx = email_ind.split()\n",
    "latest_mail_ind = indx[-1]\n",
    "first_mail_ind = indx[0]\n",
    "random_mail_ind = indx[30]"
   ]
  },
  {
   "cell_type": "raw",
   "id": "d22fa01e-eda3-4ec6-bc30-38c5bca75a23",
   "metadata": {},
   "source": [
    "latest_mail_ind"
   ]
  },
  {
   "cell_type": "code",
   "execution_count": 134,
   "id": "04ea983a-b925-4e55-a50e-3e4588088fce",
   "metadata": {
    "scrolled": true,
    "tags": []
   },
   "outputs": [],
   "source": [
    "t1,data_mail = mailer.fetch(random_mail_ind, '(RFC822)')\n",
    "data1 = data_mail[0] #this is first part of data mail\n",
    "# print(len(data1))\n",
    "# data[1]\n",
    "\n",
    "msg = email.message_from_bytes(data1[1])\n",
    "# print(msg['HTML'])\n",
    "msg = msg.get_payload(1)\n",
    "\n",
    "print(str(msg))\n",
    "\n",
    "soup = BeautifulSoup(str(msg), features='lxml')\n",
    "\n",
    "final_msg = soup.get_text(strip=True)"
   ]
  },
  {
   "cell_type": "code",
   "execution_count": 139,
   "id": "7f86ad25-9d60-4212-8972-c5c7c6b33ea5",
   "metadata": {},
   "outputs": [],
   "source": []
  },
  {
   "cell_type": "code",
   "execution_count": 152,
   "id": "95e040a3-ec7e-47f7-84ea-8cd3ef659892",
   "metadata": {},
   "outputs": [],
   "source": [
    "dict1 = {}\n",
    "for i in range(1,1000):\n",
    "    mail_ind = indx[i]\n",
    "    t1,data_mail = mailer.fetch(mail_ind, '(RFC822)')\n",
    "    data1 = data_mail[0] #this is first part of data_mail\n",
    "\n",
    "    msg = email.message_from_bytes(data1[1])\n",
    "    # print(msg['HTML'])\n",
    "    if msg.is_multipart():\n",
    "        try:            \n",
    "            msg = msg.get_payload(i=0)\n",
    "            soup = BeautifulSoup(str(msg), features='lxml')\n",
    "            final_msg = soup.get_text(strip=True)\n",
    "            dict1[i] = final_msg\n",
    "        except:\n",
    "            msg = msg.get_payload(i=1)\n",
    "            soup = BeautifulSoup(str(msg), features='lxml')\n",
    "            final_msg = soup.get_text(strip=True)\n",
    "            dict1[i] = final_msg\n",
    "    else:\n",
    "        msg = msg.get_payload()\n",
    "        soup = BeautifulSoup(str(msg), features='lxml')\n",
    "        final_msg = soup.get_text(strip=True)\n",
    "        dict1[i] = final_msg\n",
    "        "
   ]
  },
  {
   "cell_type": "code",
   "execution_count": 154,
   "id": "7edb372f-1599-4693-b40b-fcd0cc7a6574",
   "metadata": {},
   "outputs": [
    {
     "data": {
      "text/plain": [
       "999"
      ]
     },
     "execution_count": 154,
     "metadata": {},
     "output_type": "execute_result"
    }
   ],
   "source": [
    "len(dict1)"
   ]
  },
  {
   "cell_type": "code",
   "execution_count": 169,
   "id": "3dca0d15-4cf7-45d5-92a1-6eb19ec9ecae",
   "metadata": {},
   "outputs": [],
   "source": [
    "df_mails = pd.DataFrame(dict1.values(), columns=['content'])"
   ]
  },
  {
   "cell_type": "code",
   "execution_count": 173,
   "id": "d0b16a85-c0a6-4836-be79-da9ca8db54f4",
   "metadata": {},
   "outputs": [],
   "source": [
    "spam_result_dict_mails = {}\n",
    "for i in range(1,1000):\n",
    "    spam_result_dict_mails[i] = 0"
   ]
  },
  {
   "cell_type": "code",
   "execution_count": 174,
   "id": "7faaf303-e721-46a9-a45a-dcdc93945441",
   "metadata": {},
   "outputs": [],
   "source": [
    "spam_result_DF_mails = pd.DataFrame(spam_result_dict_mails.values(), columns=['spam'])"
   ]
  },
  {
   "cell_type": "code",
   "execution_count": 181,
   "id": "c4741da1-d6d0-4de0-84c2-13badf4caec5",
   "metadata": {},
   "outputs": [],
   "source": [
    "right_mail = pd.concat([df_mails , spam_result_DF_mails['spam']], axis=1)"
   ]
  },
  {
   "cell_type": "code",
   "execution_count": 182,
   "id": "9f7e7d8a-b0c2-4546-a9c2-60b28c013f73",
   "metadata": {},
   "outputs": [],
   "source": [
    "import csv"
   ]
  },
  {
   "cell_type": "code",
   "execution_count": 183,
   "id": "01908b9e-4944-4283-93f9-6dc730e20fc2",
   "metadata": {},
   "outputs": [],
   "source": [
    "right_mail.to_csv('Mails_NotSpam.csv')"
   ]
  },
  {
   "cell_type": "code",
   "execution_count": 188,
   "id": "d221cb00-f72b-4c2d-98d4-db95ddaacbe3",
   "metadata": {},
   "outputs": [
    {
     "data": {
      "text/plain": [
       "('OK',\n",
       " [b'(\\\\HasNoChildren) \"/\" \"INBOX\"',\n",
       "  b'(\\\\HasChildren \\\\Noselect) \"/\" \"[Gmail]\"',\n",
       "  b'(\\\\All \\\\HasNoChildren) \"/\" \"[Gmail]/All Mail\"',\n",
       "  b'(\\\\HasNoChildren \\\\Trash) \"/\" \"[Gmail]/Bin\"',\n",
       "  b'(\\\\Drafts \\\\HasNoChildren) \"/\" \"[Gmail]/Drafts\"',\n",
       "  b'(\\\\HasNoChildren \\\\Important) \"/\" \"[Gmail]/Important\"',\n",
       "  b'(\\\\HasNoChildren \\\\Sent) \"/\" \"[Gmail]/Sent Mail\"',\n",
       "  b'(\\\\HasNoChildren \\\\Junk) \"/\" \"[Gmail]/Spam\"',\n",
       "  b'(\\\\Flagged \\\\HasNoChildren) \"/\" \"[Gmail]/Starred\"'])"
      ]
     },
     "execution_count": 188,
     "metadata": {},
     "output_type": "execute_result"
    }
   ],
   "source": [
    "mailer.list()"
   ]
  },
  {
   "cell_type": "code",
   "execution_count": null,
   "id": "c65d4d62-d981-4d6f-92d7-2b63c90071de",
   "metadata": {},
   "outputs": [],
   "source": []
  }
 ],
 "metadata": {
  "kernelspec": {
   "display_name": "Python 3",
   "language": "python",
   "name": "python3"
  },
  "language_info": {
   "codemirror_mode": {
    "name": "ipython",
    "version": 3
   },
   "file_extension": ".py",
   "mimetype": "text/x-python",
   "name": "python",
   "nbconvert_exporter": "python",
   "pygments_lexer": "ipython3",
   "version": "3.8.8"
  }
 },
 "nbformat": 4,
 "nbformat_minor": 5
}
